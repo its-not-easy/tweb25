{
 "cells": [
  {
   "cell_type": "code",
   "id": "initial_id",
   "metadata": {
    "collapsed": true,
    "ExecuteTime": {
     "end_time": "2025-09-25T20:12:19.596697Z",
     "start_time": "2025-09-25T20:10:38.138034Z"
    }
   },
   "source": [
    "import pandas as pd\n",
    "import sklearn as sk\n",
    "from sklearn.model_selection import train_test_split\n",
    "from sklearn.ensemble import RandomForestClassifier\n",
    "from datetime import datetime\n",
    "\n",
    "df = pd.read_csv(\"feature_updated.csv\", low_memory=False)\n",
    "\n",
    "\n",
    "### STANDARD SETUP\n",
    "\n",
    "features = df.columns\n",
    "to_exclude = ['code', 'status', 'year', 'month', 'dataset', 'split', 'author', 'category', 'MV']\n",
    "features = [x for x in features if x not in to_exclude]\n",
    "# from 0 to 2152: metadata features; from 2152 to 6152 (end): code features\n",
    "# if you want to use the \"combined classifier\", choose all features\n",
    "\n",
    "label = 'status'\n",
    "threshold = 0.912 # this was derived by Ben\n",
    "\n",
    "\n",
    "\n"
   ],
   "outputs": [],
   "execution_count": 1
  },
  {
   "metadata": {
    "ExecuteTime": {
     "end_time": "2025-09-25T18:55:05.702985Z",
     "start_time": "2025-09-25T18:55:05.695984Z"
    }
   },
   "cell_type": "code",
   "source": [
    "def test_clf(clf, test_set, features=features, label=label, threshold=threshold):\n",
    "    '''Handy function to test a classifier, compute the probabilities and print results'''\n",
    "    pred = clf.predict(test_set[features])\n",
    "    probabilities = clf.predict_proba(test_set[features])\n",
    "\n",
    "\n",
    "    y_pred = []\n",
    "    for prob in probabilities:\n",
    "        if prob[0] >= threshold:\n",
    "            y_pred.append(\"benign\")\n",
    "        else:\n",
    "            y_pred.append(\"malware\")\n",
    "\n",
    "\n",
    "    acc = sk.metrics.accuracy_score(test_set[label], y_pred)\n",
    "    prec = sk.metrics.precision_score(test_set[label], y_pred, pos_label='malware')\n",
    "    rec = sk.metrics.recall_score(test_set[label], y_pred, pos_label='malware')\n",
    "    fpr = 1-sk.metrics.recall_score(test_set[label], y_pred, pos_label='benign')\n",
    "\n",
    "\n",
    "\n",
    "    print(\"Accuracy: {:.2f}%,\\tPrecision: {:.2f}%\\tRecall: {:.2f}%\\tFPR: {:.5f}\".format(acc*100, prec*100, rec*100, fpr))\n",
    "\n",
    "    display(pd.crosstab(test_set[label], y_pred, rownames=['True'], colnames=['Pred']))\n",
    "\n",
    "\n",
    "    return probabilities, acc, prec, rec, fpr\n",
    "\n",
    "\n",
    "def get_accuracy(clf, test_set, features=features, label=label, threshold=threshold):\n",
    "    probabilities = clf.predict_proba(test_set[features])\n",
    "\n",
    "\n",
    "    y_pred = []\n",
    "    for prob in probabilities:\n",
    "        if prob[0] >= threshold:\n",
    "            y_pred.append(\"benign\")\n",
    "        else:\n",
    "            y_pred.append(\"malware\")\n",
    "\n",
    "    return sk.metrics.accuracy_score(test_set[label], y_pred)"
   ],
   "id": "b6830a88b8223f39",
   "outputs": [],
   "execution_count": 30
  },
  {
   "metadata": {
    "ExecuteTime": {
     "end_time": "2025-09-25T18:55:06.774906Z",
     "start_time": "2025-09-25T18:55:06.122909Z"
    }
   },
   "cell_type": "code",
   "source": [
    "## These are the extensions of \"Dataset L\" (i.e., published/updated before 2023)\n",
    "\n",
    "df_2022 = df[df['year']<=2022]\n",
    "\n"
   ],
   "id": "37b9a322889ed409",
   "outputs": [],
   "execution_count": 31
  },
  {
   "metadata": {
    "ExecuteTime": {
     "end_time": "2025-09-25T18:55:10.165905Z",
     "start_time": "2025-09-25T18:55:07.055906Z"
    }
   },
   "cell_type": "code",
   "source": [
    "df_2022_benign = df_2022[df_2022['status']=='benign']\n",
    "df_2022_malicious = df_2022[df_2022['status']=='malware']\n",
    "\n",
    "from sklearn.model_selection import train_test_split\n",
    "train_ben, test_ben = train_test_split(df_2022_benign, test_size=0.2, random_state=0)\n",
    "train_mal, test_mal = train_test_split(df_2022_malicious, test_size=0.2, random_state=0)\n",
    "\n",
    "train = pd.concat([train_ben, train_mal])\n",
    "test=pd.concat([test_ben,test_mal])"
   ],
   "id": "3e32cce03fbcdf96",
   "outputs": [],
   "execution_count": 32
  },
  {
   "metadata": {
    "ExecuteTime": {
     "end_time": "2025-09-25T18:55:34.974823Z",
     "start_time": "2025-09-25T18:55:10.529907Z"
    }
   },
   "cell_type": "code",
   "source": [
    "## Define and train the classifier\n",
    "rf = RandomForestClassifier(n_estimators=300, max_features=\"sqrt\", criterion=\"gini\",\n",
    "                                   n_jobs=-2, class_weight=\"balanced\", random_state=1)\n",
    "start = datetime.now()\n",
    "rf.fit(train[features], train[label])\n",
    "print(f\"Training time: f{datetime.now()- start}\")\n",
    "\n",
    "\n",
    "## Test the classifier\n",
    "\n",
    "prob_2022, acc, prec, rec, fpr = test_clf(rf, test, threshold=threshold)"
   ],
   "id": "eef867eb07983d0a",
   "outputs": [
    {
     "name": "stdout",
     "output_type": "stream",
     "text": [
      "Training time: f0:00:22.763429\n",
      "Accuracy: 98.64%,\tPrecision: 90.69%\tRecall: 96.27%\tFPR: 0.01094\n"
     ]
    },
    {
     "data": {
      "text/plain": [
       "Pred     benign  malware\n",
       "True                    \n",
       "benign    12202      135\n",
       "malware      51     1315"
      ],
      "text/html": [
       "<div>\n",
       "<style scoped>\n",
       "    .dataframe tbody tr th:only-of-type {\n",
       "        vertical-align: middle;\n",
       "    }\n",
       "\n",
       "    .dataframe tbody tr th {\n",
       "        vertical-align: top;\n",
       "    }\n",
       "\n",
       "    .dataframe thead th {\n",
       "        text-align: right;\n",
       "    }\n",
       "</style>\n",
       "<table border=\"1\" class=\"dataframe\">\n",
       "  <thead>\n",
       "    <tr style=\"text-align: right;\">\n",
       "      <th>Pred</th>\n",
       "      <th>benign</th>\n",
       "      <th>malware</th>\n",
       "    </tr>\n",
       "    <tr>\n",
       "      <th>True</th>\n",
       "      <th></th>\n",
       "      <th></th>\n",
       "    </tr>\n",
       "  </thead>\n",
       "  <tbody>\n",
       "    <tr>\n",
       "      <th>benign</th>\n",
       "      <td>12202</td>\n",
       "      <td>135</td>\n",
       "    </tr>\n",
       "    <tr>\n",
       "      <th>malware</th>\n",
       "      <td>51</td>\n",
       "      <td>1315</td>\n",
       "    </tr>\n",
       "  </tbody>\n",
       "</table>\n",
       "</div>"
      ]
     },
     "metadata": {},
     "output_type": "display_data",
     "jetTransient": {
      "display_id": null
     }
    }
   ],
   "execution_count": 33
  },
  {
   "metadata": {
    "ExecuteTime": {
     "end_time": "2025-09-25T18:55:43.507503Z",
     "start_time": "2025-09-25T18:55:35.258315Z"
    }
   },
   "cell_type": "code",
   "source": [
    "train_2019 = df[df['year']<=2018]\n",
    "test_2019 = df[df['year']==2019]\n",
    "\n",
    "train_2020 = df[df['year']<=2019]\n",
    "test_2020 = df[df['year']==2020]\n",
    "\n",
    "train_2021 = df[df['year']<=2020]\n",
    "test_2021 = df[df['year']==2021]\n",
    "\n",
    "train_2022 = df[df['year']<=2021]\n",
    "test_2022 = df[df['year']==2022]\n",
    "\n",
    "train_2023 = df[df['year']<=2022]"
   ],
   "id": "2131200ea760e20a",
   "outputs": [],
   "execution_count": 34
  },
  {
   "metadata": {
    "ExecuteTime": {
     "end_time": "2025-09-25T18:55:49.464244Z",
     "start_time": "2025-09-25T18:55:44.072506Z"
    }
   },
   "cell_type": "code",
   "source": [
    "## Define and train the classifier\n",
    "rf_2019 = RandomForestClassifier(n_estimators=300, max_features=\"sqrt\", criterion=\"gini\",\n",
    "                                   n_jobs=-2, class_weight=\"balanced\", random_state=1)\n",
    "start = datetime.now()\n",
    "rf_2019.fit(train_2019[features], train_2019[label])\n",
    "print(f\"Training time: f{datetime.now()- start}\")\n",
    "\n",
    "\n",
    "## Test the classifier\n",
    "\n",
    "prob_2019, acc, prec, rec, fpr = test_clf(rf_2019, test_2019, threshold=threshold)"
   ],
   "id": "391ef14459d0f380",
   "outputs": [
    {
     "name": "stdout",
     "output_type": "stream",
     "text": [
      "Training time: f0:00:04.354942\n",
      "Accuracy: 94.23%,\tPrecision: 99.92%\tRecall: 82.03%\tFPR: 0.00031\n"
     ]
    },
    {
     "data": {
      "text/plain": [
       "Pred     benign  malware\n",
       "True                    \n",
       "benign     6512        2\n",
       "malware     550     2511"
      ],
      "text/html": [
       "<div>\n",
       "<style scoped>\n",
       "    .dataframe tbody tr th:only-of-type {\n",
       "        vertical-align: middle;\n",
       "    }\n",
       "\n",
       "    .dataframe tbody tr th {\n",
       "        vertical-align: top;\n",
       "    }\n",
       "\n",
       "    .dataframe thead th {\n",
       "        text-align: right;\n",
       "    }\n",
       "</style>\n",
       "<table border=\"1\" class=\"dataframe\">\n",
       "  <thead>\n",
       "    <tr style=\"text-align: right;\">\n",
       "      <th>Pred</th>\n",
       "      <th>benign</th>\n",
       "      <th>malware</th>\n",
       "    </tr>\n",
       "    <tr>\n",
       "      <th>True</th>\n",
       "      <th></th>\n",
       "      <th></th>\n",
       "    </tr>\n",
       "  </thead>\n",
       "  <tbody>\n",
       "    <tr>\n",
       "      <th>benign</th>\n",
       "      <td>6512</td>\n",
       "      <td>2</td>\n",
       "    </tr>\n",
       "    <tr>\n",
       "      <th>malware</th>\n",
       "      <td>550</td>\n",
       "      <td>2511</td>\n",
       "    </tr>\n",
       "  </tbody>\n",
       "</table>\n",
       "</div>"
      ]
     },
     "metadata": {},
     "output_type": "display_data",
     "jetTransient": {
      "display_id": null
     }
    }
   ],
   "execution_count": 35
  },
  {
   "metadata": {
    "ExecuteTime": {
     "end_time": "2025-09-25T18:55:58.271244Z",
     "start_time": "2025-09-25T18:55:49.825245Z"
    }
   },
   "cell_type": "code",
   "source": [
    "## Define and train the classifier\n",
    "rf_2020 = RandomForestClassifier(n_estimators=300, max_features=\"sqrt\", criterion=\"gini\",\n",
    "                                   n_jobs=-2, class_weight=\"balanced\", random_state=1)\n",
    "start = datetime.now()\n",
    "rf_2020.fit(train_2020[features], train_2020[label])\n",
    "print(f\"Training time: f{datetime.now()- start}\")\n",
    "\n",
    "\n",
    "## Test the classifier\n",
    "\n",
    "prob_2020, acc, prec, rec, fpr = test_clf(rf_2020, test_2020, threshold=threshold)"
   ],
   "id": "8819b2cdb6ae7f67",
   "outputs": [
    {
     "name": "stdout",
     "output_type": "stream",
     "text": [
      "Training time: f0:00:07.124002\n",
      "Accuracy: 96.31%,\tPrecision: 99.26%\tRecall: 81.25%\tFPR: 0.00143\n"
     ]
    },
    {
     "data": {
      "text/plain": [
       "Pred     benign  malware\n",
       "True                    \n",
       "benign     9080       13\n",
       "malware     401     1738"
      ],
      "text/html": [
       "<div>\n",
       "<style scoped>\n",
       "    .dataframe tbody tr th:only-of-type {\n",
       "        vertical-align: middle;\n",
       "    }\n",
       "\n",
       "    .dataframe tbody tr th {\n",
       "        vertical-align: top;\n",
       "    }\n",
       "\n",
       "    .dataframe thead th {\n",
       "        text-align: right;\n",
       "    }\n",
       "</style>\n",
       "<table border=\"1\" class=\"dataframe\">\n",
       "  <thead>\n",
       "    <tr style=\"text-align: right;\">\n",
       "      <th>Pred</th>\n",
       "      <th>benign</th>\n",
       "      <th>malware</th>\n",
       "    </tr>\n",
       "    <tr>\n",
       "      <th>True</th>\n",
       "      <th></th>\n",
       "      <th></th>\n",
       "    </tr>\n",
       "  </thead>\n",
       "  <tbody>\n",
       "    <tr>\n",
       "      <th>benign</th>\n",
       "      <td>9080</td>\n",
       "      <td>13</td>\n",
       "    </tr>\n",
       "    <tr>\n",
       "      <th>malware</th>\n",
       "      <td>401</td>\n",
       "      <td>1738</td>\n",
       "    </tr>\n",
       "  </tbody>\n",
       "</table>\n",
       "</div>"
      ]
     },
     "metadata": {},
     "output_type": "display_data",
     "jetTransient": {
      "display_id": null
     }
    }
   ],
   "execution_count": 36
  },
  {
   "metadata": {
    "ExecuteTime": {
     "end_time": "2025-09-25T18:56:22.252788Z",
     "start_time": "2025-09-25T18:55:58.590243Z"
    }
   },
   "cell_type": "code",
   "source": [
    "## Define and train the classifier\n",
    "rf_2021 = RandomForestClassifier(n_estimators=300, max_features=\"sqrt\", criterion=\"gini\",\n",
    "                                   n_jobs=-2, class_weight=\"balanced\", random_state=1)\n",
    "start = datetime.now()\n",
    "rf_2021.fit(train_2021[features], train_2021[label])\n",
    "print(f\"Training time: f{datetime.now()- start}\")\n",
    "\n",
    "\n",
    "## Test the classifier\n",
    "\n",
    "prob_2021, acc, prec, rec, fpr = test_clf(rf_2021, test_2021, threshold=threshold)"
   ],
   "id": "3aafd6c21efd47e3",
   "outputs": [
    {
     "name": "stdout",
     "output_type": "stream",
     "text": [
      "Training time: f0:00:22.383738\n",
      "Accuracy: 94.91%,\tPrecision: 39.42%\tRecall: 55.70%\tFPR: 0.03494\n"
     ]
    },
    {
     "data": {
      "text/plain": [
       "Pred     benign  malware\n",
       "True                    \n",
       "benign    10993      398\n",
       "malware     206      259"
      ],
      "text/html": [
       "<div>\n",
       "<style scoped>\n",
       "    .dataframe tbody tr th:only-of-type {\n",
       "        vertical-align: middle;\n",
       "    }\n",
       "\n",
       "    .dataframe tbody tr th {\n",
       "        vertical-align: top;\n",
       "    }\n",
       "\n",
       "    .dataframe thead th {\n",
       "        text-align: right;\n",
       "    }\n",
       "</style>\n",
       "<table border=\"1\" class=\"dataframe\">\n",
       "  <thead>\n",
       "    <tr style=\"text-align: right;\">\n",
       "      <th>Pred</th>\n",
       "      <th>benign</th>\n",
       "      <th>malware</th>\n",
       "    </tr>\n",
       "    <tr>\n",
       "      <th>True</th>\n",
       "      <th></th>\n",
       "      <th></th>\n",
       "    </tr>\n",
       "  </thead>\n",
       "  <tbody>\n",
       "    <tr>\n",
       "      <th>benign</th>\n",
       "      <td>10993</td>\n",
       "      <td>398</td>\n",
       "    </tr>\n",
       "    <tr>\n",
       "      <th>malware</th>\n",
       "      <td>206</td>\n",
       "      <td>259</td>\n",
       "    </tr>\n",
       "  </tbody>\n",
       "</table>\n",
       "</div>"
      ]
     },
     "metadata": {},
     "output_type": "display_data",
     "jetTransient": {
      "display_id": null
     }
    }
   ],
   "execution_count": 37
  },
  {
   "metadata": {
    "ExecuteTime": {
     "end_time": "2025-09-25T18:56:44.865580Z",
     "start_time": "2025-09-25T18:56:22.616788Z"
    }
   },
   "cell_type": "code",
   "source": [
    "## Define and train the classifier\n",
    "rf_2022 = RandomForestClassifier(n_estimators=300, max_features=\"sqrt\", criterion=\"gini\",\n",
    "                                   n_jobs=-2, class_weight=\"balanced\", random_state=1)\n",
    "start = datetime.now()\n",
    "rf_2022.fit(train_2022[features], train_2022[label])\n",
    "print(f\"Training time: f{datetime.now()- start}\")\n",
    "\n",
    "\n",
    "## Test the classifier\n",
    "\n",
    "prob_2022, acc, prec, rec, fpr = test_clf(rf_2022, test_2022, threshold=threshold)"
   ],
   "id": "404b2b1326f17595",
   "outputs": [
    {
     "name": "stdout",
     "output_type": "stream",
     "text": [
      "Training time: f0:00:20.916882\n",
      "Accuracy: 95.13%,\tPrecision: 29.14%\tRecall: 52.49%\tFPR: 0.03650\n"
     ]
    },
    {
     "data": {
      "text/plain": [
       "Pred     benign  malware\n",
       "True                    \n",
       "benign    13543      513\n",
       "malware     191      211"
      ],
      "text/html": [
       "<div>\n",
       "<style scoped>\n",
       "    .dataframe tbody tr th:only-of-type {\n",
       "        vertical-align: middle;\n",
       "    }\n",
       "\n",
       "    .dataframe tbody tr th {\n",
       "        vertical-align: top;\n",
       "    }\n",
       "\n",
       "    .dataframe thead th {\n",
       "        text-align: right;\n",
       "    }\n",
       "</style>\n",
       "<table border=\"1\" class=\"dataframe\">\n",
       "  <thead>\n",
       "    <tr style=\"text-align: right;\">\n",
       "      <th>Pred</th>\n",
       "      <th>benign</th>\n",
       "      <th>malware</th>\n",
       "    </tr>\n",
       "    <tr>\n",
       "      <th>True</th>\n",
       "      <th></th>\n",
       "      <th></th>\n",
       "    </tr>\n",
       "  </thead>\n",
       "  <tbody>\n",
       "    <tr>\n",
       "      <th>benign</th>\n",
       "      <td>13543</td>\n",
       "      <td>513</td>\n",
       "    </tr>\n",
       "    <tr>\n",
       "      <th>malware</th>\n",
       "      <td>191</td>\n",
       "      <td>211</td>\n",
       "    </tr>\n",
       "  </tbody>\n",
       "</table>\n",
       "</div>"
      ]
     },
     "metadata": {},
     "output_type": "display_data",
     "jetTransient": {
      "display_id": null
     }
    }
   ],
   "execution_count": 38
  },
  {
   "metadata": {
    "ExecuteTime": {
     "end_time": "2025-09-25T18:57:11.061636Z",
     "start_time": "2025-09-25T18:56:45.177582Z"
    }
   },
   "cell_type": "code",
   "source": [
    "## Define and train the classifier\n",
    "rf_2023 = RandomForestClassifier(n_estimators=300, max_features=\"sqrt\", criterion=\"gini\",\n",
    "                                   n_jobs=-2, class_weight=\"balanced\", random_state=1)\n",
    "start = datetime.now()\n",
    "rf_2023.fit(train_2023[features], train_2023[label])\n",
    "print(f\"Training time: f{datetime.now()- start}\")"
   ],
   "id": "924955ebaedd241b",
   "outputs": [
    {
     "name": "stdout",
     "output_type": "stream",
     "text": [
      "Training time: f0:00:25.792007\n"
     ]
    }
   ],
   "execution_count": 39
  },
  {
   "metadata": {
    "ExecuteTime": {
     "end_time": "2025-09-25T18:57:11.358636Z",
     "start_time": "2025-09-25T18:57:11.345635Z"
    }
   },
   "cell_type": "code",
   "source": "## NEXT CELLS focus on the feature importances",
   "id": "35fd6b4b497168b8",
   "outputs": [],
   "execution_count": 40
  },
  {
   "metadata": {
    "ExecuteTime": {
     "end_time": "2025-09-25T18:57:11.467636Z",
     "start_time": "2025-09-25T18:57:11.380636Z"
    }
   },
   "cell_type": "code",
   "source": [
    "# 1. Extract feature importances\n",
    "importances = rf_2019.feature_importances_\n",
    "\n",
    "# 2. Pair each feature with its importance\n",
    "feature_importances = list(zip(features, importances))\n",
    "\n",
    "# 3. Sort by importance in descending order\n",
    "feature_importances.sort(key=lambda x: x[1], reverse=True)\n",
    "\n",
    "# 4. Print the top 5 features (feature name and importance)\n",
    "print(\"Top 5 most important features:\")\n",
    "for name, importance in feature_importances[:5]:\n",
    "    print(f\"{name}: {importance:.4f}\")"
   ],
   "id": "45ecbe2c0dc696be",
   "outputs": [
    {
     "name": "stdout",
     "output_type": "stream",
     "text": [
      "Top 5 most important features:\n",
      "fileCount: 0.0272\n",
      "Full-Summary LOVE: 0.0212\n",
      "Full-Summary HIGH: 0.0211\n",
      "157: 0.0209\n",
      "105: 0.0171\n"
     ]
    }
   ],
   "execution_count": 41
  },
  {
   "metadata": {
    "ExecuteTime": {
     "end_time": "2025-09-25T18:57:11.546635Z",
     "start_time": "2025-09-25T18:57:11.475637Z"
    }
   },
   "cell_type": "code",
   "source": [
    "# 1. Extract feature importances\n",
    "importances = rf_2020.feature_importances_\n",
    "\n",
    "# 2. Pair each feature with its importance\n",
    "feature_importances = list(zip(features, importances))\n",
    "\n",
    "# 3. Sort by importance in descending order\n",
    "feature_importances.sort(key=lambda x: x[1], reverse=True)\n",
    "\n",
    "# 4. Print the top 5 features (feature name and importance)\n",
    "print(\"Top 5 most important features:\")\n",
    "for name, importance in feature_importances[:5]:\n",
    "    print(f\"{name}: {importance:.4f}\")"
   ],
   "id": "acbee2833cccaecd",
   "outputs": [
    {
     "name": "stdout",
     "output_type": "stream",
     "text": [
      "Top 5 most important features:\n",
      "fileCount: 0.0271\n",
      "Permissions topSites: 0.0245\n",
      "Full-Summary THEME: 0.0196\n",
      "Full-Summary WALLPAPER: 0.0185\n",
      "Full-Summary FAVORITE: 0.0175\n"
     ]
    }
   ],
   "execution_count": 42
  },
  {
   "metadata": {
    "ExecuteTime": {
     "end_time": "2025-09-25T18:57:11.623637Z",
     "start_time": "2025-09-25T18:57:11.559636Z"
    }
   },
   "cell_type": "code",
   "source": [
    "# 1. Extract feature importances\n",
    "importances = rf_2021.feature_importances_\n",
    "\n",
    "# 2. Pair each feature with its importance\n",
    "feature_importances = list(zip(features, importances))\n",
    "\n",
    "# 3. Sort by importance in descending order\n",
    "feature_importances.sort(key=lambda x: x[1], reverse=True)\n",
    "\n",
    "# 4. Print the top 5 features (feature name and importance)\n",
    "print(\"Top 5 most important features:\")\n",
    "for name, importance in feature_importances[:5]:\n",
    "    print(f\"{name}: {importance:.4f}\")"
   ],
   "id": "b2b049ebeeb423d9",
   "outputs": [
    {
     "name": "stdout",
     "output_type": "stream",
     "text": [
      "Top 5 most important features:\n",
      "fileCount: 0.0241\n",
      "Full-Summary WALLPAPER: 0.0223\n",
      "size: 0.0178\n",
      "Full-Summary FAVORITE: 0.0170\n",
      "Description TAB: 0.0164\n"
     ]
    }
   ],
   "execution_count": 43
  },
  {
   "metadata": {
    "ExecuteTime": {
     "end_time": "2025-09-25T18:57:11.703636Z",
     "start_time": "2025-09-25T18:57:11.649636Z"
    }
   },
   "cell_type": "code",
   "source": [
    "# 1. Extract feature importances\n",
    "importances = rf_2022.feature_importances_\n",
    "\n",
    "# 2. Pair each feature with its importance\n",
    "feature_importances = list(zip(features, importances))\n",
    "\n",
    "# 3. Sort by importance in descending order\n",
    "feature_importances.sort(key=lambda x: x[1], reverse=True)\n",
    "\n",
    "# 4. Print the top 5 features (feature name and importance)\n",
    "print(\"Top 5 most important features:\")\n",
    "for name, importance in feature_importances[:5]:\n",
    "    print(f\"{name}: {importance:.4f}\")"
   ],
   "id": "e525e411ab266650",
   "outputs": [
    {
     "name": "stdout",
     "output_type": "stream",
     "text": [
      "Top 5 most important features:\n",
      "fileCount: 0.0213\n",
      "Full-Summary WALLPAPER: 0.0196\n",
      "size: 0.0170\n",
      "Description NEW: 0.0146\n",
      "Full-Summary THEME: 0.0126\n"
     ]
    }
   ],
   "execution_count": 44
  },
  {
   "metadata": {
    "ExecuteTime": {
     "end_time": "2025-09-25T18:57:11.779635Z",
     "start_time": "2025-09-25T18:57:11.714637Z"
    }
   },
   "cell_type": "code",
   "source": [
    "# 1. Extract feature importances\n",
    "importances = rf_2023.feature_importances_\n",
    "\n",
    "# 2. Pair each feature with its importance\n",
    "feature_importances = list(zip(features, importances))\n",
    "\n",
    "# 3. Sort by importance in descending order\n",
    "feature_importances.sort(key=lambda x: x[1], reverse=True)\n",
    "\n",
    "# 4. Print the top 5 features (feature name and importance)\n",
    "print(\"Top 5 most important features:\")\n",
    "for name, importance in feature_importances[:5]:\n",
    "    print(f\"{name}: {importance:.4f}\")"
   ],
   "id": "23703b0c02ed1e70",
   "outputs": [
    {
     "name": "stdout",
     "output_type": "stream",
     "text": [
      "Top 5 most important features:\n",
      "fileCount: 0.0206\n",
      "Full-Summary FAVORITE: 0.0154\n",
      "Description NEW: 0.0151\n",
      "Full-Summary TIME: 0.0131\n",
      "size: 0.0117\n"
     ]
    }
   ],
   "execution_count": 45
  },
  {
   "metadata": {
    "ExecuteTime": {
     "end_time": "2025-09-25T18:58:18.426365Z",
     "start_time": "2025-09-25T18:58:18.414306Z"
    }
   },
   "cell_type": "code",
   "source": [
    "## We now assess the \"drifting\" perspective of CATEGORIES of extensions\n",
    "\n",
    "## First, let's specify the \"valid categories\". Anything that is not among these is discarded\n",
    "\n",
    "valid_categories = [\"7_productivity\", \"14_fun\", \"11_web-development\", \"1_communication\", \"22_accessibility\", \"12_shopping\", \"28_photos\", \"6_news\", \"38_search-tools\"]\n"
   ],
   "id": "8083100b23fa9b41",
   "outputs": [],
   "execution_count": 47
  },
  {
   "metadata": {
    "ExecuteTime": {
     "end_time": "2025-09-25T18:58:19.515638Z",
     "start_time": "2025-09-25T18:58:19.500639Z"
    }
   },
   "cell_type": "code",
   "source": [
    "def test_across_categories(test_df, valid_categories, features, model, threshold, label):\n",
    "\n",
    "    for cat in valid_categories:\n",
    "        # Select only the rows of 'test' that belong to the current category\n",
    "        subset = test_df[test_df[\"category\"] == cat]\n",
    "        num_samples = len(subset)\n",
    "\n",
    "        if num_samples == 0:\n",
    "            print(f\"No test examples for category '{cat}'.\")\n",
    "            continue\n",
    "\n",
    "\n",
    "        # Compute the accuracy\n",
    "        accuracy = get_accuracy(model, subset, features, label, threshold)\n",
    "\n",
    "\n",
    "        # Print category, number of samples, and accuracy\n",
    "        print(f\"Category '{cat}': # samples = {num_samples}, accuracy = {accuracy:.4f}\")\n",
    "\n",
    "    # 2. Treat all categories not in valid_categories as one single group\n",
    "    others_subset = test_df[~test_df[\"category\"].isin(valid_categories)]\n",
    "    num_others = len(others_subset)\n",
    "\n",
    "    if num_others == 0:\n",
    "        print(\"No test examples for 'others' category group.\")\n",
    "    else:\n",
    "        accuracy_others = get_accuracy(model, others_subset, features, label, threshold)\n",
    "        print(f\"'Others' group: # samples = {num_others}, accuracy = {accuracy_others:.4f}\")"
   ],
   "id": "dd370d5e43791b1e",
   "outputs": [],
   "execution_count": 48
  },
  {
   "metadata": {
    "ExecuteTime": {
     "end_time": "2025-09-25T18:58:20.984776Z",
     "start_time": "2025-09-25T18:58:20.219381Z"
    }
   },
   "cell_type": "code",
   "source": [
    "\n",
    "# First, I take the benign and malicious extensions for every test set\n",
    "\n",
    "benign_2019 = test_2019[test_2019[\"status\"]==\"benign\"]\n",
    "malicious_2019 = test_2019[test_2019[\"status\"]==\"malware\"]\n",
    "\n",
    "benign_2020 = test_2020[test_2020[\"status\"]==\"benign\"]\n",
    "malicious_2020 = test_2020[test_2020[\"status\"]==\"malware\"]\n",
    "\n",
    "benign_2021 = test_2021[test_2021[\"status\"]==\"benign\"]\n",
    "malicious_2021 = test_2021[test_2021[\"status\"]==\"malware\"]\n",
    "\n",
    "benign_2022 = test_2022[test_2022[\"status\"]==\"benign\"]\n",
    "malicious_2022 = test_2022[test_2022[\"status\"]==\"malware\"]"
   ],
   "id": "bf540ed8e39174e5",
   "outputs": [],
   "execution_count": 49
  },
  {
   "metadata": {
    "ExecuteTime": {
     "end_time": "2025-09-25T18:58:23.539548Z",
     "start_time": "2025-09-25T18:58:21.750580Z"
    }
   },
   "cell_type": "code",
   "source": [
    "# And now we test!\n",
    "\n",
    "print(\"BENIGN 2019\\n\")\n",
    "test_across_categories(benign_2019, valid_categories, features, model=rf_2019, threshold=threshold, label=label)\n",
    "print(\"\\nbenign avg acc: \", get_accuracy(rf_2019, benign_2019, features, label, threshold))\n",
    "print(\"total benign: \",len(benign_2019)) ## Len benign\n",
    "\n",
    "print(\"\\n\\nMALICIOUS 2019\\n\")\n",
    "test_across_categories(malicious_2019, valid_categories, features, model=rf_2019, threshold=threshold, label=label)\n",
    "print(\"\\nmalicious avg acc: \", get_accuracy(rf_2019, malicious_2019, features, label, threshold))\n",
    "print(\"total malicious: \",len(malicious_2019)) ## Len benign"
   ],
   "id": "8293de0b6d7d5255",
   "outputs": [
    {
     "name": "stdout",
     "output_type": "stream",
     "text": [
      "BENIGN 2019\n",
      "\n",
      "Category '7_productivity': # samples = 2941, accuracy = 1.0000\n",
      "Category '14_fun': # samples = 809, accuracy = 1.0000\n",
      "Category '11_web-development': # samples = 886, accuracy = 1.0000\n",
      "Category '1_communication': # samples = 727, accuracy = 1.0000\n",
      "Category '22_accessibility': # samples = 651, accuracy = 0.9985\n",
      "Category '12_shopping': # samples = 335, accuracy = 1.0000\n",
      "Category '28_photos': # samples = 51, accuracy = 0.9804\n",
      "Category '6_news': # samples = 102, accuracy = 1.0000\n",
      "Category '38_search-tools': # samples = 1, accuracy = 1.0000\n",
      "'Others' group: # samples = 11, accuracy = 1.0000\n",
      "\n",
      "benign avg acc:  0.9996929689898679\n",
      "total benign:  6514\n",
      "\n",
      "\n",
      "MALICIOUS 2019\n",
      "\n",
      "Category '7_productivity': # samples = 34, accuracy = 0.0000\n",
      "Category '14_fun': # samples = 93, accuracy = 0.0108\n",
      "Category '11_web-development': # samples = 30, accuracy = 0.0000\n",
      "Category '1_communication': # samples = 18, accuracy = 0.0000\n",
      "Category '22_accessibility': # samples = 11, accuracy = 0.0000\n",
      "Category '12_shopping': # samples = 4, accuracy = 0.0000\n",
      "Category '28_photos': # samples = 2105, accuracy = 0.8295\n",
      "Category '6_news': # samples = 2, accuracy = 1.0000\n",
      "Category '38_search-tools': # samples = 763, accuracy = 0.9987\n",
      "'Others' group: # samples = 1, accuracy = 0.0000\n",
      "\n",
      "malicious avg acc:  0.8203201568114995\n",
      "total malicious:  3061\n"
     ]
    }
   ],
   "execution_count": 50
  },
  {
   "metadata": {
    "ExecuteTime": {
     "end_time": "2025-09-25T18:58:25.728453Z",
     "start_time": "2025-09-25T18:58:23.823839Z"
    }
   },
   "cell_type": "code",
   "source": [
    "print(\"BENIGN 2020\\n\")\n",
    "test_across_categories(benign_2020, valid_categories, features, model=rf_2020, threshold=threshold, label=label)\n",
    "print(\"\\nbenign avg acc: \", get_accuracy(rf_2020, benign_2020, features, label, threshold))\n",
    "print(\"total benign: \",len(benign_2020)) ## Len benign\n",
    "\n",
    "print(\"\\n\\nMALICIOUS 2020\\n\")\n",
    "test_across_categories(malicious_2020, valid_categories, features, model=rf_2020, threshold=threshold, label=label)\n",
    "print(\"\\nmalicious avg acc: \", get_accuracy(rf_2020, malicious_2020, features, label, threshold))\n",
    "print(\"total malicious: \",len(malicious_2020)) ## Len benign"
   ],
   "id": "bfce2d6b1ebbf336",
   "outputs": [
    {
     "name": "stdout",
     "output_type": "stream",
     "text": [
      "BENIGN 2020\n",
      "\n",
      "Category '7_productivity': # samples = 4417, accuracy = 0.9986\n",
      "Category '14_fun': # samples = 1011, accuracy = 0.9960\n",
      "Category '11_web-development': # samples = 1048, accuracy = 0.9990\n",
      "Category '1_communication': # samples = 969, accuracy = 0.9979\n",
      "Category '22_accessibility': # samples = 870, accuracy = 1.0000\n",
      "Category '12_shopping': # samples = 541, accuracy = 1.0000\n",
      "Category '28_photos': # samples = 70, accuracy = 1.0000\n",
      "Category '6_news': # samples = 164, accuracy = 1.0000\n",
      "No test examples for category '38_search-tools'.\n",
      "'Others' group: # samples = 3, accuracy = 1.0000\n",
      "\n",
      "benign avg acc:  0.9985703288243704\n",
      "total benign:  9093\n",
      "\n",
      "\n",
      "MALICIOUS 2020\n",
      "\n",
      "Category '7_productivity': # samples = 168, accuracy = 0.2738\n",
      "Category '14_fun': # samples = 124, accuracy = 0.3065\n",
      "Category '11_web-development': # samples = 16, accuracy = 0.1250\n",
      "Category '1_communication': # samples = 61, accuracy = 0.1311\n",
      "Category '22_accessibility': # samples = 261, accuracy = 0.6897\n",
      "Category '12_shopping': # samples = 8, accuracy = 0.0000\n",
      "Category '28_photos': # samples = 1458, accuracy = 0.9938\n",
      "Category '6_news': # samples = 2, accuracy = 0.0000\n",
      "Category '38_search-tools': # samples = 40, accuracy = 0.3750\n",
      "'Others' group: # samples = 1, accuracy = 0.0000\n",
      "\n",
      "malicious avg acc:  0.812529219261337\n",
      "total malicious:  2139\n"
     ]
    }
   ],
   "execution_count": 51
  },
  {
   "metadata": {
    "ExecuteTime": {
     "end_time": "2025-09-25T18:58:28.271358Z",
     "start_time": "2025-09-25T18:58:26.010285Z"
    }
   },
   "cell_type": "code",
   "source": [
    "print(\"BENIGN 2021\\n\")\n",
    "test_across_categories(benign_2021, valid_categories, features, model=rf_2021, threshold=threshold, label=label)\n",
    "print(\"\\nbenign avg acc: \", get_accuracy(rf_2021, benign_2021, features, label, threshold))\n",
    "print(\"total benign: \",len(benign_2021)) ## Len benign\n",
    "\n",
    "print(\"\\n\\nMALICIOUS 2021\\n\")\n",
    "test_across_categories(malicious_2021, valid_categories, features, model=rf_2021, threshold=threshold, label=label)\n",
    "print(\"\\nmalicious avg acc: \", get_accuracy(rf_2021, malicious_2021, features, label, threshold))\n",
    "print(\"total malicious: \",len(malicious_2021)) ## Len benign"
   ],
   "id": "6adb30024f26acfd",
   "outputs": [
    {
     "name": "stdout",
     "output_type": "stream",
     "text": [
      "BENIGN 2021\n",
      "\n",
      "Category '7_productivity': # samples = 5784, accuracy = 0.9751\n",
      "Category '14_fun': # samples = 1151, accuracy = 0.9053\n",
      "Category '11_web-development': # samples = 1160, accuracy = 0.9836\n",
      "Category '1_communication': # samples = 1027, accuracy = 0.9620\n",
      "Category '22_accessibility': # samples = 1195, accuracy = 0.9674\n",
      "Category '12_shopping': # samples = 771, accuracy = 0.9844\n",
      "Category '28_photos': # samples = 109, accuracy = 0.7248\n",
      "Category '6_news': # samples = 193, accuracy = 0.9689\n",
      "No test examples for category '38_search-tools'.\n",
      "'Others' group: # samples = 1, accuracy = 1.0000\n",
      "\n",
      "benign avg acc:  0.9650601351944518\n",
      "total benign:  11391\n",
      "\n",
      "\n",
      "MALICIOUS 2021\n",
      "\n",
      "Category '7_productivity': # samples = 186, accuracy = 0.3925\n",
      "Category '14_fun': # samples = 127, accuracy = 0.7717\n",
      "Category '11_web-development': # samples = 15, accuracy = 0.2667\n",
      "Category '1_communication': # samples = 23, accuracy = 0.4783\n",
      "Category '22_accessibility': # samples = 44, accuracy = 0.5000\n",
      "Category '12_shopping': # samples = 29, accuracy = 0.9310\n",
      "Category '28_photos': # samples = 9, accuracy = 0.8889\n",
      "Category '6_news': # samples = 2, accuracy = 1.0000\n",
      "Category '38_search-tools': # samples = 28, accuracy = 0.5000\n",
      "'Others' group: # samples = 2, accuracy = 0.0000\n",
      "\n",
      "malicious avg acc:  0.556989247311828\n",
      "total malicious:  465\n"
     ]
    }
   ],
   "execution_count": 52
  },
  {
   "metadata": {
    "ExecuteTime": {
     "end_time": "2025-09-25T18:58:30.781716Z",
     "start_time": "2025-09-25T18:58:28.552451Z"
    }
   },
   "cell_type": "code",
   "source": [
    "print(\"BENIGN 2022\\n\")\n",
    "test_across_categories(benign_2022, valid_categories, features, model=rf_2022, threshold=threshold, label=label)\n",
    "print(\"\\nbenign avg acc: \", get_accuracy(rf_2022, benign_2022, features, label, threshold))\n",
    "print(\"total benign: \",len(benign_2022)) ## Len benign\n",
    "\n",
    "print(\"\\n\\nMALICIOUS 2022\\n\")\n",
    "test_across_categories(malicious_2022, valid_categories, features, model=rf_2022, threshold=threshold, label=label)\n",
    "print(\"\\nmalicious avg acc: \", get_accuracy(rf_2022, malicious_2022, features, label, threshold))\n",
    "print(\"total malicious: \",len(malicious_2022)) ## Len benign"
   ],
   "id": "109d71588dfd7fef",
   "outputs": [
    {
     "name": "stdout",
     "output_type": "stream",
     "text": [
      "BENIGN 2022\n",
      "\n",
      "Category '7_productivity': # samples = 7308, accuracy = 0.9733\n",
      "Category '14_fun': # samples = 1605, accuracy = 0.8935\n",
      "Category '11_web-development': # samples = 1488, accuracy = 0.9879\n",
      "Category '1_communication': # samples = 1138, accuracy = 0.9587\n",
      "Category '22_accessibility': # samples = 1447, accuracy = 0.9765\n",
      "Category '12_shopping': # samples = 763, accuracy = 0.9817\n",
      "Category '28_photos': # samples = 140, accuracy = 0.7786\n",
      "Category '6_news': # samples = 163, accuracy = 0.9816\n",
      "Category '38_search-tools': # samples = 3, accuracy = 1.0000\n",
      "'Others' group: # samples = 1, accuracy = 1.0000\n",
      "\n",
      "benign avg acc:  0.9635031303357997\n",
      "total benign:  14056\n",
      "\n",
      "\n",
      "MALICIOUS 2022\n",
      "\n",
      "Category '7_productivity': # samples = 117, accuracy = 0.4786\n",
      "Category '14_fun': # samples = 90, accuracy = 0.8333\n",
      "Category '11_web-development': # samples = 15, accuracy = 0.4667\n",
      "Category '1_communication': # samples = 81, accuracy = 0.2963\n",
      "Category '22_accessibility': # samples = 47, accuracy = 0.3404\n",
      "Category '12_shopping': # samples = 7, accuracy = 0.1429\n",
      "Category '28_photos': # samples = 8, accuracy = 1.0000\n",
      "No test examples for category '6_news'.\n",
      "Category '38_search-tools': # samples = 36, accuracy = 0.6389\n",
      "'Others' group: # samples = 1, accuracy = 1.0000\n",
      "\n",
      "malicious avg acc:  0.5248756218905473\n",
      "total malicious:  402\n"
     ]
    }
   ],
   "execution_count": 53
  },
  {
   "metadata": {
    "ExecuteTime": {
     "end_time": "2025-09-25T18:58:31.059435Z",
     "start_time": "2025-09-25T18:58:31.045446Z"
    }
   },
   "cell_type": "code",
   "source": "## Let's try again but without splitting per class",
   "id": "c994b9a8333f07c8",
   "outputs": [],
   "execution_count": 54
  },
  {
   "metadata": {
    "ExecuteTime": {
     "end_time": "2025-09-25T18:58:32.418211Z",
     "start_time": "2025-09-25T18:58:31.094443Z"
    }
   },
   "cell_type": "code",
   "source": [
    "print(\"2019\\n\")\n",
    "test_across_categories(test_2019, valid_categories, features, model=rf_2019, threshold=threshold, label=label)\n",
    "print(\"\\navg acc: \", get_accuracy(rf_2019, test_2019, features, label, threshold))\n",
    "print(\"total samples: \",len(test_2019)) ## Len benign"
   ],
   "id": "b5c91f46902d0d26",
   "outputs": [
    {
     "name": "stdout",
     "output_type": "stream",
     "text": [
      "2019\n",
      "\n",
      "Category '7_productivity': # samples = 2975, accuracy = 0.9886\n",
      "Category '14_fun': # samples = 902, accuracy = 0.8980\n",
      "Category '11_web-development': # samples = 916, accuracy = 0.9672\n",
      "Category '1_communication': # samples = 745, accuracy = 0.9758\n",
      "Category '22_accessibility': # samples = 662, accuracy = 0.9819\n",
      "Category '12_shopping': # samples = 339, accuracy = 0.9882\n",
      "Category '28_photos': # samples = 2156, accuracy = 0.8330\n",
      "Category '6_news': # samples = 104, accuracy = 1.0000\n",
      "Category '38_search-tools': # samples = 764, accuracy = 0.9987\n",
      "'Others' group: # samples = 12, accuracy = 0.9167\n",
      "\n",
      "avg acc:  0.9423498694516971\n",
      "total samples:  9575\n"
     ]
    }
   ],
   "execution_count": 55
  },
  {
   "metadata": {
    "ExecuteTime": {
     "end_time": "2025-09-25T18:58:34.060601Z",
     "start_time": "2025-09-25T18:58:32.697248Z"
    }
   },
   "cell_type": "code",
   "source": [
    "print(\"2020\\n\")\n",
    "test_across_categories(test_2020, valid_categories, features, model=rf_2020, threshold=threshold, label=label)\n",
    "print(\"\\navg acc: \", get_accuracy(rf_2020, test_2020, features, label, threshold))\n",
    "print(\"total samples: \",len(test_2020)) ## Len benign"
   ],
   "id": "3c211b2953ffe63d",
   "outputs": [
    {
     "name": "stdout",
     "output_type": "stream",
     "text": [
      "2020\n",
      "\n",
      "Category '7_productivity': # samples = 4585, accuracy = 0.9721\n",
      "Category '14_fun': # samples = 1135, accuracy = 0.9207\n",
      "Category '11_web-development': # samples = 1064, accuracy = 0.9859\n",
      "Category '1_communication': # samples = 1030, accuracy = 0.9466\n",
      "Category '22_accessibility': # samples = 1131, accuracy = 0.9284\n",
      "Category '12_shopping': # samples = 549, accuracy = 0.9854\n",
      "Category '28_photos': # samples = 1528, accuracy = 0.9941\n",
      "Category '6_news': # samples = 166, accuracy = 0.9880\n",
      "Category '38_search-tools': # samples = 40, accuracy = 0.3750\n",
      "'Others' group: # samples = 4, accuracy = 0.7500\n",
      "\n",
      "avg acc:  0.9631410256410257\n",
      "total samples:  11232\n"
     ]
    }
   ],
   "execution_count": 56
  },
  {
   "metadata": {
    "ExecuteTime": {
     "end_time": "2025-09-25T18:58:35.901167Z",
     "start_time": "2025-09-25T18:58:34.365197Z"
    }
   },
   "cell_type": "code",
   "source": [
    "print(\"2021\\n\")\n",
    "test_across_categories(test_2021, valid_categories, features, model=rf_2021, threshold=threshold, label=label)\n",
    "print(\"\\navg acc: \", get_accuracy(rf_2021, test_2021, features, label, threshold))\n",
    "print(\"total samples: \",len(test_2021)) ## Len benign"
   ],
   "id": "371351a5bb0b6c3e",
   "outputs": [
    {
     "name": "stdout",
     "output_type": "stream",
     "text": [
      "2021\n",
      "\n",
      "Category '7_productivity': # samples = 5970, accuracy = 0.9570\n",
      "Category '14_fun': # samples = 1278, accuracy = 0.8920\n",
      "Category '11_web-development': # samples = 1175, accuracy = 0.9745\n",
      "Category '1_communication': # samples = 1050, accuracy = 0.9514\n",
      "Category '22_accessibility': # samples = 1239, accuracy = 0.9508\n",
      "Category '12_shopping': # samples = 800, accuracy = 0.9825\n",
      "Category '28_photos': # samples = 118, accuracy = 0.7373\n",
      "Category '6_news': # samples = 195, accuracy = 0.9692\n",
      "Category '38_search-tools': # samples = 28, accuracy = 0.5000\n",
      "'Others' group: # samples = 3, accuracy = 0.3333\n",
      "\n",
      "avg acc:  0.949055330634278\n",
      "total samples:  11856\n"
     ]
    }
   ],
   "execution_count": 57
  },
  {
   "metadata": {
    "ExecuteTime": {
     "end_time": "2025-09-25T18:58:37.910049Z",
     "start_time": "2025-09-25T18:58:36.168178Z"
    }
   },
   "cell_type": "code",
   "source": [
    "print(\"2022\\n\")\n",
    "test_across_categories(test_2022, valid_categories, features, model=rf_2022, threshold=threshold, label=label)\n",
    "print(\"\\navg acc: \", get_accuracy(rf_2022, test_2022, features, label, threshold))\n",
    "print(\"total samples: \",len(test_2022)) ## Len benign"
   ],
   "id": "f6b301b08c9f715f",
   "outputs": [
    {
     "name": "stdout",
     "output_type": "stream",
     "text": [
      "2022\n",
      "\n",
      "Category '7_productivity': # samples = 7425, accuracy = 0.9655\n",
      "Category '14_fun': # samples = 1695, accuracy = 0.8903\n",
      "Category '11_web-development': # samples = 1503, accuracy = 0.9827\n",
      "Category '1_communication': # samples = 1219, accuracy = 0.9147\n",
      "Category '22_accessibility': # samples = 1494, accuracy = 0.9565\n",
      "Category '12_shopping': # samples = 770, accuracy = 0.9740\n",
      "Category '28_photos': # samples = 148, accuracy = 0.7905\n",
      "Category '6_news': # samples = 163, accuracy = 0.9816\n",
      "Category '38_search-tools': # samples = 39, accuracy = 0.6667\n",
      "'Others' group: # samples = 2, accuracy = 1.0000\n",
      "\n",
      "avg acc:  0.951307234748928\n",
      "total samples:  14458\n"
     ]
    }
   ],
   "execution_count": 58
  },
  {
   "metadata": {},
   "cell_type": "code",
   "source": [
    "̀̀̀̀̀̀̀̀##########################\n",
    "\n",
    "# Let's focus on MANIFEST. The idea is doing the same things as above, only for manifest though"
   ],
   "id": "214491dcdb0ec5d1",
   "outputs": [],
   "execution_count": null
  },
  {
   "metadata": {
    "ExecuteTime": {
     "end_time": "2025-09-25T19:00:37.932779Z",
     "start_time": "2025-09-25T19:00:37.918782Z"
    }
   },
   "cell_type": "code",
   "source": [
    "def test_manifest(test_df, features, model, threshold, label):\n",
    "    valid_manifests = [2,3]\n",
    "    for MV in valid_manifests:\n",
    "        # Select only the rows of 'test' that belong to the current MV\n",
    "        subset = test_df[test_df[\"MV\"] == MV]\n",
    "        num_samples = len(subset)\n",
    "\n",
    "        if num_samples == 0:\n",
    "            print(f\"No test examples for MV '{MV}'.\")\n",
    "            continue\n",
    "\n",
    "\n",
    "        # Compute the accuracy\n",
    "        accuracy = get_accuracy(model, subset, features, label, threshold)\n",
    "\n",
    "\n",
    "        # Print MV, number of samples, and accuracy\n",
    "        print(f\"MV '{MV}': # samples = {num_samples}, accuracy = {accuracy:.4f}\")\n",
    "\n",
    "    # 2. Treat all categories not in valid_MVs as one single group\n",
    "    others_subset = test_df[~test_df[\"MV\"].isin(valid_manifests)]\n",
    "    num_others = len(others_subset)\n",
    "\n",
    "    if num_others == 0:\n",
    "        print(\"No test examples for 'others' MVs.\")\n",
    "    else:\n",
    "        accuracy_others = get_accuracy(model, others_subset, features, label, threshold)\n",
    "        print(f\"'Others' MVs: # samples = {num_others}, accuracy = {accuracy_others:.4f}\")"
   ],
   "id": "9aef6692f98ddef0",
   "outputs": [],
   "execution_count": 60
  },
  {
   "metadata": {
    "ExecuteTime": {
     "end_time": "2025-09-25T19:00:40.279494Z",
     "start_time": "2025-09-25T19:00:39.431496Z"
    }
   },
   "cell_type": "code",
   "source": [
    "print(\"BENIGN 2019\\n\")\n",
    "test_manifest(benign_2019, features, model=rf_2019, threshold=threshold, label=label)\n",
    "print(\"\\nbenign avg acc: \", get_accuracy(rf_2019, benign_2019, features, label, threshold))\n",
    "print(\"total benign: \",len(benign_2019)) ## Len benign\n",
    "\n",
    "print(\"\\n\\nMALICIOUS 2019\\n\")\n",
    "test_manifest(malicious_2019, features, model=rf_2019, threshold=threshold, label=label)\n",
    "print(\"\\nmalicious avg acc: \", get_accuracy(rf_2019, malicious_2019, features, label, threshold))\n",
    "print(\"total malicious: \",len(malicious_2019)) ## Len benign"
   ],
   "id": "2f616da232027a20",
   "outputs": [
    {
     "name": "stdout",
     "output_type": "stream",
     "text": [
      "BENIGN 2019\n",
      "\n",
      "MV '2': # samples = 6514, accuracy = 0.9997\n",
      "No test examples for MV '3'.\n",
      "No test examples for 'others' MVs.\n",
      "\n",
      "benign avg acc:  0.9996929689898679\n",
      "total benign:  6514\n",
      "\n",
      "\n",
      "MALICIOUS 2019\n",
      "\n",
      "MV '2': # samples = 3061, accuracy = 0.8203\n",
      "No test examples for MV '3'.\n",
      "No test examples for 'others' MVs.\n",
      "\n",
      "malicious avg acc:  0.8203201568114995\n",
      "total malicious:  3061\n"
     ]
    }
   ],
   "execution_count": 61
  },
  {
   "metadata": {
    "ExecuteTime": {
     "end_time": "2025-09-25T19:00:41.365494Z",
     "start_time": "2025-09-25T19:00:40.295497Z"
    }
   },
   "cell_type": "code",
   "source": [
    "print(\"BENIGN 2020\\n\")\n",
    "test_manifest(benign_2020, features, model=rf_2020, threshold=threshold, label=label)\n",
    "print(\"\\nbenign avg acc: \", get_accuracy(rf_2020, benign_2020, features, label, threshold))\n",
    "print(\"total benign: \",len(benign_2020)) ## Len benign\n",
    "\n",
    "print(\"\\n\\nMALICIOUS 2020\\n\")\n",
    "test_manifest(malicious_2020, features, model=rf_2020, threshold=threshold, label=label)\n",
    "print(\"\\nmalicious avg acc: \", get_accuracy(rf_2020, malicious_2020, features, label, threshold))\n",
    "print(\"total malicious: \",len(malicious_2020)) ## Len benign"
   ],
   "id": "bcf6fe79840db3b1",
   "outputs": [
    {
     "name": "stdout",
     "output_type": "stream",
     "text": [
      "BENIGN 2020\n",
      "\n",
      "MV '2': # samples = 9093, accuracy = 0.9986\n",
      "No test examples for MV '3'.\n",
      "No test examples for 'others' MVs.\n",
      "\n",
      "benign avg acc:  0.9985703288243704\n",
      "total benign:  9093\n",
      "\n",
      "\n",
      "MALICIOUS 2020\n",
      "\n",
      "MV '2': # samples = 2139, accuracy = 0.8125\n",
      "No test examples for MV '3'.\n",
      "No test examples for 'others' MVs.\n",
      "\n",
      "malicious avg acc:  0.812529219261337\n",
      "total malicious:  2139\n"
     ]
    }
   ],
   "execution_count": 62
  },
  {
   "metadata": {
    "ExecuteTime": {
     "end_time": "2025-09-25T19:00:42.925671Z",
     "start_time": "2025-09-25T19:00:41.683506Z"
    }
   },
   "cell_type": "code",
   "source": [
    "print(\"BENIGN 2021\\n\")\n",
    "test_manifest(benign_2021, features, model=rf_2021, threshold=threshold, label=label)\n",
    "print(\"\\nbenign avg acc: \", get_accuracy(rf_2021, benign_2021, features, label, threshold))\n",
    "print(\"total benign: \",len(benign_2021)) ## Len benign\n",
    "\n",
    "print(\"\\n\\nMALICIOUS 2021\\n\")\n",
    "test_manifest(malicious_2021, features, model=rf_2021, threshold=threshold, label=label)\n",
    "print(\"\\nmalicious avg acc: \", get_accuracy(rf_2021, malicious_2021, features, label, threshold))\n",
    "print(\"total malicious: \",len(malicious_2021)) ## Len benign"
   ],
   "id": "99e50d6154294d11",
   "outputs": [
    {
     "name": "stdout",
     "output_type": "stream",
     "text": [
      "BENIGN 2021\n",
      "\n",
      "MV '2': # samples = 9377, accuracy = 0.9593\n",
      "MV '3': # samples = 2014, accuracy = 0.9921\n",
      "No test examples for 'others' MVs.\n",
      "\n",
      "benign avg acc:  0.9650601351944518\n",
      "total benign:  11391\n",
      "\n",
      "\n",
      "MALICIOUS 2021\n",
      "\n",
      "MV '2': # samples = 407, accuracy = 0.6143\n",
      "MV '3': # samples = 58, accuracy = 0.1552\n",
      "No test examples for 'others' MVs.\n",
      "\n",
      "malicious avg acc:  0.556989247311828\n",
      "total malicious:  465\n"
     ]
    }
   ],
   "execution_count": 63
  },
  {
   "metadata": {
    "ExecuteTime": {
     "end_time": "2025-09-25T19:00:44.563674Z",
     "start_time": "2025-09-25T19:00:43.191671Z"
    }
   },
   "cell_type": "code",
   "source": [
    "print(\"BENIGN 2022\\n\")\n",
    "test_manifest(benign_2022, features, model=rf_2022, threshold=threshold, label=label)\n",
    "print(\"\\nbenign avg acc: \", get_accuracy(rf_2022, benign_2022, features, label, threshold))\n",
    "print(\"total benign: \",len(benign_2022)) ## Len benign\n",
    "\n",
    "print(\"\\n\\nMALICIOUS 2022\\n\")\n",
    "test_manifest(malicious_2022, features, model=rf_2022, threshold=threshold, label=label)\n",
    "print(\"\\nmalicious avg acc: \", get_accuracy(rf_2022, malicious_2022, features, label, threshold))\n",
    "print(\"total malicious: \",len(malicious_2022)) ## Len benign"
   ],
   "id": "9d4d527d550628b9",
   "outputs": [
    {
     "name": "stdout",
     "output_type": "stream",
     "text": [
      "BENIGN 2022\n",
      "\n",
      "MV '2': # samples = 3841, accuracy = 0.9427\n",
      "MV '3': # samples = 10215, accuracy = 0.9713\n",
      "No test examples for 'others' MVs.\n",
      "\n",
      "benign avg acc:  0.9635031303357997\n",
      "total benign:  14056\n",
      "\n",
      "\n",
      "MALICIOUS 2022\n",
      "\n",
      "MV '2': # samples = 83, accuracy = 0.8313\n",
      "MV '3': # samples = 319, accuracy = 0.4451\n",
      "No test examples for 'others' MVs.\n",
      "\n",
      "malicious avg acc:  0.5248756218905473\n",
      "total malicious:  402\n"
     ]
    }
   ],
   "execution_count": 64
  },
  {
   "metadata": {
    "ExecuteTime": {
     "end_time": "2025-09-25T19:00:44.860673Z",
     "start_time": "2025-09-25T19:00:44.846671Z"
    }
   },
   "cell_type": "code",
   "source": [
    "## And now again without separating benign and malicious\n",
    "\n"
   ],
   "id": "e2a5a77c9b6cebb9",
   "outputs": [],
   "execution_count": 65
  },
  {
   "metadata": {
    "ExecuteTime": {
     "end_time": "2025-09-25T19:00:45.656670Z",
     "start_time": "2025-09-25T19:00:44.913674Z"
    }
   },
   "cell_type": "code",
   "source": [
    "print(\"2019\\n\")\n",
    "test_manifest(test_2019, features, model=rf_2019, threshold=threshold, label=label)\n",
    "print(\"\\navg acc: \", get_accuracy(rf_2019, test_2019, features, label, threshold))\n",
    "print(\"total samples: \",len(test_2019)) ## Len benign"
   ],
   "id": "f01c4bbe0de5bbfb",
   "outputs": [
    {
     "name": "stdout",
     "output_type": "stream",
     "text": [
      "2019\n",
      "\n",
      "MV '2': # samples = 9575, accuracy = 0.9423\n",
      "No test examples for MV '3'.\n",
      "No test examples for 'others' MVs.\n",
      "\n",
      "avg acc:  0.9423498694516971\n",
      "total samples:  9575\n"
     ]
    }
   ],
   "execution_count": 66
  },
  {
   "metadata": {
    "ExecuteTime": {
     "end_time": "2025-09-25T19:00:46.521670Z",
     "start_time": "2025-09-25T19:00:45.689671Z"
    }
   },
   "cell_type": "code",
   "source": [
    "print(\"2020\\n\")\n",
    "test_manifest(test_2020, features, model=rf_2020, threshold=threshold, label=label)\n",
    "print(\"\\navg acc: \", get_accuracy(rf_2020, test_2020, features, label, threshold))\n",
    "print(\"total samples: \",len(test_2020)) ## Len benign"
   ],
   "id": "3db186a69e5311a3",
   "outputs": [
    {
     "name": "stdout",
     "output_type": "stream",
     "text": [
      "2020\n",
      "\n",
      "MV '2': # samples = 11232, accuracy = 0.9631\n",
      "No test examples for MV '3'.\n",
      "No test examples for 'others' MVs.\n",
      "\n",
      "avg acc:  0.9631410256410257\n",
      "total samples:  11232\n"
     ]
    }
   ],
   "execution_count": 67
  },
  {
   "metadata": {
    "ExecuteTime": {
     "end_time": "2025-09-25T19:00:47.799261Z",
     "start_time": "2025-09-25T19:00:46.790262Z"
    }
   },
   "cell_type": "code",
   "source": [
    "print(\"2021\\n\")\n",
    "test_manifest(test_2021, features, model=rf_2021, threshold=threshold, label=label)\n",
    "print(\"\\navg acc: \", get_accuracy(rf_2021, test_2021, features, label, threshold))\n",
    "print(\"total samples: \",len(test_2021)) ## Len benign"
   ],
   "id": "22847b633f4ac9c3",
   "outputs": [
    {
     "name": "stdout",
     "output_type": "stream",
     "text": [
      "2021\n",
      "\n",
      "MV '2': # samples = 9784, accuracy = 0.9449\n",
      "MV '3': # samples = 2072, accuracy = 0.9686\n",
      "No test examples for 'others' MVs.\n",
      "\n",
      "avg acc:  0.949055330634278\n",
      "total samples:  11856\n"
     ]
    }
   ],
   "execution_count": 68
  },
  {
   "metadata": {},
   "cell_type": "code",
   "outputs": [],
   "execution_count": null,
   "source": [
    "print(\"2022\\n\")\n",
    "test_manifest(test_2022, features, model=rf_2022, threshold=threshold, label=label)\n",
    "print(\"\\navg acc: \", get_accuracy(rf_2022, test_2022, features, label, threshold))\n",
    "print(\"total samples: \",len(test_2022)) ## Len benign"
   ],
   "id": "881662b39c26f897"
  },
  {
   "metadata": {},
   "cell_type": "code",
   "outputs": [],
   "execution_count": null,
   "source": "",
   "id": "b09d8d568d959fec"
  },
  {
   "metadata": {},
   "cell_type": "code",
   "outputs": [],
   "execution_count": null,
   "source": "",
   "id": "c1e737851faf0b30"
  },
  {
   "metadata": {},
   "cell_type": "code",
   "outputs": [],
   "execution_count": null,
   "source": "",
   "id": "bbc637feb545294a"
  },
  {
   "metadata": {},
   "cell_type": "code",
   "outputs": [],
   "execution_count": null,
   "source": "",
   "id": "47bcfc5100ff5045"
  },
  {
   "metadata": {},
   "cell_type": "code",
   "outputs": [],
   "execution_count": null,
   "source": "",
   "id": "f5f5a7e768df03e6"
  },
  {
   "metadata": {},
   "cell_type": "code",
   "outputs": [],
   "execution_count": null,
   "source": "",
   "id": "1c82eb19651f8be5"
  },
  {
   "metadata": {},
   "cell_type": "code",
   "outputs": [],
   "execution_count": null,
   "source": "",
   "id": "2b0f88933c4ef4fd"
  },
  {
   "metadata": {},
   "cell_type": "code",
   "outputs": [],
   "execution_count": null,
   "source": "",
   "id": "ddd8d22db4e4e198"
  }
 ],
 "metadata": {
  "kernelspec": {
   "display_name": "Python 3",
   "language": "python",
   "name": "python3"
  },
  "language_info": {
   "codemirror_mode": {
    "name": "ipython",
    "version": 2
   },
   "file_extension": ".py",
   "mimetype": "text/x-python",
   "name": "python",
   "nbconvert_exporter": "python",
   "pygments_lexer": "ipython2",
   "version": "2.7.6"
  }
 },
 "nbformat": 4,
 "nbformat_minor": 5
}
