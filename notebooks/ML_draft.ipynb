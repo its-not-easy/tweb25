{
 "cells": [
  {
   "metadata": {
    "ExecuteTime": {
     "end_time": "2025-09-30T23:25:29.125283Z",
     "start_time": "2025-09-30T23:25:29.121285Z"
    }
   },
   "cell_type": "code",
   "source": "# This notebook serves to kickstart some ML experiments. Note that results may vary w.r.t. in the paper because we're using different seeds and any experiment is, in some way, affected by some degree of randomness",
   "id": "69580e860de0196e",
   "outputs": [],
   "execution_count": 1
  },
  {
   "cell_type": "code",
   "id": "initial_id",
   "metadata": {
    "collapsed": true,
    "ExecuteTime": {
     "end_time": "2025-09-30T23:25:30.091775Z",
     "start_time": "2025-09-30T23:25:29.129015Z"
    }
   },
   "source": [
    "import pandas as pd\n",
    "import sklearn as sk"
   ],
   "outputs": [],
   "execution_count": 2
  },
  {
   "metadata": {
    "ExecuteTime": {
     "end_time": "2025-09-30T23:26:08.531975Z",
     "start_time": "2025-09-30T23:25:30.153774Z"
    }
   },
   "cell_type": "code",
   "source": [
    "# First, let's load the dataset in a dataframe\n",
    "\n",
    "df = pd.read_csv(\"feature_updated.csv\", low_memory=False)"
   ],
   "id": "49e44b80c1232cbc",
   "outputs": [],
   "execution_count": 3
  },
  {
   "metadata": {
    "ExecuteTime": {
     "end_time": "2025-09-30T23:26:08.593977Z",
     "start_time": "2025-09-30T23:26:08.567978Z"
    }
   },
   "cell_type": "code",
   "source": [
    "## The first 9 columns are NOT used in our experiments, and they can be considered as \"headers\"\n",
    "\n",
    "df.iloc[:, :9].head()"
   ],
   "id": "2f16d36fabaead97",
   "outputs": [
    {
     "data": {
      "text/plain": [
       "                               code                            author  \\\n",
       "0  iaemcpeoioekjbbephpefmdoncmpdcdc                    Takahiro Maeda   \n",
       "1  migdhldfbapmodfbmgpofnikfbfpbbon        https://www.highlighty.app   \n",
       "2  haldmdihfigeapcdbibpndmfjpfkgmpo             Order Hàng Trung Quốc   \n",
       "3  gnmcapmdidpeafddbhecmkafinofffdb                      GPTDeveloper   \n",
       "4  nlipoenfbbikpbjkfpfillcgkoblgpmj  http://www.awesomescreenshot.com   \n",
       "\n",
       "         category   MV  year  month  status dataset split  \n",
       "0  7_productivity  3.0  2023      8  benign       U   NaN  \n",
       "1  7_productivity  3.0  2023     11  benign       U   NaN  \n",
       "2     12_shopping  3.0  2023      7  benign       U   NaN  \n",
       "3  7_productivity  3.0  2023      4  benign       U   NaN  \n",
       "4  7_productivity  3.0  2023     11  benign       U   NaN  "
      ],
      "text/html": [
       "<div>\n",
       "<style scoped>\n",
       "    .dataframe tbody tr th:only-of-type {\n",
       "        vertical-align: middle;\n",
       "    }\n",
       "\n",
       "    .dataframe tbody tr th {\n",
       "        vertical-align: top;\n",
       "    }\n",
       "\n",
       "    .dataframe thead th {\n",
       "        text-align: right;\n",
       "    }\n",
       "</style>\n",
       "<table border=\"1\" class=\"dataframe\">\n",
       "  <thead>\n",
       "    <tr style=\"text-align: right;\">\n",
       "      <th></th>\n",
       "      <th>code</th>\n",
       "      <th>author</th>\n",
       "      <th>category</th>\n",
       "      <th>MV</th>\n",
       "      <th>year</th>\n",
       "      <th>month</th>\n",
       "      <th>status</th>\n",
       "      <th>dataset</th>\n",
       "      <th>split</th>\n",
       "    </tr>\n",
       "  </thead>\n",
       "  <tbody>\n",
       "    <tr>\n",
       "      <th>0</th>\n",
       "      <td>iaemcpeoioekjbbephpefmdoncmpdcdc</td>\n",
       "      <td>Takahiro Maeda</td>\n",
       "      <td>7_productivity</td>\n",
       "      <td>3.0</td>\n",
       "      <td>2023</td>\n",
       "      <td>8</td>\n",
       "      <td>benign</td>\n",
       "      <td>U</td>\n",
       "      <td>NaN</td>\n",
       "    </tr>\n",
       "    <tr>\n",
       "      <th>1</th>\n",
       "      <td>migdhldfbapmodfbmgpofnikfbfpbbon</td>\n",
       "      <td>https://www.highlighty.app</td>\n",
       "      <td>7_productivity</td>\n",
       "      <td>3.0</td>\n",
       "      <td>2023</td>\n",
       "      <td>11</td>\n",
       "      <td>benign</td>\n",
       "      <td>U</td>\n",
       "      <td>NaN</td>\n",
       "    </tr>\n",
       "    <tr>\n",
       "      <th>2</th>\n",
       "      <td>haldmdihfigeapcdbibpndmfjpfkgmpo</td>\n",
       "      <td>Order Hàng Trung Quốc</td>\n",
       "      <td>12_shopping</td>\n",
       "      <td>3.0</td>\n",
       "      <td>2023</td>\n",
       "      <td>7</td>\n",
       "      <td>benign</td>\n",
       "      <td>U</td>\n",
       "      <td>NaN</td>\n",
       "    </tr>\n",
       "    <tr>\n",
       "      <th>3</th>\n",
       "      <td>gnmcapmdidpeafddbhecmkafinofffdb</td>\n",
       "      <td>GPTDeveloper</td>\n",
       "      <td>7_productivity</td>\n",
       "      <td>3.0</td>\n",
       "      <td>2023</td>\n",
       "      <td>4</td>\n",
       "      <td>benign</td>\n",
       "      <td>U</td>\n",
       "      <td>NaN</td>\n",
       "    </tr>\n",
       "    <tr>\n",
       "      <th>4</th>\n",
       "      <td>nlipoenfbbikpbjkfpfillcgkoblgpmj</td>\n",
       "      <td>http://www.awesomescreenshot.com</td>\n",
       "      <td>7_productivity</td>\n",
       "      <td>3.0</td>\n",
       "      <td>2023</td>\n",
       "      <td>11</td>\n",
       "      <td>benign</td>\n",
       "      <td>U</td>\n",
       "      <td>NaN</td>\n",
       "    </tr>\n",
       "  </tbody>\n",
       "</table>\n",
       "</div>"
      ]
     },
     "execution_count": 4,
     "metadata": {},
     "output_type": "execute_result"
    }
   ],
   "execution_count": 4
  },
  {
   "metadata": {
    "ExecuteTime": {
     "end_time": "2025-09-30T23:26:08.654976Z",
     "start_time": "2025-09-30T23:26:08.641977Z"
    }
   },
   "cell_type": "code",
   "source": [
    "# To provide more context:\n",
    "# - the \"dataset\" column refers to which dataset (either \"L\" or \"U\") an extension was put in\n",
    "# - the \"split\" column denotes extensions in the \"L\" dataset that were used in the \"train\" or \"test\" portion for the experiments done by Ben Rozenweig\n",
    "# - the \"year\" and \"month\" are the month and year of the extension's last update\n",
    "# - the \"status\" denotes the ground truth of an extension (for those in dataset \"U\", the status is \"benign\" simply because they had not been taken down from the CWS; in practice, we treated all of these as unlabeled)"
   ],
   "id": "4c0f3a27f591d2db",
   "outputs": [],
   "execution_count": 5
  },
  {
   "metadata": {
    "ExecuteTime": {
     "end_time": "2025-09-30T23:26:08.748045Z",
     "start_time": "2025-09-30T23:26:08.735043Z"
    }
   },
   "cell_type": "code",
   "source": [
    "### STANDARD SETUP\n",
    "\n",
    "to_exclude = ['code', 'status', 'year', 'month', 'dataset', 'split', 'author', 'category', 'MV']\n",
    "features = [x for x in df.columns if x not in to_exclude]\n",
    "\n",
    "comb_features = features\n",
    "metadata_features = features[:2152]\n",
    "sourcecode_features = features[2152:]\n",
    "# from 0 to 2152: metadata features; from 2152 to 6152 (end): code features\n",
    "# if you want to use the \"combined classifier\", choose all features\n",
    "\n",
    "label = 'status'\n",
    "threshold_cb = 0.908\n",
    "threshold_md = 0.884\n",
    "threshold_sc = 0.912"
   ],
   "id": "c8c11bf25b9f54e8",
   "outputs": [],
   "execution_count": 6
  },
  {
   "metadata": {
    "ExecuteTime": {
     "end_time": "2025-09-30T23:26:11.487966Z",
     "start_time": "2025-09-30T23:26:11.480967Z"
    }
   },
   "cell_type": "code",
   "source": [
    "def test_clf(clf, test_set, features=features, label=label, threshold=threshold_cb):\n",
    "    '''Handy function to test a classifier, compute the probabilities and print results'''\n",
    "    pred = clf.predict(test_set[features])\n",
    "    probabilities = clf.predict_proba(test_set[features])\n",
    "\n",
    "\n",
    "    y_pred = []\n",
    "    for prob in probabilities:\n",
    "        if prob[0] >= threshold:\n",
    "            y_pred.append(\"benign\")\n",
    "        else:\n",
    "            y_pred.append(\"malware\")\n",
    "\n",
    "\n",
    "    acc = sk.metrics.accuracy_score(test_set[label], y_pred)\n",
    "    prec = sk.metrics.precision_score(test_set[label], y_pred, pos_label='malware')\n",
    "    rec = sk.metrics.recall_score(test_set[label], y_pred, pos_label='malware')\n",
    "    fpr = 1-sk.metrics.recall_score(test_set[label], y_pred, pos_label='benign')\n",
    "\n",
    "\n",
    "\n",
    "    print(\"Accuracy: {:.2f}%,\\tPrecision: {:.2f}%\\tRecall: {:.2f}%\\tFPR: {:.5f}\".format(acc*100, prec*100, rec*100, fpr))\n",
    "\n",
    "    display(pd.crosstab(test_set[label], y_pred, rownames=['True'], colnames=['Pred']))\n",
    "\n",
    "\n",
    "    return probabilities, acc, prec, rec, fpr"
   ],
   "id": "5168aafc6176074e",
   "outputs": [],
   "execution_count": 8
  },
  {
   "metadata": {
    "ExecuteTime": {
     "end_time": "2025-09-30T23:26:14.526708Z",
     "start_time": "2025-09-30T23:26:13.313879Z"
    }
   },
   "cell_type": "code",
   "source": [
    "### First, let's re-create the datasets as they should be\n",
    "\n",
    "from sklearn.model_selection import train_test_split\n",
    "from sklearn.ensemble import RandomForestClassifier\n",
    "from datetime import datetime\n",
    "\n",
    "\n",
    "df_2022 = df[df['year']<=2022]\n",
    "df_2022_benign = df_2022[df_2022['status']=='benign']\n",
    "df_2022_malicious = df_2022[df_2022['status']=='malware']\n"
   ],
   "id": "8802bf1f870fb5dc",
   "outputs": [],
   "execution_count": 9
  },
  {
   "metadata": {
    "ExecuteTime": {
     "end_time": "2025-09-30T23:26:38.718771Z",
     "start_time": "2025-09-30T23:26:17.129736Z"
    }
   },
   "cell_type": "code",
   "source": [
    "i = 42 # random state\n",
    "\n",
    "train_ben, test_ben = train_test_split(df_2022_benign, test_size=0.2, random_state=i)\n",
    "train_mal, test_mal = train_test_split(df_2022_malicious, test_size=0.2, random_state=i)\n",
    "train = pd.concat([train_ben, train_mal])\n",
    "test=pd.concat([test_ben,test_mal])\n",
    "## Define and train the classifier\n",
    "rf_cb = RandomForestClassifier(n_estimators=300, max_features=\"sqrt\", criterion=\"gini\",\n",
    "                                   n_jobs=-2, class_weight=\"balanced\", random_state=i)\n",
    "start = datetime.now()\n",
    "rf_cb.fit(train[comb_features], train[label])\n",
    "print(f\"Training time: f{datetime.now()- start}\")\n",
    "end = datetime.now()"
   ],
   "id": "d85989ec97d75cae",
   "outputs": [
    {
     "name": "stdout",
     "output_type": "stream",
     "text": [
      "Training time: f0:00:19.541323\n"
     ]
    }
   ],
   "execution_count": 10
  },
  {
   "metadata": {
    "ExecuteTime": {
     "end_time": "2025-09-30T23:26:39.851654Z",
     "start_time": "2025-09-30T23:26:38.731774Z"
    }
   },
   "cell_type": "code",
   "source": [
    "## Test the classifier\n",
    "prob, acc_new, prec_new, rec_new, fpr_new = test_clf(rf_cb, test, features = comb_features, threshold=threshold_cb)\n",
    "print(f\"Test time: f{datetime.now()- end}\")\n"
   ],
   "id": "53063b2379fc6279",
   "outputs": [
    {
     "name": "stdout",
     "output_type": "stream",
     "text": [
      "Accuracy: 98.72%,\tPrecision: 91.85%\tRecall: 95.68%\tFPR: 0.00940\n"
     ]
    },
    {
     "data": {
      "text/plain": [
       "Pred     benign  malware\n",
       "True                    \n",
       "benign    12221      116\n",
       "malware      59     1307"
      ],
      "text/html": [
       "<div>\n",
       "<style scoped>\n",
       "    .dataframe tbody tr th:only-of-type {\n",
       "        vertical-align: middle;\n",
       "    }\n",
       "\n",
       "    .dataframe tbody tr th {\n",
       "        vertical-align: top;\n",
       "    }\n",
       "\n",
       "    .dataframe thead th {\n",
       "        text-align: right;\n",
       "    }\n",
       "</style>\n",
       "<table border=\"1\" class=\"dataframe\">\n",
       "  <thead>\n",
       "    <tr style=\"text-align: right;\">\n",
       "      <th>Pred</th>\n",
       "      <th>benign</th>\n",
       "      <th>malware</th>\n",
       "    </tr>\n",
       "    <tr>\n",
       "      <th>True</th>\n",
       "      <th></th>\n",
       "      <th></th>\n",
       "    </tr>\n",
       "  </thead>\n",
       "  <tbody>\n",
       "    <tr>\n",
       "      <th>benign</th>\n",
       "      <td>12221</td>\n",
       "      <td>116</td>\n",
       "    </tr>\n",
       "    <tr>\n",
       "      <th>malware</th>\n",
       "      <td>59</td>\n",
       "      <td>1307</td>\n",
       "    </tr>\n",
       "  </tbody>\n",
       "</table>\n",
       "</div>"
      ]
     },
     "metadata": {},
     "output_type": "display_data",
     "jetTransient": {
      "display_id": null
     }
    },
    {
     "name": "stdout",
     "output_type": "stream",
     "text": [
      "Test time: f0:00:01.131951\n"
     ]
    }
   ],
   "execution_count": 11
  },
  {
   "metadata": {
    "ExecuteTime": {
     "end_time": "2025-09-30T23:27:31.127048Z",
     "start_time": "2025-09-30T23:27:17.029924Z"
    }
   },
   "cell_type": "code",
   "source": [
    "## Let's assess the metadata classifier\n",
    "\n",
    "i = 42 # random state\n",
    "\n",
    "train_ben, test_ben = train_test_split(df_2022_benign, test_size=0.2, random_state=i)\n",
    "train_mal, test_mal = train_test_split(df_2022_malicious, test_size=0.2, random_state=i)\n",
    "train = pd.concat([train_ben, train_mal])\n",
    "test=pd.concat([test_ben,test_mal])\n",
    "\n",
    "## Define and train the classifier\n",
    "rf_md = RandomForestClassifier(n_estimators=300, max_features=\"sqrt\", criterion=\"gini\",\n",
    "                                   n_jobs=-2, class_weight=\"balanced\", random_state=i)\n",
    "start = datetime.now()\n",
    "rf_md.fit(train[metadata_features], train[label])\n",
    "print(f\"Training time: f{datetime.now()- start}\")\n",
    "end = datetime.now()\n",
    "\n",
    "## Test the classifier\n",
    "prob, acc_new, prec_new, rec_new, fpr_new = test_clf(rf_md, test, features = metadata_features, threshold=threshold_md)\n",
    "print(f\"Test time: f{datetime.now()- end}\")"
   ],
   "id": "8c39d296ee8c5154",
   "outputs": [
    {
     "name": "stdout",
     "output_type": "stream",
     "text": [
      "Training time: f0:00:11.217091\n",
      "Accuracy: 98.45%,\tPrecision: 89.24%\tRecall: 95.97%\tFPR: 0.01281\n"
     ]
    },
    {
     "data": {
      "text/plain": [
       "Pred     benign  malware\n",
       "True                    \n",
       "benign    12179      158\n",
       "malware      55     1311"
      ],
      "text/html": [
       "<div>\n",
       "<style scoped>\n",
       "    .dataframe tbody tr th:only-of-type {\n",
       "        vertical-align: middle;\n",
       "    }\n",
       "\n",
       "    .dataframe tbody tr th {\n",
       "        vertical-align: top;\n",
       "    }\n",
       "\n",
       "    .dataframe thead th {\n",
       "        text-align: right;\n",
       "    }\n",
       "</style>\n",
       "<table border=\"1\" class=\"dataframe\">\n",
       "  <thead>\n",
       "    <tr style=\"text-align: right;\">\n",
       "      <th>Pred</th>\n",
       "      <th>benign</th>\n",
       "      <th>malware</th>\n",
       "    </tr>\n",
       "    <tr>\n",
       "      <th>True</th>\n",
       "      <th></th>\n",
       "      <th></th>\n",
       "    </tr>\n",
       "  </thead>\n",
       "  <tbody>\n",
       "    <tr>\n",
       "      <th>benign</th>\n",
       "      <td>12179</td>\n",
       "      <td>158</td>\n",
       "    </tr>\n",
       "    <tr>\n",
       "      <th>malware</th>\n",
       "      <td>55</td>\n",
       "      <td>1311</td>\n",
       "    </tr>\n",
       "  </tbody>\n",
       "</table>\n",
       "</div>"
      ]
     },
     "metadata": {},
     "output_type": "display_data",
     "jetTransient": {
      "display_id": null
     }
    },
    {
     "name": "stdout",
     "output_type": "stream",
     "text": [
      "Test time: f0:00:00.530999\n"
     ]
    }
   ],
   "execution_count": 12
  },
  {
   "metadata": {
    "ExecuteTime": {
     "end_time": "2025-09-30T23:27:48.742163Z",
     "start_time": "2025-09-30T23:27:31.191049Z"
    }
   },
   "cell_type": "code",
   "source": [
    "## Let's assess the source-code classifier\n",
    "\n",
    "i = 42 # random state\n",
    "\n",
    "train_ben, test_ben = train_test_split(df_2022_benign, test_size=0.2, random_state=i)\n",
    "train_mal, test_mal = train_test_split(df_2022_malicious, test_size=0.2, random_state=i)\n",
    "train = pd.concat([train_ben, train_mal])\n",
    "test=pd.concat([test_ben,test_mal])\n",
    "\n",
    "## Define and train the classifier\n",
    "rf_sc = RandomForestClassifier(n_estimators=300, max_features=\"sqrt\", criterion=\"gini\",\n",
    "                                   n_jobs=-2, class_weight=\"balanced\", random_state=i)\n",
    "start = datetime.now()\n",
    "rf_sc.fit(train[sourcecode_features], train[label])\n",
    "print(f\"Training time: f{datetime.now()- start}\")\n",
    "end = datetime.now()\n",
    "\n",
    "## Test the classifier\n",
    "prob, acc_new, prec_new, rec_new, fpr_new = test_clf(rf_sc, test, features = sourcecode_features, threshold=threshold_sc)\n",
    "print(f\"Test time: f{datetime.now()- end}\")"
   ],
   "id": "4076383ab99d3d13",
   "outputs": [
    {
     "name": "stdout",
     "output_type": "stream",
     "text": [
      "Training time: f0:00:14.357451\n",
      "Accuracy: 98.42%,\tPrecision: 90.66%\tRecall: 93.78%\tFPR: 0.01070\n"
     ]
    },
    {
     "data": {
      "text/plain": [
       "Pred     benign  malware\n",
       "True                    \n",
       "benign    12205      132\n",
       "malware      85     1281"
      ],
      "text/html": [
       "<div>\n",
       "<style scoped>\n",
       "    .dataframe tbody tr th:only-of-type {\n",
       "        vertical-align: middle;\n",
       "    }\n",
       "\n",
       "    .dataframe tbody tr th {\n",
       "        vertical-align: top;\n",
       "    }\n",
       "\n",
       "    .dataframe thead th {\n",
       "        text-align: right;\n",
       "    }\n",
       "</style>\n",
       "<table border=\"1\" class=\"dataframe\">\n",
       "  <thead>\n",
       "    <tr style=\"text-align: right;\">\n",
       "      <th>Pred</th>\n",
       "      <th>benign</th>\n",
       "      <th>malware</th>\n",
       "    </tr>\n",
       "    <tr>\n",
       "      <th>True</th>\n",
       "      <th></th>\n",
       "      <th></th>\n",
       "    </tr>\n",
       "  </thead>\n",
       "  <tbody>\n",
       "    <tr>\n",
       "      <th>benign</th>\n",
       "      <td>12205</td>\n",
       "      <td>132</td>\n",
       "    </tr>\n",
       "    <tr>\n",
       "      <th>malware</th>\n",
       "      <td>85</td>\n",
       "      <td>1281</td>\n",
       "    </tr>\n",
       "  </tbody>\n",
       "</table>\n",
       "</div>"
      ]
     },
     "metadata": {},
     "output_type": "display_data",
     "jetTransient": {
      "display_id": null
     }
    },
    {
     "name": "stdout",
     "output_type": "stream",
     "text": [
      "Test time: f0:00:00.804970\n"
     ]
    }
   ],
   "execution_count": 13
  },
  {
   "metadata": {
    "ExecuteTime": {
     "end_time": "2025-09-30T23:22:02.145588Z",
     "start_time": "2025-09-30T23:22:02.131590Z"
    }
   },
   "cell_type": "code",
   "source": "## From here on, you can do whatever you want",
   "id": "bd521f9cb7eba47e",
   "outputs": [],
   "execution_count": 13
  },
  {
   "metadata": {},
   "cell_type": "code",
   "outputs": [],
   "execution_count": null,
   "source": "",
   "id": "407b3b3e58a346f3"
  }
 ],
 "metadata": {
  "kernelspec": {
   "display_name": "Python 3",
   "language": "python",
   "name": "python3"
  },
  "language_info": {
   "codemirror_mode": {
    "name": "ipython",
    "version": 2
   },
   "file_extension": ".py",
   "mimetype": "text/x-python",
   "name": "python",
   "nbconvert_exporter": "python",
   "pygments_lexer": "ipython2",
   "version": "2.7.6"
  }
 },
 "nbformat": 4,
 "nbformat_minor": 5
}
