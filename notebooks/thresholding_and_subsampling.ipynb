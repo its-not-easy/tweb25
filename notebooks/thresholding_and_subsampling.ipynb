{
 "cells": [
  {
   "cell_type": "code",
   "id": "initial_id",
   "metadata": {
    "collapsed": true,
    "ExecuteTime": {
     "end_time": "2025-10-01T11:53:05.211548Z",
     "start_time": "2025-10-01T11:53:04.506693Z"
    }
   },
   "source": [
    "import pandas as pd\n",
    "import sklearn as sk"
   ],
   "outputs": [],
   "execution_count": 1
  },
  {
   "metadata": {
    "ExecuteTime": {
     "end_time": "2025-10-01T11:53:50.761885Z",
     "start_time": "2025-10-01T11:53:05.230551Z"
    }
   },
   "cell_type": "code",
   "source": "df = pd.read_csv(\"feature_updated.csv\", low_memory=False)",
   "id": "b3feb442952b897f",
   "outputs": [],
   "execution_count": 2
  },
  {
   "metadata": {
    "ExecuteTime": {
     "end_time": "2025-10-01T11:53:50.916257Z",
     "start_time": "2025-10-01T11:53:50.903745Z"
    }
   },
   "cell_type": "code",
   "source": [
    "### STANDARD SETUP\n",
    "\n",
    "features = df.columns\n",
    "to_exclude = ['code', 'status', 'year', 'month', 'dataset', 'split', 'author', 'category', 'MV']\n",
    "features = [x for x in features if x not in to_exclude]\n",
    "# from 0 to 2152: metadata features; from 2152 to 6152 (end): code features\n",
    "# if you want to use the \"combined classifier\", choose all features\n",
    "\n",
    "label = 'status'\n",
    "threshold = 0.908 # this was derived by Ben"
   ],
   "id": "f12f13a6aefe2d9",
   "outputs": [],
   "execution_count": 3
  },
  {
   "metadata": {
    "ExecuteTime": {
     "end_time": "2025-10-01T11:53:50.931806Z",
     "start_time": "2025-10-01T11:53:50.920801Z"
    }
   },
   "cell_type": "code",
   "source": [
    "def test_clf(clf, test_set, features=features, label=label, threshold=threshold):\n",
    "    '''Handy function to test a classifier, compute the probabilities and print results'''\n",
    "    pred = clf.predict(test_set[features])\n",
    "    probabilities = clf.predict_proba(test_set[features])\n",
    "\n",
    "\n",
    "    y_pred = []\n",
    "    for prob in probabilities:\n",
    "        if prob[0] >= threshold:\n",
    "            y_pred.append(\"benign\")\n",
    "        else:\n",
    "            y_pred.append(\"malware\")\n",
    "\n",
    "\n",
    "    acc = sk.metrics.accuracy_score(test_set[label], y_pred)\n",
    "    prec = sk.metrics.precision_score(test_set[label], y_pred, pos_label='malware')\n",
    "    rec = sk.metrics.recall_score(test_set[label], y_pred, pos_label='malware')\n",
    "    fpr = 1-sk.metrics.recall_score(test_set[label], y_pred, pos_label='benign')\n",
    "\n",
    "\n",
    "\n",
    "    print(\"Accuracy: {:.2f}%,\\tPrecision: {:.2f}%\\tRecall: {:.2f}%\\tFPR: {:.5f}\".format(acc*100, prec*100, rec*100, fpr))\n",
    "\n",
    "    display(pd.crosstab(test_set[label], y_pred, rownames=['True'], colnames=['Pred']))\n",
    "\n",
    "\n",
    "    return probabilities, acc, prec, rec, fpr"
   ],
   "id": "455f77a7247d4d3b",
   "outputs": [],
   "execution_count": 4
  },
  {
   "metadata": {
    "ExecuteTime": {
     "end_time": "2025-10-01T11:53:52.258938Z",
     "start_time": "2025-10-01T11:53:50.935809Z"
    }
   },
   "cell_type": "code",
   "source": [
    "### First, let's re-create the datasets as they should be\n",
    "\n",
    "from sklearn.model_selection import train_test_split\n",
    "from sklearn.ensemble import RandomForestClassifier\n",
    "from datetime import datetime\n",
    "\n",
    "\n",
    "df_2022 = df[df['year']<=2022]\n",
    "df_2022_benign = df_2022[df_2022['status']=='benign']\n",
    "df_2022_malicious = df_2022[df_2022['status']=='malware']\n"
   ],
   "id": "8978590776d67c93",
   "outputs": [],
   "execution_count": 5
  },
  {
   "metadata": {
    "ExecuteTime": {
     "end_time": "2025-10-01T11:53:52.336816Z",
     "start_time": "2025-10-01T11:53:52.322858Z"
    }
   },
   "cell_type": "code",
   "source": "# EXPERIMENT 1: changing the threshold to reduce false positives (we redo this 5 times)",
   "id": "c337fe436c5a092d",
   "outputs": [],
   "execution_count": 6
  },
  {
   "metadata": {
    "ExecuteTime": {
     "end_time": "2025-10-01T11:55:57.375577Z",
     "start_time": "2025-10-01T11:53:52.343815Z"
    }
   },
   "cell_type": "code",
   "source": [
    "fpr_list = []\n",
    "rec_list = []\n",
    "\n",
    "threshold_to_test = 0.65\n",
    "\n",
    "for i in range(5):\n",
    "    print(\"\\n\\nROUND {}\\n\\n\".format(i))\n",
    "    train_ben, test_ben = train_test_split(df_2022_benign, test_size=0.2, random_state=i)\n",
    "    train_mal, test_mal = train_test_split(df_2022_malicious, test_size=0.2, random_state=i)\n",
    "    train = pd.concat([train_ben, train_mal])\n",
    "    test=pd.concat([test_ben,test_mal])\n",
    "    ## Define and train the classifier\n",
    "    rf = RandomForestClassifier(n_estimators=300, max_features=\"sqrt\", criterion=\"gini\",\n",
    "                                       n_jobs=-2, class_weight=\"balanced\", random_state=i)\n",
    "    start = datetime.now()\n",
    "    rf.fit(train[features], train[label])\n",
    "    print(f\"Training time: f{datetime.now()- start}\")\n",
    "    end = datetime.now()\n",
    "\n",
    "\n",
    "    ## Test the classifier\n",
    "    prob, acc_def, prec_def, rec_def, fpr_def = test_clf(rf, test)\n",
    "    print(f\"Test time: f{datetime.now()- end}\")\n",
    "    prob, acc_new, prec_new, rec_new, fpr_new = test_clf(rf, test, threshold=threshold_to_test)\n",
    "    fpr_list.append((fpr_def, fpr_new))\n",
    "    rec_list.append((rec_def, rec_new))"
   ],
   "id": "c42ec4403c46f9e6",
   "outputs": [
    {
     "name": "stdout",
     "output_type": "stream",
     "text": [
      "\n",
      "\n",
      "ROUND 0\n",
      "\n",
      "\n",
      "Training time: f0:00:25.219978\n",
      "Accuracy: 98.81%,\tPrecision: 92.21%\tRecall: 96.19%\tFPR: 0.00900\n"
     ]
    },
    {
     "data": {
      "text/plain": [
       "Pred     benign  malware\n",
       "True                    \n",
       "benign    12226      111\n",
       "malware      52     1314"
      ],
      "text/html": [
       "<div>\n",
       "<style scoped>\n",
       "    .dataframe tbody tr th:only-of-type {\n",
       "        vertical-align: middle;\n",
       "    }\n",
       "\n",
       "    .dataframe tbody tr th {\n",
       "        vertical-align: top;\n",
       "    }\n",
       "\n",
       "    .dataframe thead th {\n",
       "        text-align: right;\n",
       "    }\n",
       "</style>\n",
       "<table border=\"1\" class=\"dataframe\">\n",
       "  <thead>\n",
       "    <tr style=\"text-align: right;\">\n",
       "      <th>Pred</th>\n",
       "      <th>benign</th>\n",
       "      <th>malware</th>\n",
       "    </tr>\n",
       "    <tr>\n",
       "      <th>True</th>\n",
       "      <th></th>\n",
       "      <th></th>\n",
       "    </tr>\n",
       "  </thead>\n",
       "  <tbody>\n",
       "    <tr>\n",
       "      <th>benign</th>\n",
       "      <td>12226</td>\n",
       "      <td>111</td>\n",
       "    </tr>\n",
       "    <tr>\n",
       "      <th>malware</th>\n",
       "      <td>52</td>\n",
       "      <td>1314</td>\n",
       "    </tr>\n",
       "  </tbody>\n",
       "</table>\n",
       "</div>"
      ]
     },
     "metadata": {},
     "output_type": "display_data",
     "jetTransient": {
      "display_id": null
     }
    },
    {
     "name": "stdout",
     "output_type": "stream",
     "text": [
      "Test time: f0:00:01.229914\n",
      "Accuracy: 99.07%,\tPrecision: 99.68%\tRecall: 91.00%\tFPR: 0.00032\n"
     ]
    },
    {
     "data": {
      "text/plain": [
       "Pred     benign  malware\n",
       "True                    \n",
       "benign    12333        4\n",
       "malware     123     1243"
      ],
      "text/html": [
       "<div>\n",
       "<style scoped>\n",
       "    .dataframe tbody tr th:only-of-type {\n",
       "        vertical-align: middle;\n",
       "    }\n",
       "\n",
       "    .dataframe tbody tr th {\n",
       "        vertical-align: top;\n",
       "    }\n",
       "\n",
       "    .dataframe thead th {\n",
       "        text-align: right;\n",
       "    }\n",
       "</style>\n",
       "<table border=\"1\" class=\"dataframe\">\n",
       "  <thead>\n",
       "    <tr style=\"text-align: right;\">\n",
       "      <th>Pred</th>\n",
       "      <th>benign</th>\n",
       "      <th>malware</th>\n",
       "    </tr>\n",
       "    <tr>\n",
       "      <th>True</th>\n",
       "      <th></th>\n",
       "      <th></th>\n",
       "    </tr>\n",
       "  </thead>\n",
       "  <tbody>\n",
       "    <tr>\n",
       "      <th>benign</th>\n",
       "      <td>12333</td>\n",
       "      <td>4</td>\n",
       "    </tr>\n",
       "    <tr>\n",
       "      <th>malware</th>\n",
       "      <td>123</td>\n",
       "      <td>1243</td>\n",
       "    </tr>\n",
       "  </tbody>\n",
       "</table>\n",
       "</div>"
      ]
     },
     "metadata": {},
     "output_type": "display_data",
     "jetTransient": {
      "display_id": null
     }
    },
    {
     "name": "stdout",
     "output_type": "stream",
     "text": [
      "\n",
      "\n",
      "ROUND 1\n",
      "\n",
      "\n",
      "Training time: f0:00:19.408606\n",
      "Accuracy: 98.66%,\tPrecision: 91.50%\tRecall: 95.39%\tFPR: 0.00981\n"
     ]
    },
    {
     "data": {
      "text/plain": [
       "Pred     benign  malware\n",
       "True                    \n",
       "benign    12216      121\n",
       "malware      63     1303"
      ],
      "text/html": [
       "<div>\n",
       "<style scoped>\n",
       "    .dataframe tbody tr th:only-of-type {\n",
       "        vertical-align: middle;\n",
       "    }\n",
       "\n",
       "    .dataframe tbody tr th {\n",
       "        vertical-align: top;\n",
       "    }\n",
       "\n",
       "    .dataframe thead th {\n",
       "        text-align: right;\n",
       "    }\n",
       "</style>\n",
       "<table border=\"1\" class=\"dataframe\">\n",
       "  <thead>\n",
       "    <tr style=\"text-align: right;\">\n",
       "      <th>Pred</th>\n",
       "      <th>benign</th>\n",
       "      <th>malware</th>\n",
       "    </tr>\n",
       "    <tr>\n",
       "      <th>True</th>\n",
       "      <th></th>\n",
       "      <th></th>\n",
       "    </tr>\n",
       "  </thead>\n",
       "  <tbody>\n",
       "    <tr>\n",
       "      <th>benign</th>\n",
       "      <td>12216</td>\n",
       "      <td>121</td>\n",
       "    </tr>\n",
       "    <tr>\n",
       "      <th>malware</th>\n",
       "      <td>63</td>\n",
       "      <td>1303</td>\n",
       "    </tr>\n",
       "  </tbody>\n",
       "</table>\n",
       "</div>"
      ]
     },
     "metadata": {},
     "output_type": "display_data",
     "jetTransient": {
      "display_id": null
     }
    },
    {
     "name": "stdout",
     "output_type": "stream",
     "text": [
      "Test time: f0:00:01.114001\n",
      "Accuracy: 99.01%,\tPrecision: 99.68%\tRecall: 90.34%\tFPR: 0.00032\n"
     ]
    },
    {
     "data": {
      "text/plain": [
       "Pred     benign  malware\n",
       "True                    \n",
       "benign    12333        4\n",
       "malware     132     1234"
      ],
      "text/html": [
       "<div>\n",
       "<style scoped>\n",
       "    .dataframe tbody tr th:only-of-type {\n",
       "        vertical-align: middle;\n",
       "    }\n",
       "\n",
       "    .dataframe tbody tr th {\n",
       "        vertical-align: top;\n",
       "    }\n",
       "\n",
       "    .dataframe thead th {\n",
       "        text-align: right;\n",
       "    }\n",
       "</style>\n",
       "<table border=\"1\" class=\"dataframe\">\n",
       "  <thead>\n",
       "    <tr style=\"text-align: right;\">\n",
       "      <th>Pred</th>\n",
       "      <th>benign</th>\n",
       "      <th>malware</th>\n",
       "    </tr>\n",
       "    <tr>\n",
       "      <th>True</th>\n",
       "      <th></th>\n",
       "      <th></th>\n",
       "    </tr>\n",
       "  </thead>\n",
       "  <tbody>\n",
       "    <tr>\n",
       "      <th>benign</th>\n",
       "      <td>12333</td>\n",
       "      <td>4</td>\n",
       "    </tr>\n",
       "    <tr>\n",
       "      <th>malware</th>\n",
       "      <td>132</td>\n",
       "      <td>1234</td>\n",
       "    </tr>\n",
       "  </tbody>\n",
       "</table>\n",
       "</div>"
      ]
     },
     "metadata": {},
     "output_type": "display_data",
     "jetTransient": {
      "display_id": null
     }
    },
    {
     "name": "stdout",
     "output_type": "stream",
     "text": [
      "\n",
      "\n",
      "ROUND 2\n",
      "\n",
      "\n",
      "Training time: f0:00:19.509310\n",
      "Accuracy: 98.77%,\tPrecision: 92.12%\tRecall: 95.83%\tFPR: 0.00908\n"
     ]
    },
    {
     "data": {
      "text/plain": [
       "Pred     benign  malware\n",
       "True                    \n",
       "benign    12225      112\n",
       "malware      57     1309"
      ],
      "text/html": [
       "<div>\n",
       "<style scoped>\n",
       "    .dataframe tbody tr th:only-of-type {\n",
       "        vertical-align: middle;\n",
       "    }\n",
       "\n",
       "    .dataframe tbody tr th {\n",
       "        vertical-align: top;\n",
       "    }\n",
       "\n",
       "    .dataframe thead th {\n",
       "        text-align: right;\n",
       "    }\n",
       "</style>\n",
       "<table border=\"1\" class=\"dataframe\">\n",
       "  <thead>\n",
       "    <tr style=\"text-align: right;\">\n",
       "      <th>Pred</th>\n",
       "      <th>benign</th>\n",
       "      <th>malware</th>\n",
       "    </tr>\n",
       "    <tr>\n",
       "      <th>True</th>\n",
       "      <th></th>\n",
       "      <th></th>\n",
       "    </tr>\n",
       "  </thead>\n",
       "  <tbody>\n",
       "    <tr>\n",
       "      <th>benign</th>\n",
       "      <td>12225</td>\n",
       "      <td>112</td>\n",
       "    </tr>\n",
       "    <tr>\n",
       "      <th>malware</th>\n",
       "      <td>57</td>\n",
       "      <td>1309</td>\n",
       "    </tr>\n",
       "  </tbody>\n",
       "</table>\n",
       "</div>"
      ]
     },
     "metadata": {},
     "output_type": "display_data",
     "jetTransient": {
      "display_id": null
     }
    },
    {
     "name": "stdout",
     "output_type": "stream",
     "text": [
      "Test time: f0:00:01.080616\n",
      "Accuracy: 99.04%,\tPrecision: 99.28%\tRecall: 91.00%\tFPR: 0.00073\n"
     ]
    },
    {
     "data": {
      "text/plain": [
       "Pred     benign  malware\n",
       "True                    \n",
       "benign    12328        9\n",
       "malware     123     1243"
      ],
      "text/html": [
       "<div>\n",
       "<style scoped>\n",
       "    .dataframe tbody tr th:only-of-type {\n",
       "        vertical-align: middle;\n",
       "    }\n",
       "\n",
       "    .dataframe tbody tr th {\n",
       "        vertical-align: top;\n",
       "    }\n",
       "\n",
       "    .dataframe thead th {\n",
       "        text-align: right;\n",
       "    }\n",
       "</style>\n",
       "<table border=\"1\" class=\"dataframe\">\n",
       "  <thead>\n",
       "    <tr style=\"text-align: right;\">\n",
       "      <th>Pred</th>\n",
       "      <th>benign</th>\n",
       "      <th>malware</th>\n",
       "    </tr>\n",
       "    <tr>\n",
       "      <th>True</th>\n",
       "      <th></th>\n",
       "      <th></th>\n",
       "    </tr>\n",
       "  </thead>\n",
       "  <tbody>\n",
       "    <tr>\n",
       "      <th>benign</th>\n",
       "      <td>12328</td>\n",
       "      <td>9</td>\n",
       "    </tr>\n",
       "    <tr>\n",
       "      <th>malware</th>\n",
       "      <td>123</td>\n",
       "      <td>1243</td>\n",
       "    </tr>\n",
       "  </tbody>\n",
       "</table>\n",
       "</div>"
      ]
     },
     "metadata": {},
     "output_type": "display_data",
     "jetTransient": {
      "display_id": null
     }
    },
    {
     "name": "stdout",
     "output_type": "stream",
     "text": [
      "\n",
      "\n",
      "ROUND 3\n",
      "\n",
      "\n",
      "Training time: f0:00:19.214404\n",
      "Accuracy: 98.66%,\tPrecision: 91.86%\tRecall: 94.95%\tFPR: 0.00932\n"
     ]
    },
    {
     "data": {
      "text/plain": [
       "Pred     benign  malware\n",
       "True                    \n",
       "benign    12222      115\n",
       "malware      69     1297"
      ],
      "text/html": [
       "<div>\n",
       "<style scoped>\n",
       "    .dataframe tbody tr th:only-of-type {\n",
       "        vertical-align: middle;\n",
       "    }\n",
       "\n",
       "    .dataframe tbody tr th {\n",
       "        vertical-align: top;\n",
       "    }\n",
       "\n",
       "    .dataframe thead th {\n",
       "        text-align: right;\n",
       "    }\n",
       "</style>\n",
       "<table border=\"1\" class=\"dataframe\">\n",
       "  <thead>\n",
       "    <tr style=\"text-align: right;\">\n",
       "      <th>Pred</th>\n",
       "      <th>benign</th>\n",
       "      <th>malware</th>\n",
       "    </tr>\n",
       "    <tr>\n",
       "      <th>True</th>\n",
       "      <th></th>\n",
       "      <th></th>\n",
       "    </tr>\n",
       "  </thead>\n",
       "  <tbody>\n",
       "    <tr>\n",
       "      <th>benign</th>\n",
       "      <td>12222</td>\n",
       "      <td>115</td>\n",
       "    </tr>\n",
       "    <tr>\n",
       "      <th>malware</th>\n",
       "      <td>69</td>\n",
       "      <td>1297</td>\n",
       "    </tr>\n",
       "  </tbody>\n",
       "</table>\n",
       "</div>"
      ]
     },
     "metadata": {},
     "output_type": "display_data",
     "jetTransient": {
      "display_id": null
     }
    },
    {
     "name": "stdout",
     "output_type": "stream",
     "text": [
      "Test time: f0:00:01.101001\n",
      "Accuracy: 98.94%,\tPrecision: 99.51%\tRecall: 89.82%\tFPR: 0.00049\n"
     ]
    },
    {
     "data": {
      "text/plain": [
       "Pred     benign  malware\n",
       "True                    \n",
       "benign    12331        6\n",
       "malware     139     1227"
      ],
      "text/html": [
       "<div>\n",
       "<style scoped>\n",
       "    .dataframe tbody tr th:only-of-type {\n",
       "        vertical-align: middle;\n",
       "    }\n",
       "\n",
       "    .dataframe tbody tr th {\n",
       "        vertical-align: top;\n",
       "    }\n",
       "\n",
       "    .dataframe thead th {\n",
       "        text-align: right;\n",
       "    }\n",
       "</style>\n",
       "<table border=\"1\" class=\"dataframe\">\n",
       "  <thead>\n",
       "    <tr style=\"text-align: right;\">\n",
       "      <th>Pred</th>\n",
       "      <th>benign</th>\n",
       "      <th>malware</th>\n",
       "    </tr>\n",
       "    <tr>\n",
       "      <th>True</th>\n",
       "      <th></th>\n",
       "      <th></th>\n",
       "    </tr>\n",
       "  </thead>\n",
       "  <tbody>\n",
       "    <tr>\n",
       "      <th>benign</th>\n",
       "      <td>12331</td>\n",
       "      <td>6</td>\n",
       "    </tr>\n",
       "    <tr>\n",
       "      <th>malware</th>\n",
       "      <td>139</td>\n",
       "      <td>1227</td>\n",
       "    </tr>\n",
       "  </tbody>\n",
       "</table>\n",
       "</div>"
      ]
     },
     "metadata": {},
     "output_type": "display_data",
     "jetTransient": {
      "display_id": null
     }
    },
    {
     "name": "stdout",
     "output_type": "stream",
     "text": [
      "\n",
      "\n",
      "ROUND 4\n",
      "\n",
      "\n",
      "Training time: f0:00:19.291793\n",
      "Accuracy: 98.53%,\tPrecision: 90.54%\tRecall: 95.24%\tFPR: 0.01102\n"
     ]
    },
    {
     "data": {
      "text/plain": [
       "Pred     benign  malware\n",
       "True                    \n",
       "benign    12201      136\n",
       "malware      65     1301"
      ],
      "text/html": [
       "<div>\n",
       "<style scoped>\n",
       "    .dataframe tbody tr th:only-of-type {\n",
       "        vertical-align: middle;\n",
       "    }\n",
       "\n",
       "    .dataframe tbody tr th {\n",
       "        vertical-align: top;\n",
       "    }\n",
       "\n",
       "    .dataframe thead th {\n",
       "        text-align: right;\n",
       "    }\n",
       "</style>\n",
       "<table border=\"1\" class=\"dataframe\">\n",
       "  <thead>\n",
       "    <tr style=\"text-align: right;\">\n",
       "      <th>Pred</th>\n",
       "      <th>benign</th>\n",
       "      <th>malware</th>\n",
       "    </tr>\n",
       "    <tr>\n",
       "      <th>True</th>\n",
       "      <th></th>\n",
       "      <th></th>\n",
       "    </tr>\n",
       "  </thead>\n",
       "  <tbody>\n",
       "    <tr>\n",
       "      <th>benign</th>\n",
       "      <td>12201</td>\n",
       "      <td>136</td>\n",
       "    </tr>\n",
       "    <tr>\n",
       "      <th>malware</th>\n",
       "      <td>65</td>\n",
       "      <td>1301</td>\n",
       "    </tr>\n",
       "  </tbody>\n",
       "</table>\n",
       "</div>"
      ]
     },
     "metadata": {},
     "output_type": "display_data",
     "jetTransient": {
      "display_id": null
     }
    },
    {
     "name": "stdout",
     "output_type": "stream",
     "text": [
      "Test time: f0:00:01.008747\n",
      "Accuracy: 99.01%,\tPrecision: 99.52%\tRecall: 90.56%\tFPR: 0.00049\n"
     ]
    },
    {
     "data": {
      "text/plain": [
       "Pred     benign  malware\n",
       "True                    \n",
       "benign    12331        6\n",
       "malware     129     1237"
      ],
      "text/html": [
       "<div>\n",
       "<style scoped>\n",
       "    .dataframe tbody tr th:only-of-type {\n",
       "        vertical-align: middle;\n",
       "    }\n",
       "\n",
       "    .dataframe tbody tr th {\n",
       "        vertical-align: top;\n",
       "    }\n",
       "\n",
       "    .dataframe thead th {\n",
       "        text-align: right;\n",
       "    }\n",
       "</style>\n",
       "<table border=\"1\" class=\"dataframe\">\n",
       "  <thead>\n",
       "    <tr style=\"text-align: right;\">\n",
       "      <th>Pred</th>\n",
       "      <th>benign</th>\n",
       "      <th>malware</th>\n",
       "    </tr>\n",
       "    <tr>\n",
       "      <th>True</th>\n",
       "      <th></th>\n",
       "      <th></th>\n",
       "    </tr>\n",
       "  </thead>\n",
       "  <tbody>\n",
       "    <tr>\n",
       "      <th>benign</th>\n",
       "      <td>12331</td>\n",
       "      <td>6</td>\n",
       "    </tr>\n",
       "    <tr>\n",
       "      <th>malware</th>\n",
       "      <td>129</td>\n",
       "      <td>1237</td>\n",
       "    </tr>\n",
       "  </tbody>\n",
       "</table>\n",
       "</div>"
      ]
     },
     "metadata": {},
     "output_type": "display_data",
     "jetTransient": {
      "display_id": null
     }
    }
   ],
   "execution_count": 7
  },
  {
   "metadata": {
    "ExecuteTime": {
     "end_time": "2025-10-01T11:55:57.713579Z",
     "start_time": "2025-10-01T11:55:57.701578Z"
    }
   },
   "cell_type": "code",
   "source": [
    "rec_list.append((rec_def, rec_new))\n",
    "avg_fpr_new = (fpr_list[0][1] + fpr_list[1][1] + fpr_list[2][1] + fpr_list[3][1] + fpr_list[4][1]) / 5\n",
    "avg_fpr_def = (fpr_list[0][0] + fpr_list[1][0] + fpr_list[2][0] + fpr_list[3][0] + fpr_list[4][0]) / 5\n",
    "\n",
    "avg_rec_new = (rec_list[0][1] + rec_list[1][1] + rec_list[2][1] + rec_list[3][1] + rec_list[4][1]) / 5\n",
    "avg_rec_def = (rec_list[0][0] + rec_list[1][0] + rec_list[2][0] + rec_list[3][0] + rec_list[4][0]) / 5\n",
    "\n",
    "print(\"Original FPR: {:.6f}\\tNew FPR: {:.6f}\".format(avg_fpr_def, avg_fpr_new))\n",
    "print(\"Original TPR: {:.6f}\\tNew TPR: {:.6f}\".format(avg_rec_def, avg_rec_new))"
   ],
   "id": "a13e1f955c424d7a",
   "outputs": [
    {
     "name": "stdout",
     "output_type": "stream",
     "text": [
      "Original FPR: 0.009646\tNew FPR: 0.000470\n",
      "Original TPR: 0.955198\tNew TPR: 0.905417\n"
     ]
    }
   ],
   "execution_count": 8
  },
  {
   "metadata": {
    "ExecuteTime": {
     "end_time": "2025-10-01T11:55:57.743577Z",
     "start_time": "2025-10-01T11:55:57.724576Z"
    }
   },
   "cell_type": "code",
   "source": "# EXPERIMENT 2: subsampling benign extensions to balance the dataset (and hoping for a better baseline performance)",
   "id": "447ab6f2c959609d",
   "outputs": [],
   "execution_count": 9
  },
  {
   "metadata": {
    "ExecuteTime": {
     "end_time": "2025-10-01T11:59:12.645699Z",
     "start_time": "2025-10-01T11:55:57.747577Z"
    }
   },
   "cell_type": "code",
   "source": [
    "for i in range(5): # repeat it as many times as you want\n",
    "    print(\"\\n\\nROUND {}\\n\\n\".format(i))\n",
    "    for j in [0.1, 0.2, 0.4, 0.8]: # specify the size of each draw\n",
    "\n",
    "\n",
    "        sub_train_ben = train_ben.sample(n=(int(len(train_ben)*j)), random_state=i)\n",
    "        sub_train = pd.concat([sub_train_ben, train_mal])\n",
    "\n",
    "        print(\"\\tSubset: {} --> Benign samples: {}\\t Malicious samples: {}\".format(j,len(sub_train_ben), len(train_mal)))\n",
    "\n",
    "        ## Define and train the classifier\n",
    "        rf_sub = RandomForestClassifier(n_estimators=300, max_features=\"sqrt\", criterion=\"gini\",\n",
    "                                           n_jobs=-2, class_weight=\"balanced\", random_state=1)\n",
    "        start = datetime.now()\n",
    "        rf_sub.fit(sub_train[features], sub_train[label])\n",
    "        print(f\"Training time: f{datetime.now()- start}\")\n",
    "\n",
    "\n",
    "        ## Test the classifier\n",
    "\n",
    "        prob_, acc, prec, rec, fpr = test_clf(rf_sub, test)"
   ],
   "id": "dd5e2490330c1e99",
   "outputs": [
    {
     "name": "stdout",
     "output_type": "stream",
     "text": [
      "\n",
      "\n",
      "ROUND 0\n",
      "\n",
      "\n",
      "\tSubset: 0.1 --> Benign samples: 4934\t Malicious samples: 5464\n",
      "Training time: f0:00:02.535192\n",
      "Accuracy: 60.94%,\tPrecision: 20.29%\tRecall: 99.63%\tFPR: 0.43341\n"
     ]
    },
    {
     "data": {
      "text/plain": [
       "Pred     benign  malware\n",
       "True                    \n",
       "benign     6990     5347\n",
       "malware       5     1361"
      ],
      "text/html": [
       "<div>\n",
       "<style scoped>\n",
       "    .dataframe tbody tr th:only-of-type {\n",
       "        vertical-align: middle;\n",
       "    }\n",
       "\n",
       "    .dataframe tbody tr th {\n",
       "        vertical-align: top;\n",
       "    }\n",
       "\n",
       "    .dataframe thead th {\n",
       "        text-align: right;\n",
       "    }\n",
       "</style>\n",
       "<table border=\"1\" class=\"dataframe\">\n",
       "  <thead>\n",
       "    <tr style=\"text-align: right;\">\n",
       "      <th>Pred</th>\n",
       "      <th>benign</th>\n",
       "      <th>malware</th>\n",
       "    </tr>\n",
       "    <tr>\n",
       "      <th>True</th>\n",
       "      <th></th>\n",
       "      <th></th>\n",
       "    </tr>\n",
       "  </thead>\n",
       "  <tbody>\n",
       "    <tr>\n",
       "      <th>benign</th>\n",
       "      <td>6990</td>\n",
       "      <td>5347</td>\n",
       "    </tr>\n",
       "    <tr>\n",
       "      <th>malware</th>\n",
       "      <td>5</td>\n",
       "      <td>1361</td>\n",
       "    </tr>\n",
       "  </tbody>\n",
       "</table>\n",
       "</div>"
      ]
     },
     "metadata": {},
     "output_type": "display_data",
     "jetTransient": {
      "display_id": null
     }
    },
    {
     "name": "stdout",
     "output_type": "stream",
     "text": [
      "\tSubset: 0.2 --> Benign samples: 9869\t Malicious samples: 5464\n",
      "Training time: f0:00:04.290366\n",
      "Accuracy: 81.54%,\tPrecision: 34.96%\tRecall: 99.05%\tFPR: 0.20402\n"
     ]
    },
    {
     "data": {
      "text/plain": [
       "Pred     benign  malware\n",
       "True                    \n",
       "benign     9820     2517\n",
       "malware      13     1353"
      ],
      "text/html": [
       "<div>\n",
       "<style scoped>\n",
       "    .dataframe tbody tr th:only-of-type {\n",
       "        vertical-align: middle;\n",
       "    }\n",
       "\n",
       "    .dataframe tbody tr th {\n",
       "        vertical-align: top;\n",
       "    }\n",
       "\n",
       "    .dataframe thead th {\n",
       "        text-align: right;\n",
       "    }\n",
       "</style>\n",
       "<table border=\"1\" class=\"dataframe\">\n",
       "  <thead>\n",
       "    <tr style=\"text-align: right;\">\n",
       "      <th>Pred</th>\n",
       "      <th>benign</th>\n",
       "      <th>malware</th>\n",
       "    </tr>\n",
       "    <tr>\n",
       "      <th>True</th>\n",
       "      <th></th>\n",
       "      <th></th>\n",
       "    </tr>\n",
       "  </thead>\n",
       "  <tbody>\n",
       "    <tr>\n",
       "      <th>benign</th>\n",
       "      <td>9820</td>\n",
       "      <td>2517</td>\n",
       "    </tr>\n",
       "    <tr>\n",
       "      <th>malware</th>\n",
       "      <td>13</td>\n",
       "      <td>1353</td>\n",
       "    </tr>\n",
       "  </tbody>\n",
       "</table>\n",
       "</div>"
      ]
     },
     "metadata": {},
     "output_type": "display_data",
     "jetTransient": {
      "display_id": null
     }
    },
    {
     "name": "stdout",
     "output_type": "stream",
     "text": [
      "\tSubset: 0.4 --> Benign samples: 19738\t Malicious samples: 5464\n",
      "Training time: f0:00:08.509002\n",
      "Accuracy: 93.69%,\tPrecision: 61.58%\tRecall: 97.73%\tFPR: 0.06752\n"
     ]
    },
    {
     "data": {
      "text/plain": [
       "Pred     benign  malware\n",
       "True                    \n",
       "benign    11504      833\n",
       "malware      31     1335"
      ],
      "text/html": [
       "<div>\n",
       "<style scoped>\n",
       "    .dataframe tbody tr th:only-of-type {\n",
       "        vertical-align: middle;\n",
       "    }\n",
       "\n",
       "    .dataframe tbody tr th {\n",
       "        vertical-align: top;\n",
       "    }\n",
       "\n",
       "    .dataframe thead th {\n",
       "        text-align: right;\n",
       "    }\n",
       "</style>\n",
       "<table border=\"1\" class=\"dataframe\">\n",
       "  <thead>\n",
       "    <tr style=\"text-align: right;\">\n",
       "      <th>Pred</th>\n",
       "      <th>benign</th>\n",
       "      <th>malware</th>\n",
       "    </tr>\n",
       "    <tr>\n",
       "      <th>True</th>\n",
       "      <th></th>\n",
       "      <th></th>\n",
       "    </tr>\n",
       "  </thead>\n",
       "  <tbody>\n",
       "    <tr>\n",
       "      <th>benign</th>\n",
       "      <td>11504</td>\n",
       "      <td>833</td>\n",
       "    </tr>\n",
       "    <tr>\n",
       "      <th>malware</th>\n",
       "      <td>31</td>\n",
       "      <td>1335</td>\n",
       "    </tr>\n",
       "  </tbody>\n",
       "</table>\n",
       "</div>"
      ]
     },
     "metadata": {},
     "output_type": "display_data",
     "jetTransient": {
      "display_id": null
     }
    },
    {
     "name": "stdout",
     "output_type": "stream",
     "text": [
      "\tSubset: 0.8 --> Benign samples: 39477\t Malicious samples: 5464\n",
      "Training time: f0:00:17.537782\n",
      "Accuracy: 98.05%,\tPrecision: 86.08%\tRecall: 95.97%\tFPR: 0.01718\n"
     ]
    },
    {
     "data": {
      "text/plain": [
       "Pred     benign  malware\n",
       "True                    \n",
       "benign    12125      212\n",
       "malware      55     1311"
      ],
      "text/html": [
       "<div>\n",
       "<style scoped>\n",
       "    .dataframe tbody tr th:only-of-type {\n",
       "        vertical-align: middle;\n",
       "    }\n",
       "\n",
       "    .dataframe tbody tr th {\n",
       "        vertical-align: top;\n",
       "    }\n",
       "\n",
       "    .dataframe thead th {\n",
       "        text-align: right;\n",
       "    }\n",
       "</style>\n",
       "<table border=\"1\" class=\"dataframe\">\n",
       "  <thead>\n",
       "    <tr style=\"text-align: right;\">\n",
       "      <th>Pred</th>\n",
       "      <th>benign</th>\n",
       "      <th>malware</th>\n",
       "    </tr>\n",
       "    <tr>\n",
       "      <th>True</th>\n",
       "      <th></th>\n",
       "      <th></th>\n",
       "    </tr>\n",
       "  </thead>\n",
       "  <tbody>\n",
       "    <tr>\n",
       "      <th>benign</th>\n",
       "      <td>12125</td>\n",
       "      <td>212</td>\n",
       "    </tr>\n",
       "    <tr>\n",
       "      <th>malware</th>\n",
       "      <td>55</td>\n",
       "      <td>1311</td>\n",
       "    </tr>\n",
       "  </tbody>\n",
       "</table>\n",
       "</div>"
      ]
     },
     "metadata": {},
     "output_type": "display_data",
     "jetTransient": {
      "display_id": null
     }
    },
    {
     "name": "stdout",
     "output_type": "stream",
     "text": [
      "\n",
      "\n",
      "ROUND 1\n",
      "\n",
      "\n",
      "\tSubset: 0.1 --> Benign samples: 4934\t Malicious samples: 5464\n",
      "Training time: f0:00:02.415853\n",
      "Accuracy: 61.02%,\tPrecision: 20.32%\tRecall: 99.63%\tFPR: 0.43260\n"
     ]
    },
    {
     "data": {
      "text/plain": [
       "Pred     benign  malware\n",
       "True                    \n",
       "benign     7000     5337\n",
       "malware       5     1361"
      ],
      "text/html": [
       "<div>\n",
       "<style scoped>\n",
       "    .dataframe tbody tr th:only-of-type {\n",
       "        vertical-align: middle;\n",
       "    }\n",
       "\n",
       "    .dataframe tbody tr th {\n",
       "        vertical-align: top;\n",
       "    }\n",
       "\n",
       "    .dataframe thead th {\n",
       "        text-align: right;\n",
       "    }\n",
       "</style>\n",
       "<table border=\"1\" class=\"dataframe\">\n",
       "  <thead>\n",
       "    <tr style=\"text-align: right;\">\n",
       "      <th>Pred</th>\n",
       "      <th>benign</th>\n",
       "      <th>malware</th>\n",
       "    </tr>\n",
       "    <tr>\n",
       "      <th>True</th>\n",
       "      <th></th>\n",
       "      <th></th>\n",
       "    </tr>\n",
       "  </thead>\n",
       "  <tbody>\n",
       "    <tr>\n",
       "      <th>benign</th>\n",
       "      <td>7000</td>\n",
       "      <td>5337</td>\n",
       "    </tr>\n",
       "    <tr>\n",
       "      <th>malware</th>\n",
       "      <td>5</td>\n",
       "      <td>1361</td>\n",
       "    </tr>\n",
       "  </tbody>\n",
       "</table>\n",
       "</div>"
      ]
     },
     "metadata": {},
     "output_type": "display_data",
     "jetTransient": {
      "display_id": null
     }
    },
    {
     "name": "stdout",
     "output_type": "stream",
     "text": [
      "\tSubset: 0.2 --> Benign samples: 9869\t Malicious samples: 5464\n",
      "Training time: f0:00:04.110822\n",
      "Accuracy: 81.54%,\tPrecision: 34.94%\tRecall: 98.83%\tFPR: 0.20378\n"
     ]
    },
    {
     "data": {
      "text/plain": [
       "Pred     benign  malware\n",
       "True                    \n",
       "benign     9823     2514\n",
       "malware      16     1350"
      ],
      "text/html": [
       "<div>\n",
       "<style scoped>\n",
       "    .dataframe tbody tr th:only-of-type {\n",
       "        vertical-align: middle;\n",
       "    }\n",
       "\n",
       "    .dataframe tbody tr th {\n",
       "        vertical-align: top;\n",
       "    }\n",
       "\n",
       "    .dataframe thead th {\n",
       "        text-align: right;\n",
       "    }\n",
       "</style>\n",
       "<table border=\"1\" class=\"dataframe\">\n",
       "  <thead>\n",
       "    <tr style=\"text-align: right;\">\n",
       "      <th>Pred</th>\n",
       "      <th>benign</th>\n",
       "      <th>malware</th>\n",
       "    </tr>\n",
       "    <tr>\n",
       "      <th>True</th>\n",
       "      <th></th>\n",
       "      <th></th>\n",
       "    </tr>\n",
       "  </thead>\n",
       "  <tbody>\n",
       "    <tr>\n",
       "      <th>benign</th>\n",
       "      <td>9823</td>\n",
       "      <td>2514</td>\n",
       "    </tr>\n",
       "    <tr>\n",
       "      <th>malware</th>\n",
       "      <td>16</td>\n",
       "      <td>1350</td>\n",
       "    </tr>\n",
       "  </tbody>\n",
       "</table>\n",
       "</div>"
      ]
     },
     "metadata": {},
     "output_type": "display_data",
     "jetTransient": {
      "display_id": null
     }
    },
    {
     "name": "stdout",
     "output_type": "stream",
     "text": [
      "\tSubset: 0.4 --> Benign samples: 19738\t Malicious samples: 5464\n",
      "Training time: f0:00:08.827987\n",
      "Accuracy: 93.65%,\tPrecision: 61.41%\tRecall: 97.73%\tFPR: 0.06801\n"
     ]
    },
    {
     "data": {
      "text/plain": [
       "Pred     benign  malware\n",
       "True                    \n",
       "benign    11498      839\n",
       "malware      31     1335"
      ],
      "text/html": [
       "<div>\n",
       "<style scoped>\n",
       "    .dataframe tbody tr th:only-of-type {\n",
       "        vertical-align: middle;\n",
       "    }\n",
       "\n",
       "    .dataframe tbody tr th {\n",
       "        vertical-align: top;\n",
       "    }\n",
       "\n",
       "    .dataframe thead th {\n",
       "        text-align: right;\n",
       "    }\n",
       "</style>\n",
       "<table border=\"1\" class=\"dataframe\">\n",
       "  <thead>\n",
       "    <tr style=\"text-align: right;\">\n",
       "      <th>Pred</th>\n",
       "      <th>benign</th>\n",
       "      <th>malware</th>\n",
       "    </tr>\n",
       "    <tr>\n",
       "      <th>True</th>\n",
       "      <th></th>\n",
       "      <th></th>\n",
       "    </tr>\n",
       "  </thead>\n",
       "  <tbody>\n",
       "    <tr>\n",
       "      <th>benign</th>\n",
       "      <td>11498</td>\n",
       "      <td>839</td>\n",
       "    </tr>\n",
       "    <tr>\n",
       "      <th>malware</th>\n",
       "      <td>31</td>\n",
       "      <td>1335</td>\n",
       "    </tr>\n",
       "  </tbody>\n",
       "</table>\n",
       "</div>"
      ]
     },
     "metadata": {},
     "output_type": "display_data",
     "jetTransient": {
      "display_id": null
     }
    },
    {
     "name": "stdout",
     "output_type": "stream",
     "text": [
      "\tSubset: 0.8 --> Benign samples: 39477\t Malicious samples: 5464\n",
      "Training time: f0:00:18.051117\n",
      "Accuracy: 98.14%,\tPrecision: 86.72%\tRecall: 96.05%\tFPR: 0.01629\n"
     ]
    },
    {
     "data": {
      "text/plain": [
       "Pred     benign  malware\n",
       "True                    \n",
       "benign    12136      201\n",
       "malware      54     1312"
      ],
      "text/html": [
       "<div>\n",
       "<style scoped>\n",
       "    .dataframe tbody tr th:only-of-type {\n",
       "        vertical-align: middle;\n",
       "    }\n",
       "\n",
       "    .dataframe tbody tr th {\n",
       "        vertical-align: top;\n",
       "    }\n",
       "\n",
       "    .dataframe thead th {\n",
       "        text-align: right;\n",
       "    }\n",
       "</style>\n",
       "<table border=\"1\" class=\"dataframe\">\n",
       "  <thead>\n",
       "    <tr style=\"text-align: right;\">\n",
       "      <th>Pred</th>\n",
       "      <th>benign</th>\n",
       "      <th>malware</th>\n",
       "    </tr>\n",
       "    <tr>\n",
       "      <th>True</th>\n",
       "      <th></th>\n",
       "      <th></th>\n",
       "    </tr>\n",
       "  </thead>\n",
       "  <tbody>\n",
       "    <tr>\n",
       "      <th>benign</th>\n",
       "      <td>12136</td>\n",
       "      <td>201</td>\n",
       "    </tr>\n",
       "    <tr>\n",
       "      <th>malware</th>\n",
       "      <td>54</td>\n",
       "      <td>1312</td>\n",
       "    </tr>\n",
       "  </tbody>\n",
       "</table>\n",
       "</div>"
      ]
     },
     "metadata": {},
     "output_type": "display_data",
     "jetTransient": {
      "display_id": null
     }
    },
    {
     "name": "stdout",
     "output_type": "stream",
     "text": [
      "\n",
      "\n",
      "ROUND 2\n",
      "\n",
      "\n",
      "\tSubset: 0.1 --> Benign samples: 4934\t Malicious samples: 5464\n",
      "Training time: f0:00:02.742002\n",
      "Accuracy: 60.46%,\tPrecision: 20.11%\tRecall: 99.78%\tFPR: 0.43892\n"
     ]
    },
    {
     "data": {
      "text/plain": [
       "Pred     benign  malware\n",
       "True                    \n",
       "benign     6922     5415\n",
       "malware       3     1363"
      ],
      "text/html": [
       "<div>\n",
       "<style scoped>\n",
       "    .dataframe tbody tr th:only-of-type {\n",
       "        vertical-align: middle;\n",
       "    }\n",
       "\n",
       "    .dataframe tbody tr th {\n",
       "        vertical-align: top;\n",
       "    }\n",
       "\n",
       "    .dataframe thead th {\n",
       "        text-align: right;\n",
       "    }\n",
       "</style>\n",
       "<table border=\"1\" class=\"dataframe\">\n",
       "  <thead>\n",
       "    <tr style=\"text-align: right;\">\n",
       "      <th>Pred</th>\n",
       "      <th>benign</th>\n",
       "      <th>malware</th>\n",
       "    </tr>\n",
       "    <tr>\n",
       "      <th>True</th>\n",
       "      <th></th>\n",
       "      <th></th>\n",
       "    </tr>\n",
       "  </thead>\n",
       "  <tbody>\n",
       "    <tr>\n",
       "      <th>benign</th>\n",
       "      <td>6922</td>\n",
       "      <td>5415</td>\n",
       "    </tr>\n",
       "    <tr>\n",
       "      <th>malware</th>\n",
       "      <td>3</td>\n",
       "      <td>1363</td>\n",
       "    </tr>\n",
       "  </tbody>\n",
       "</table>\n",
       "</div>"
      ]
     },
     "metadata": {},
     "output_type": "display_data",
     "jetTransient": {
      "display_id": null
     }
    },
    {
     "name": "stdout",
     "output_type": "stream",
     "text": [
      "\tSubset: 0.2 --> Benign samples: 9869\t Malicious samples: 5464\n",
      "Training time: f0:00:05.453038\n",
      "Accuracy: 81.47%,\tPrecision: 34.86%\tRecall: 98.90%\tFPR: 0.20459\n"
     ]
    },
    {
     "data": {
      "text/plain": [
       "Pred     benign  malware\n",
       "True                    \n",
       "benign     9813     2524\n",
       "malware      15     1351"
      ],
      "text/html": [
       "<div>\n",
       "<style scoped>\n",
       "    .dataframe tbody tr th:only-of-type {\n",
       "        vertical-align: middle;\n",
       "    }\n",
       "\n",
       "    .dataframe tbody tr th {\n",
       "        vertical-align: top;\n",
       "    }\n",
       "\n",
       "    .dataframe thead th {\n",
       "        text-align: right;\n",
       "    }\n",
       "</style>\n",
       "<table border=\"1\" class=\"dataframe\">\n",
       "  <thead>\n",
       "    <tr style=\"text-align: right;\">\n",
       "      <th>Pred</th>\n",
       "      <th>benign</th>\n",
       "      <th>malware</th>\n",
       "    </tr>\n",
       "    <tr>\n",
       "      <th>True</th>\n",
       "      <th></th>\n",
       "      <th></th>\n",
       "    </tr>\n",
       "  </thead>\n",
       "  <tbody>\n",
       "    <tr>\n",
       "      <th>benign</th>\n",
       "      <td>9813</td>\n",
       "      <td>2524</td>\n",
       "    </tr>\n",
       "    <tr>\n",
       "      <th>malware</th>\n",
       "      <td>15</td>\n",
       "      <td>1351</td>\n",
       "    </tr>\n",
       "  </tbody>\n",
       "</table>\n",
       "</div>"
      ]
     },
     "metadata": {},
     "output_type": "display_data",
     "jetTransient": {
      "display_id": null
     }
    },
    {
     "name": "stdout",
     "output_type": "stream",
     "text": [
      "\tSubset: 0.4 --> Benign samples: 19738\t Malicious samples: 5464\n",
      "Training time: f0:00:08.233396\n",
      "Accuracy: 93.86%,\tPrecision: 62.24%\tRecall: 97.73%\tFPR: 0.06566\n"
     ]
    },
    {
     "data": {
      "text/plain": [
       "Pred     benign  malware\n",
       "True                    \n",
       "benign    11527      810\n",
       "malware      31     1335"
      ],
      "text/html": [
       "<div>\n",
       "<style scoped>\n",
       "    .dataframe tbody tr th:only-of-type {\n",
       "        vertical-align: middle;\n",
       "    }\n",
       "\n",
       "    .dataframe tbody tr th {\n",
       "        vertical-align: top;\n",
       "    }\n",
       "\n",
       "    .dataframe thead th {\n",
       "        text-align: right;\n",
       "    }\n",
       "</style>\n",
       "<table border=\"1\" class=\"dataframe\">\n",
       "  <thead>\n",
       "    <tr style=\"text-align: right;\">\n",
       "      <th>Pred</th>\n",
       "      <th>benign</th>\n",
       "      <th>malware</th>\n",
       "    </tr>\n",
       "    <tr>\n",
       "      <th>True</th>\n",
       "      <th></th>\n",
       "      <th></th>\n",
       "    </tr>\n",
       "  </thead>\n",
       "  <tbody>\n",
       "    <tr>\n",
       "      <th>benign</th>\n",
       "      <td>11527</td>\n",
       "      <td>810</td>\n",
       "    </tr>\n",
       "    <tr>\n",
       "      <th>malware</th>\n",
       "      <td>31</td>\n",
       "      <td>1335</td>\n",
       "    </tr>\n",
       "  </tbody>\n",
       "</table>\n",
       "</div>"
      ]
     },
     "metadata": {},
     "output_type": "display_data",
     "jetTransient": {
      "display_id": null
     }
    },
    {
     "name": "stdout",
     "output_type": "stream",
     "text": [
      "\tSubset: 0.8 --> Benign samples: 39477\t Malicious samples: 5464\n",
      "Training time: f0:00:16.257787\n",
      "Accuracy: 98.04%,\tPrecision: 86.21%\tRecall: 95.68%\tFPR: 0.01694\n"
     ]
    },
    {
     "data": {
      "text/plain": [
       "Pred     benign  malware\n",
       "True                    \n",
       "benign    12128      209\n",
       "malware      59     1307"
      ],
      "text/html": [
       "<div>\n",
       "<style scoped>\n",
       "    .dataframe tbody tr th:only-of-type {\n",
       "        vertical-align: middle;\n",
       "    }\n",
       "\n",
       "    .dataframe tbody tr th {\n",
       "        vertical-align: top;\n",
       "    }\n",
       "\n",
       "    .dataframe thead th {\n",
       "        text-align: right;\n",
       "    }\n",
       "</style>\n",
       "<table border=\"1\" class=\"dataframe\">\n",
       "  <thead>\n",
       "    <tr style=\"text-align: right;\">\n",
       "      <th>Pred</th>\n",
       "      <th>benign</th>\n",
       "      <th>malware</th>\n",
       "    </tr>\n",
       "    <tr>\n",
       "      <th>True</th>\n",
       "      <th></th>\n",
       "      <th></th>\n",
       "    </tr>\n",
       "  </thead>\n",
       "  <tbody>\n",
       "    <tr>\n",
       "      <th>benign</th>\n",
       "      <td>12128</td>\n",
       "      <td>209</td>\n",
       "    </tr>\n",
       "    <tr>\n",
       "      <th>malware</th>\n",
       "      <td>59</td>\n",
       "      <td>1307</td>\n",
       "    </tr>\n",
       "  </tbody>\n",
       "</table>\n",
       "</div>"
      ]
     },
     "metadata": {},
     "output_type": "display_data",
     "jetTransient": {
      "display_id": null
     }
    },
    {
     "name": "stdout",
     "output_type": "stream",
     "text": [
      "\n",
      "\n",
      "ROUND 3\n",
      "\n",
      "\n",
      "\tSubset: 0.1 --> Benign samples: 4934\t Malicious samples: 5464\n",
      "Training time: f0:00:02.408521\n",
      "Accuracy: 60.81%,\tPrecision: 20.24%\tRecall: 99.71%\tFPR: 0.43495\n"
     ]
    },
    {
     "data": {
      "text/plain": [
       "Pred     benign  malware\n",
       "True                    \n",
       "benign     6971     5366\n",
       "malware       4     1362"
      ],
      "text/html": [
       "<div>\n",
       "<style scoped>\n",
       "    .dataframe tbody tr th:only-of-type {\n",
       "        vertical-align: middle;\n",
       "    }\n",
       "\n",
       "    .dataframe tbody tr th {\n",
       "        vertical-align: top;\n",
       "    }\n",
       "\n",
       "    .dataframe thead th {\n",
       "        text-align: right;\n",
       "    }\n",
       "</style>\n",
       "<table border=\"1\" class=\"dataframe\">\n",
       "  <thead>\n",
       "    <tr style=\"text-align: right;\">\n",
       "      <th>Pred</th>\n",
       "      <th>benign</th>\n",
       "      <th>malware</th>\n",
       "    </tr>\n",
       "    <tr>\n",
       "      <th>True</th>\n",
       "      <th></th>\n",
       "      <th></th>\n",
       "    </tr>\n",
       "  </thead>\n",
       "  <tbody>\n",
       "    <tr>\n",
       "      <th>benign</th>\n",
       "      <td>6971</td>\n",
       "      <td>5366</td>\n",
       "    </tr>\n",
       "    <tr>\n",
       "      <th>malware</th>\n",
       "      <td>4</td>\n",
       "      <td>1362</td>\n",
       "    </tr>\n",
       "  </tbody>\n",
       "</table>\n",
       "</div>"
      ]
     },
     "metadata": {},
     "output_type": "display_data",
     "jetTransient": {
      "display_id": null
     }
    },
    {
     "name": "stdout",
     "output_type": "stream",
     "text": [
      "\tSubset: 0.2 --> Benign samples: 9869\t Malicious samples: 5464\n",
      "Training time: f0:00:04.317991\n",
      "Accuracy: 81.33%,\tPrecision: 34.68%\tRecall: 98.83%\tFPR: 0.20613\n"
     ]
    },
    {
     "data": {
      "text/plain": [
       "Pred     benign  malware\n",
       "True                    \n",
       "benign     9794     2543\n",
       "malware      16     1350"
      ],
      "text/html": [
       "<div>\n",
       "<style scoped>\n",
       "    .dataframe tbody tr th:only-of-type {\n",
       "        vertical-align: middle;\n",
       "    }\n",
       "\n",
       "    .dataframe tbody tr th {\n",
       "        vertical-align: top;\n",
       "    }\n",
       "\n",
       "    .dataframe thead th {\n",
       "        text-align: right;\n",
       "    }\n",
       "</style>\n",
       "<table border=\"1\" class=\"dataframe\">\n",
       "  <thead>\n",
       "    <tr style=\"text-align: right;\">\n",
       "      <th>Pred</th>\n",
       "      <th>benign</th>\n",
       "      <th>malware</th>\n",
       "    </tr>\n",
       "    <tr>\n",
       "      <th>True</th>\n",
       "      <th></th>\n",
       "      <th></th>\n",
       "    </tr>\n",
       "  </thead>\n",
       "  <tbody>\n",
       "    <tr>\n",
       "      <th>benign</th>\n",
       "      <td>9794</td>\n",
       "      <td>2543</td>\n",
       "    </tr>\n",
       "    <tr>\n",
       "      <th>malware</th>\n",
       "      <td>16</td>\n",
       "      <td>1350</td>\n",
       "    </tr>\n",
       "  </tbody>\n",
       "</table>\n",
       "</div>"
      ]
     },
     "metadata": {},
     "output_type": "display_data",
     "jetTransient": {
      "display_id": null
     }
    },
    {
     "name": "stdout",
     "output_type": "stream",
     "text": [
      "\tSubset: 0.4 --> Benign samples: 19738\t Malicious samples: 5464\n",
      "Training time: f0:00:07.544001\n",
      "Accuracy: 93.85%,\tPrecision: 62.21%\tRecall: 97.51%\tFPR: 0.06558\n"
     ]
    },
    {
     "data": {
      "text/plain": [
       "Pred     benign  malware\n",
       "True                    \n",
       "benign    11528      809\n",
       "malware      34     1332"
      ],
      "text/html": [
       "<div>\n",
       "<style scoped>\n",
       "    .dataframe tbody tr th:only-of-type {\n",
       "        vertical-align: middle;\n",
       "    }\n",
       "\n",
       "    .dataframe tbody tr th {\n",
       "        vertical-align: top;\n",
       "    }\n",
       "\n",
       "    .dataframe thead th {\n",
       "        text-align: right;\n",
       "    }\n",
       "</style>\n",
       "<table border=\"1\" class=\"dataframe\">\n",
       "  <thead>\n",
       "    <tr style=\"text-align: right;\">\n",
       "      <th>Pred</th>\n",
       "      <th>benign</th>\n",
       "      <th>malware</th>\n",
       "    </tr>\n",
       "    <tr>\n",
       "      <th>True</th>\n",
       "      <th></th>\n",
       "      <th></th>\n",
       "    </tr>\n",
       "  </thead>\n",
       "  <tbody>\n",
       "    <tr>\n",
       "      <th>benign</th>\n",
       "      <td>11528</td>\n",
       "      <td>809</td>\n",
       "    </tr>\n",
       "    <tr>\n",
       "      <th>malware</th>\n",
       "      <td>34</td>\n",
       "      <td>1332</td>\n",
       "    </tr>\n",
       "  </tbody>\n",
       "</table>\n",
       "</div>"
      ]
     },
     "metadata": {},
     "output_type": "display_data",
     "jetTransient": {
      "display_id": null
     }
    },
    {
     "name": "stdout",
     "output_type": "stream",
     "text": [
      "\tSubset: 0.8 --> Benign samples: 39477\t Malicious samples: 5464\n",
      "Training time: f0:00:15.029589\n",
      "Accuracy: 98.10%,\tPrecision: 86.37%\tRecall: 96.05%\tFPR: 0.01678\n"
     ]
    },
    {
     "data": {
      "text/plain": [
       "Pred     benign  malware\n",
       "True                    \n",
       "benign    12130      207\n",
       "malware      54     1312"
      ],
      "text/html": [
       "<div>\n",
       "<style scoped>\n",
       "    .dataframe tbody tr th:only-of-type {\n",
       "        vertical-align: middle;\n",
       "    }\n",
       "\n",
       "    .dataframe tbody tr th {\n",
       "        vertical-align: top;\n",
       "    }\n",
       "\n",
       "    .dataframe thead th {\n",
       "        text-align: right;\n",
       "    }\n",
       "</style>\n",
       "<table border=\"1\" class=\"dataframe\">\n",
       "  <thead>\n",
       "    <tr style=\"text-align: right;\">\n",
       "      <th>Pred</th>\n",
       "      <th>benign</th>\n",
       "      <th>malware</th>\n",
       "    </tr>\n",
       "    <tr>\n",
       "      <th>True</th>\n",
       "      <th></th>\n",
       "      <th></th>\n",
       "    </tr>\n",
       "  </thead>\n",
       "  <tbody>\n",
       "    <tr>\n",
       "      <th>benign</th>\n",
       "      <td>12130</td>\n",
       "      <td>207</td>\n",
       "    </tr>\n",
       "    <tr>\n",
       "      <th>malware</th>\n",
       "      <td>54</td>\n",
       "      <td>1312</td>\n",
       "    </tr>\n",
       "  </tbody>\n",
       "</table>\n",
       "</div>"
      ]
     },
     "metadata": {},
     "output_type": "display_data",
     "jetTransient": {
      "display_id": null
     }
    },
    {
     "name": "stdout",
     "output_type": "stream",
     "text": [
      "\n",
      "\n",
      "ROUND 4\n",
      "\n",
      "\n",
      "\tSubset: 0.1 --> Benign samples: 4934\t Malicious samples: 5464\n",
      "Training time: f0:00:02.319963\n",
      "Accuracy: 60.22%,\tPrecision: 19.99%\tRecall: 99.63%\tFPR: 0.44144\n"
     ]
    },
    {
     "data": {
      "text/plain": [
       "Pred     benign  malware\n",
       "True                    \n",
       "benign     6891     5446\n",
       "malware       5     1361"
      ],
      "text/html": [
       "<div>\n",
       "<style scoped>\n",
       "    .dataframe tbody tr th:only-of-type {\n",
       "        vertical-align: middle;\n",
       "    }\n",
       "\n",
       "    .dataframe tbody tr th {\n",
       "        vertical-align: top;\n",
       "    }\n",
       "\n",
       "    .dataframe thead th {\n",
       "        text-align: right;\n",
       "    }\n",
       "</style>\n",
       "<table border=\"1\" class=\"dataframe\">\n",
       "  <thead>\n",
       "    <tr style=\"text-align: right;\">\n",
       "      <th>Pred</th>\n",
       "      <th>benign</th>\n",
       "      <th>malware</th>\n",
       "    </tr>\n",
       "    <tr>\n",
       "      <th>True</th>\n",
       "      <th></th>\n",
       "      <th></th>\n",
       "    </tr>\n",
       "  </thead>\n",
       "  <tbody>\n",
       "    <tr>\n",
       "      <th>benign</th>\n",
       "      <td>6891</td>\n",
       "      <td>5446</td>\n",
       "    </tr>\n",
       "    <tr>\n",
       "      <th>malware</th>\n",
       "      <td>5</td>\n",
       "      <td>1361</td>\n",
       "    </tr>\n",
       "  </tbody>\n",
       "</table>\n",
       "</div>"
      ]
     },
     "metadata": {},
     "output_type": "display_data",
     "jetTransient": {
      "display_id": null
     }
    },
    {
     "name": "stdout",
     "output_type": "stream",
     "text": [
      "\tSubset: 0.2 --> Benign samples: 9869\t Malicious samples: 5464\n",
      "Training time: f0:00:04.138001\n",
      "Accuracy: 81.40%,\tPrecision: 34.77%\tRecall: 98.90%\tFPR: 0.20540\n"
     ]
    },
    {
     "data": {
      "text/plain": [
       "Pred     benign  malware\n",
       "True                    \n",
       "benign     9803     2534\n",
       "malware      15     1351"
      ],
      "text/html": [
       "<div>\n",
       "<style scoped>\n",
       "    .dataframe tbody tr th:only-of-type {\n",
       "        vertical-align: middle;\n",
       "    }\n",
       "\n",
       "    .dataframe tbody tr th {\n",
       "        vertical-align: top;\n",
       "    }\n",
       "\n",
       "    .dataframe thead th {\n",
       "        text-align: right;\n",
       "    }\n",
       "</style>\n",
       "<table border=\"1\" class=\"dataframe\">\n",
       "  <thead>\n",
       "    <tr style=\"text-align: right;\">\n",
       "      <th>Pred</th>\n",
       "      <th>benign</th>\n",
       "      <th>malware</th>\n",
       "    </tr>\n",
       "    <tr>\n",
       "      <th>True</th>\n",
       "      <th></th>\n",
       "      <th></th>\n",
       "    </tr>\n",
       "  </thead>\n",
       "  <tbody>\n",
       "    <tr>\n",
       "      <th>benign</th>\n",
       "      <td>9803</td>\n",
       "      <td>2534</td>\n",
       "    </tr>\n",
       "    <tr>\n",
       "      <th>malware</th>\n",
       "      <td>15</td>\n",
       "      <td>1351</td>\n",
       "    </tr>\n",
       "  </tbody>\n",
       "</table>\n",
       "</div>"
      ]
     },
     "metadata": {},
     "output_type": "display_data",
     "jetTransient": {
      "display_id": null
     }
    },
    {
     "name": "stdout",
     "output_type": "stream",
     "text": [
      "\tSubset: 0.4 --> Benign samples: 19738\t Malicious samples: 5464\n",
      "Training time: f0:00:08.094621\n",
      "Accuracy: 93.79%,\tPrecision: 61.97%\tRecall: 97.58%\tFPR: 0.06630\n"
     ]
    },
    {
     "data": {
      "text/plain": [
       "Pred     benign  malware\n",
       "True                    \n",
       "benign    11519      818\n",
       "malware      33     1333"
      ],
      "text/html": [
       "<div>\n",
       "<style scoped>\n",
       "    .dataframe tbody tr th:only-of-type {\n",
       "        vertical-align: middle;\n",
       "    }\n",
       "\n",
       "    .dataframe tbody tr th {\n",
       "        vertical-align: top;\n",
       "    }\n",
       "\n",
       "    .dataframe thead th {\n",
       "        text-align: right;\n",
       "    }\n",
       "</style>\n",
       "<table border=\"1\" class=\"dataframe\">\n",
       "  <thead>\n",
       "    <tr style=\"text-align: right;\">\n",
       "      <th>Pred</th>\n",
       "      <th>benign</th>\n",
       "      <th>malware</th>\n",
       "    </tr>\n",
       "    <tr>\n",
       "      <th>True</th>\n",
       "      <th></th>\n",
       "      <th></th>\n",
       "    </tr>\n",
       "  </thead>\n",
       "  <tbody>\n",
       "    <tr>\n",
       "      <th>benign</th>\n",
       "      <td>11519</td>\n",
       "      <td>818</td>\n",
       "    </tr>\n",
       "    <tr>\n",
       "      <th>malware</th>\n",
       "      <td>33</td>\n",
       "      <td>1333</td>\n",
       "    </tr>\n",
       "  </tbody>\n",
       "</table>\n",
       "</div>"
      ]
     },
     "metadata": {},
     "output_type": "display_data",
     "jetTransient": {
      "display_id": null
     }
    },
    {
     "name": "stdout",
     "output_type": "stream",
     "text": [
      "\tSubset: 0.8 --> Benign samples: 39477\t Malicious samples: 5464\n",
      "Training time: f0:00:15.073698\n",
      "Accuracy: 98.18%,\tPrecision: 86.86%\tRecall: 96.34%\tFPR: 0.01613\n"
     ]
    },
    {
     "data": {
      "text/plain": [
       "Pred     benign  malware\n",
       "True                    \n",
       "benign    12138      199\n",
       "malware      50     1316"
      ],
      "text/html": [
       "<div>\n",
       "<style scoped>\n",
       "    .dataframe tbody tr th:only-of-type {\n",
       "        vertical-align: middle;\n",
       "    }\n",
       "\n",
       "    .dataframe tbody tr th {\n",
       "        vertical-align: top;\n",
       "    }\n",
       "\n",
       "    .dataframe thead th {\n",
       "        text-align: right;\n",
       "    }\n",
       "</style>\n",
       "<table border=\"1\" class=\"dataframe\">\n",
       "  <thead>\n",
       "    <tr style=\"text-align: right;\">\n",
       "      <th>Pred</th>\n",
       "      <th>benign</th>\n",
       "      <th>malware</th>\n",
       "    </tr>\n",
       "    <tr>\n",
       "      <th>True</th>\n",
       "      <th></th>\n",
       "      <th></th>\n",
       "    </tr>\n",
       "  </thead>\n",
       "  <tbody>\n",
       "    <tr>\n",
       "      <th>benign</th>\n",
       "      <td>12138</td>\n",
       "      <td>199</td>\n",
       "    </tr>\n",
       "    <tr>\n",
       "      <th>malware</th>\n",
       "      <td>50</td>\n",
       "      <td>1316</td>\n",
       "    </tr>\n",
       "  </tbody>\n",
       "</table>\n",
       "</div>"
      ]
     },
     "metadata": {},
     "output_type": "display_data",
     "jetTransient": {
      "display_id": null
     }
    }
   ],
   "execution_count": 10
  }
 ],
 "metadata": {
  "kernelspec": {
   "display_name": "Python 3",
   "language": "python",
   "name": "python3"
  },
  "language_info": {
   "codemirror_mode": {
    "name": "ipython",
    "version": 2
   },
   "file_extension": ".py",
   "mimetype": "text/x-python",
   "name": "python",
   "nbconvert_exporter": "python",
   "pygments_lexer": "ipython2",
   "version": "2.7.6"
  }
 },
 "nbformat": 4,
 "nbformat_minor": 5
}
