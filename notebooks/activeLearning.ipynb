{
 "cells": [
  {
   "cell_type": "code",
   "id": "initial_id",
   "metadata": {
    "collapsed": true,
    "ExecuteTime": {
     "end_time": "2025-09-25T19:38:44.958367Z",
     "start_time": "2025-09-25T19:38:02.012507Z"
    }
   },
   "source": [
    "import pandas as pd\n",
    "import sklearn as sk\n",
    "from sklearn.model_selection import train_test_split\n",
    "from sklearn.ensemble import RandomForestClassifier\n",
    "from datetime import datetime\n",
    "\n",
    "df = pd.read_csv(\"feature_updated.csv\", low_memory=False)\n",
    "\n",
    "\n",
    "### STANDARD SETUP\n",
    "\n",
    "features = df.columns\n",
    "to_exclude = ['code', 'status', 'year', 'month', 'dataset', 'split', 'author', 'category', 'MV']\n",
    "features = [x for x in features if x not in to_exclude]\n",
    "# from 0 to 2152: metadata features; from 2152 to 6152 (end): code features\n",
    "# if you want to use the \"combined classifier\", choose all features\n",
    "\n",
    "label = 'status'\n",
    "threshold = 0.912 # this was derived by Ben\n",
    "\n",
    "\n",
    "\n"
   ],
   "outputs": [],
   "execution_count": 1
  },
  {
   "metadata": {
    "ExecuteTime": {
     "end_time": "2025-09-25T19:38:52.947359Z",
     "start_time": "2025-09-25T19:38:52.940152Z"
    }
   },
   "cell_type": "code",
   "source": "number = 15 # number of extensions to use at each new active learning iteration",
   "id": "4c96fe8e80e1206b",
   "outputs": [],
   "execution_count": 2
  },
  {
   "metadata": {
    "ExecuteTime": {
     "end_time": "2025-09-25T19:38:53.255200Z",
     "start_time": "2025-09-25T19:38:53.250200Z"
    }
   },
   "cell_type": "code",
   "source": [
    "def choose_and_merge_top(train_set, test_set, number=number):\n",
    "    # This function takes a given \"train_set\", and adds \"number\" new samples taken from the given \"test set\"\n",
    "    # The samples are chosen from the top of the \"test set\" (assuming that it is ordered)\n",
    "\n",
    "    top = test_set[:number]\n",
    "    top = top.drop(columns=['AbsProbDiff'])\n",
    "    actl_train_set = pd.concat([train_set, top], ignore_index=True)\n",
    "    return actl_train_set"
   ],
   "id": "aa836f13bbe272b4",
   "outputs": [],
   "execution_count": 3
  },
  {
   "metadata": {
    "ExecuteTime": {
     "end_time": "2025-09-25T19:38:53.522130Z",
     "start_time": "2025-09-25T19:38:53.512130Z"
    }
   },
   "cell_type": "code",
   "source": [
    "def choose_and_merge_rnd(train_set, test_set, number=number):\n",
    "    # This function takes a given \"train_set\", and adds \"number\" new samples taken from the given \"test set\"\n",
    "    # The samples are randomly chosen from the test set\n",
    "\n",
    "    rnd = test_set.sample(n=number, random_state=number)\n",
    "    rnd = rnd.drop(columns=['AbsProbDiff'])\n",
    "    abla_train_set = pd.concat([train_set, rnd], ignore_index=True)\n",
    "    return abla_train_set"
   ],
   "id": "b382532b1bce3532",
   "outputs": [],
   "execution_count": 4
  },
  {
   "metadata": {
    "ExecuteTime": {
     "end_time": "2025-09-25T19:38:53.813907Z",
     "start_time": "2025-09-25T19:38:53.794904Z"
    }
   },
   "cell_type": "code",
   "source": [
    "def test_clf(clf, test_set, features=features, label=label, threshold=threshold):\n",
    "    pred = clf.predict(test_set[features])\n",
    "    probabilities = clf.predict_proba(test_set[features])\n",
    "\n",
    "\n",
    "    y_pred = []\n",
    "    for prob in probabilities:\n",
    "        if prob[0] >= threshold:\n",
    "            y_pred.append(\"benign\")\n",
    "        else:\n",
    "            y_pred.append(\"malware\")\n",
    "\n",
    "\n",
    "    acc = sk.metrics.accuracy_score(test_set[label], y_pred)\n",
    "    prec = sk.metrics.precision_score(test_set[label], y_pred, pos_label='malware')\n",
    "    rec = sk.metrics.recall_score(test_set[label], y_pred, pos_label='malware')\n",
    "    print(\"Accuracy: {:.2f}%,\\tPrecision: {:.2f}%\\tRecall: {:.2f}%\".format(acc*100, prec*100, rec*100))\n",
    "\n",
    "    display(pd.crosstab(test_set[label], y_pred, rownames=['True'], colnames=['Pred']))\n",
    "\n",
    "\n",
    "    return probabilities, acc, prec, rec"
   ],
   "id": "e486437984da8025",
   "outputs": [],
   "execution_count": 5
  },
  {
   "metadata": {
    "ExecuteTime": {
     "end_time": "2025-09-25T19:38:53.982717Z",
     "start_time": "2025-09-25T19:38:53.971200Z"
    }
   },
   "cell_type": "code",
   "source": [
    "def refactor_proba(probabilities, test_set, threshold=threshold):\n",
    "    probabilities = probabilities[:,0]\n",
    "    probabilities = probabilities - threshold\n",
    "    probabilities = abs(probabilities)\n",
    "    probabilities = pd.DataFrame(probabilities, columns=['AbsProbDiff'])\n",
    "    probabilities = probabilities.reset_index(drop=True)\n",
    "\n",
    "    test_set = test_set.reset_index(drop=True)\n",
    "    new_test_set = pd.concat([test_set, probabilities], axis=1)\n",
    "    new_test_set = new_test_set.sort_values(by='AbsProbDiff', ascending=True)\n",
    "    return new_test_set"
   ],
   "id": "1fc19145818c7cac",
   "outputs": [],
   "execution_count": 6
  },
  {
   "metadata": {
    "ExecuteTime": {
     "end_time": "2025-09-25T19:38:55.009372Z",
     "start_time": "2025-09-25T19:38:54.167122Z"
    }
   },
   "cell_type": "code",
   "source": [
    "pre_2022 = df[df['year']<=2021]\n",
    "df_2022 = df[df['year']==2022]\n",
    "df_2023 = df[df['year']==2023]"
   ],
   "id": "9ce7a2afc26d843b",
   "outputs": [],
   "execution_count": 7
  },
  {
   "metadata": {
    "ExecuteTime": {
     "end_time": "2025-09-25T19:38:56.107766Z",
     "start_time": "2025-09-25T19:38:55.072373Z"
    }
   },
   "cell_type": "code",
   "source": [
    "df_2022_1 = df_2022[df_2022['month']==1]\n",
    "df_2022_2 = df_2022[df_2022['month']==2]\n",
    "df_2022_3 = df_2022[df_2022['month']==3]\n",
    "df_2022_4 = df_2022[df_2022['month']==4]\n",
    "df_2022_5 = df_2022[df_2022['month']==5]\n",
    "df_2022_6 = df_2022[df_2022['month']==6]\n",
    "df_2022_7 = df_2022[df_2022['month']==7]\n",
    "df_2022_8 = df_2022[df_2022['month']==8]\n",
    "df_2022_9 = df_2022[df_2022['month']==9]\n",
    "df_2022_10 = df_2022[df_2022['month']==10]\n",
    "df_2022_11 = df_2022[df_2022['month']==11]\n",
    "df_2022_12 = df_2022[df_2022['month']==12]\n",
    "\n",
    "df_2023_1 = df_2023[df_2023['month']==1]\n",
    "df_2023_2 = df_2023[df_2023['month']==2]\n",
    "df_2023_3 = df_2023[df_2023['month']==3]\n",
    "df_2023_4 = df_2023[df_2023['month']==4]\n",
    "df_2023_5 = df_2023[df_2023['month']==5]\n",
    "df_2023_6 = df_2023[df_2023['month']==6]\n",
    "df_2023_7 = df_2023[df_2023['month']==7]\n",
    "df_2023_8 = df_2023[df_2023['month']==8]\n",
    "df_2023_9 = df_2023[df_2023['month']==9]\n",
    "df_2023_10 = df_2023[df_2023['month']==10]\n",
    "df_2023_11 = df_2023[df_2023['month']==11]\n",
    "df_2023_12 = df_2023[df_2023['month']==12]"
   ],
   "id": "82f02bbb82a687a3",
   "outputs": [],
   "execution_count": 8
  },
  {
   "metadata": {
    "ExecuteTime": {
     "end_time": "2025-09-25T19:38:56.326282Z",
     "start_time": "2025-09-25T19:38:56.315285Z"
    }
   },
   "cell_type": "code",
   "source": [
    "b_acc = []\n",
    "b_rec = []\n",
    "b_prec = []\n",
    "\n",
    "a_acc = []\n",
    "a_rec = []\n",
    "a_prec = []\n",
    "\n",
    "r_acc = []\n",
    "r_rec = []\n",
    "r_prec = []"
   ],
   "id": "23f110c82effd41",
   "outputs": [],
   "execution_count": 9
  },
  {
   "metadata": {
    "ExecuteTime": {
     "end_time": "2025-09-25T19:39:16.300200Z",
     "start_time": "2025-09-25T19:38:56.359298Z"
    }
   },
   "cell_type": "code",
   "source": [
    "## Define and train the classifier\n",
    "rf_2021 = RandomForestClassifier(n_estimators=300, max_features=\"sqrt\", criterion=\"gini\",\n",
    "                                   n_jobs=-2, class_weight=\"balanced\", random_state=1)\n",
    "start = datetime.now()\n",
    "rf_2021.fit(pre_2022[features], pre_2022[label])\n",
    "print(f\"Training time: f{datetime.now()- start}\")\n",
    "\n",
    "\n",
    "## Test the classifier\n",
    "\n",
    "prob_2022, acc, prec, rec = test_clf(rf_2021, df_2022)\n"
   ],
   "id": "1fbedc9ed111eea5",
   "outputs": [
    {
     "name": "stdout",
     "output_type": "stream",
     "text": [
      "Training time: f0:00:18.807894\n",
      "Accuracy: 95.13%,\tPrecision: 29.14%\tRecall: 52.49%\n"
     ]
    },
    {
     "data": {
      "text/plain": [
       "Pred     benign  malware\n",
       "True                    \n",
       "benign    13543      513\n",
       "malware     191      211"
      ],
      "text/html": [
       "<div>\n",
       "<style scoped>\n",
       "    .dataframe tbody tr th:only-of-type {\n",
       "        vertical-align: middle;\n",
       "    }\n",
       "\n",
       "    .dataframe tbody tr th {\n",
       "        vertical-align: top;\n",
       "    }\n",
       "\n",
       "    .dataframe thead th {\n",
       "        text-align: right;\n",
       "    }\n",
       "</style>\n",
       "<table border=\"1\" class=\"dataframe\">\n",
       "  <thead>\n",
       "    <tr style=\"text-align: right;\">\n",
       "      <th>Pred</th>\n",
       "      <th>benign</th>\n",
       "      <th>malware</th>\n",
       "    </tr>\n",
       "    <tr>\n",
       "      <th>True</th>\n",
       "      <th></th>\n",
       "      <th></th>\n",
       "    </tr>\n",
       "  </thead>\n",
       "  <tbody>\n",
       "    <tr>\n",
       "      <th>benign</th>\n",
       "      <td>13543</td>\n",
       "      <td>513</td>\n",
       "    </tr>\n",
       "    <tr>\n",
       "      <th>malware</th>\n",
       "      <td>191</td>\n",
       "      <td>211</td>\n",
       "    </tr>\n",
       "  </tbody>\n",
       "</table>\n",
       "</div>"
      ]
     },
     "metadata": {},
     "output_type": "display_data",
     "jetTransient": {
      "display_id": null
     }
    }
   ],
   "execution_count": 10
  },
  {
   "metadata": {
    "ExecuteTime": {
     "end_time": "2025-09-25T19:39:16.835201Z",
     "start_time": "2025-09-25T19:39:16.628201Z"
    }
   },
   "cell_type": "code",
   "source": [
    "## Test the classifier on January 2022\n",
    "\n",
    "prob_2022_1, acc, prec, rec = test_clf(rf_2021, df_2022_1)\n",
    "\n",
    "b_acc.append(acc)\n",
    "b_rec.append(rec)\n",
    "b_prec.append(prec)\n"
   ],
   "id": "78ca01885f45bbff",
   "outputs": [
    {
     "name": "stdout",
     "output_type": "stream",
     "text": [
      "Accuracy: 95.38%,\tPrecision: 50.00%\tRecall: 66.67%\n"
     ]
    },
    {
     "data": {
      "text/plain": [
       "Pred     benign  malware\n",
       "True                    \n",
       "benign      900       30\n",
       "malware      15       30"
      ],
      "text/html": [
       "<div>\n",
       "<style scoped>\n",
       "    .dataframe tbody tr th:only-of-type {\n",
       "        vertical-align: middle;\n",
       "    }\n",
       "\n",
       "    .dataframe tbody tr th {\n",
       "        vertical-align: top;\n",
       "    }\n",
       "\n",
       "    .dataframe thead th {\n",
       "        text-align: right;\n",
       "    }\n",
       "</style>\n",
       "<table border=\"1\" class=\"dataframe\">\n",
       "  <thead>\n",
       "    <tr style=\"text-align: right;\">\n",
       "      <th>Pred</th>\n",
       "      <th>benign</th>\n",
       "      <th>malware</th>\n",
       "    </tr>\n",
       "    <tr>\n",
       "      <th>True</th>\n",
       "      <th></th>\n",
       "      <th></th>\n",
       "    </tr>\n",
       "  </thead>\n",
       "  <tbody>\n",
       "    <tr>\n",
       "      <th>benign</th>\n",
       "      <td>900</td>\n",
       "      <td>30</td>\n",
       "    </tr>\n",
       "    <tr>\n",
       "      <th>malware</th>\n",
       "      <td>15</td>\n",
       "      <td>30</td>\n",
       "    </tr>\n",
       "  </tbody>\n",
       "</table>\n",
       "</div>"
      ]
     },
     "metadata": {},
     "output_type": "display_data",
     "jetTransient": {
      "display_id": null
     }
    }
   ],
   "execution_count": 11
  },
  {
   "metadata": {
    "ExecuteTime": {
     "end_time": "2025-09-25T19:39:17.084201Z",
     "start_time": "2025-09-25T19:39:16.895200Z"
    }
   },
   "cell_type": "code",
   "source": [
    "## Test the classifier on Feb 2022\n",
    "\n",
    "prob_2022_2, acc, prec, rec= test_clf(rf_2021, df_2022_2)\n",
    "\n",
    "b_acc.append(acc)\n",
    "b_rec.append(rec)\n",
    "b_prec.append(prec)"
   ],
   "id": "a2df8fd1462ddecc",
   "outputs": [
    {
     "name": "stdout",
     "output_type": "stream",
     "text": [
      "Accuracy: 96.29%,\tPrecision: 33.33%\tRecall: 33.33%\n"
     ]
    },
    {
     "data": {
      "text/plain": [
       "Pred     benign  malware\n",
       "True                    \n",
       "benign      926       18\n",
       "malware      18        9"
      ],
      "text/html": [
       "<div>\n",
       "<style scoped>\n",
       "    .dataframe tbody tr th:only-of-type {\n",
       "        vertical-align: middle;\n",
       "    }\n",
       "\n",
       "    .dataframe tbody tr th {\n",
       "        vertical-align: top;\n",
       "    }\n",
       "\n",
       "    .dataframe thead th {\n",
       "        text-align: right;\n",
       "    }\n",
       "</style>\n",
       "<table border=\"1\" class=\"dataframe\">\n",
       "  <thead>\n",
       "    <tr style=\"text-align: right;\">\n",
       "      <th>Pred</th>\n",
       "      <th>benign</th>\n",
       "      <th>malware</th>\n",
       "    </tr>\n",
       "    <tr>\n",
       "      <th>True</th>\n",
       "      <th></th>\n",
       "      <th></th>\n",
       "    </tr>\n",
       "  </thead>\n",
       "  <tbody>\n",
       "    <tr>\n",
       "      <th>benign</th>\n",
       "      <td>926</td>\n",
       "      <td>18</td>\n",
       "    </tr>\n",
       "    <tr>\n",
       "      <th>malware</th>\n",
       "      <td>18</td>\n",
       "      <td>9</td>\n",
       "    </tr>\n",
       "  </tbody>\n",
       "</table>\n",
       "</div>"
      ]
     },
     "metadata": {},
     "output_type": "display_data",
     "jetTransient": {
      "display_id": null
     }
    }
   ],
   "execution_count": 12
  },
  {
   "metadata": {
    "ExecuteTime": {
     "end_time": "2025-09-25T19:39:17.359200Z",
     "start_time": "2025-09-25T19:39:17.179204Z"
    }
   },
   "cell_type": "code",
   "source": [
    "prob_2022_3, acc, prec, rec = test_clf(rf_2021, df_2022_3)\n",
    "\n",
    "b_acc.append(acc)\n",
    "b_rec.append(rec)\n",
    "b_prec.append(prec)"
   ],
   "id": "e85270c864759e8a",
   "outputs": [
    {
     "name": "stdout",
     "output_type": "stream",
     "text": [
      "Accuracy: 96.11%,\tPrecision: 29.79%\tRecall: 60.87%\n"
     ]
    },
    {
     "data": {
      "text/plain": [
       "Pred     benign  malware\n",
       "True                    \n",
       "benign     1023       33\n",
       "malware       9       14"
      ],
      "text/html": [
       "<div>\n",
       "<style scoped>\n",
       "    .dataframe tbody tr th:only-of-type {\n",
       "        vertical-align: middle;\n",
       "    }\n",
       "\n",
       "    .dataframe tbody tr th {\n",
       "        vertical-align: top;\n",
       "    }\n",
       "\n",
       "    .dataframe thead th {\n",
       "        text-align: right;\n",
       "    }\n",
       "</style>\n",
       "<table border=\"1\" class=\"dataframe\">\n",
       "  <thead>\n",
       "    <tr style=\"text-align: right;\">\n",
       "      <th>Pred</th>\n",
       "      <th>benign</th>\n",
       "      <th>malware</th>\n",
       "    </tr>\n",
       "    <tr>\n",
       "      <th>True</th>\n",
       "      <th></th>\n",
       "      <th></th>\n",
       "    </tr>\n",
       "  </thead>\n",
       "  <tbody>\n",
       "    <tr>\n",
       "      <th>benign</th>\n",
       "      <td>1023</td>\n",
       "      <td>33</td>\n",
       "    </tr>\n",
       "    <tr>\n",
       "      <th>malware</th>\n",
       "      <td>9</td>\n",
       "      <td>14</td>\n",
       "    </tr>\n",
       "  </tbody>\n",
       "</table>\n",
       "</div>"
      ]
     },
     "metadata": {},
     "output_type": "display_data",
     "jetTransient": {
      "display_id": null
     }
    }
   ],
   "execution_count": 13
  },
  {
   "metadata": {
    "ExecuteTime": {
     "end_time": "2025-09-25T19:39:17.634200Z",
     "start_time": "2025-09-25T19:39:17.457203Z"
    }
   },
   "cell_type": "code",
   "source": [
    "prob_2022_4, acc, prec, rec = test_clf(rf_2021, df_2022_4)\n",
    "\n",
    "b_acc.append(acc)\n",
    "b_rec.append(rec)\n",
    "b_prec.append(prec)"
   ],
   "id": "300bb38d4ef9a9b4",
   "outputs": [
    {
     "name": "stdout",
     "output_type": "stream",
     "text": [
      "Accuracy: 95.53%,\tPrecision: 49.09%\tRecall: 54.00%\n"
     ]
    },
    {
     "data": {
      "text/plain": [
       "Pred     benign  malware\n",
       "True                    \n",
       "benign     1063       28\n",
       "malware      23       27"
      ],
      "text/html": [
       "<div>\n",
       "<style scoped>\n",
       "    .dataframe tbody tr th:only-of-type {\n",
       "        vertical-align: middle;\n",
       "    }\n",
       "\n",
       "    .dataframe tbody tr th {\n",
       "        vertical-align: top;\n",
       "    }\n",
       "\n",
       "    .dataframe thead th {\n",
       "        text-align: right;\n",
       "    }\n",
       "</style>\n",
       "<table border=\"1\" class=\"dataframe\">\n",
       "  <thead>\n",
       "    <tr style=\"text-align: right;\">\n",
       "      <th>Pred</th>\n",
       "      <th>benign</th>\n",
       "      <th>malware</th>\n",
       "    </tr>\n",
       "    <tr>\n",
       "      <th>True</th>\n",
       "      <th></th>\n",
       "      <th></th>\n",
       "    </tr>\n",
       "  </thead>\n",
       "  <tbody>\n",
       "    <tr>\n",
       "      <th>benign</th>\n",
       "      <td>1063</td>\n",
       "      <td>28</td>\n",
       "    </tr>\n",
       "    <tr>\n",
       "      <th>malware</th>\n",
       "      <td>23</td>\n",
       "      <td>27</td>\n",
       "    </tr>\n",
       "  </tbody>\n",
       "</table>\n",
       "</div>"
      ]
     },
     "metadata": {},
     "output_type": "display_data",
     "jetTransient": {
      "display_id": null
     }
    }
   ],
   "execution_count": 14
  },
  {
   "metadata": {
    "ExecuteTime": {
     "end_time": "2025-09-25T19:39:17.962200Z",
     "start_time": "2025-09-25T19:39:17.722200Z"
    }
   },
   "cell_type": "code",
   "source": [
    "prob_2022_5, acc, prec, rec = test_clf(rf_2021, df_2022_5)\n",
    "\n",
    "b_acc.append(acc)\n",
    "b_rec.append(rec)\n",
    "b_prec.append(prec)"
   ],
   "id": "fabc8eb06741e896",
   "outputs": [
    {
     "name": "stdout",
     "output_type": "stream",
     "text": [
      "Accuracy: 94.75%,\tPrecision: 6.25%\tRecall: 13.64%\n"
     ]
    },
    {
     "data": {
      "text/plain": [
       "Pred     benign  malware\n",
       "True                    \n",
       "benign     1153       45\n",
       "malware      19        3"
      ],
      "text/html": [
       "<div>\n",
       "<style scoped>\n",
       "    .dataframe tbody tr th:only-of-type {\n",
       "        vertical-align: middle;\n",
       "    }\n",
       "\n",
       "    .dataframe tbody tr th {\n",
       "        vertical-align: top;\n",
       "    }\n",
       "\n",
       "    .dataframe thead th {\n",
       "        text-align: right;\n",
       "    }\n",
       "</style>\n",
       "<table border=\"1\" class=\"dataframe\">\n",
       "  <thead>\n",
       "    <tr style=\"text-align: right;\">\n",
       "      <th>Pred</th>\n",
       "      <th>benign</th>\n",
       "      <th>malware</th>\n",
       "    </tr>\n",
       "    <tr>\n",
       "      <th>True</th>\n",
       "      <th></th>\n",
       "      <th></th>\n",
       "    </tr>\n",
       "  </thead>\n",
       "  <tbody>\n",
       "    <tr>\n",
       "      <th>benign</th>\n",
       "      <td>1153</td>\n",
       "      <td>45</td>\n",
       "    </tr>\n",
       "    <tr>\n",
       "      <th>malware</th>\n",
       "      <td>19</td>\n",
       "      <td>3</td>\n",
       "    </tr>\n",
       "  </tbody>\n",
       "</table>\n",
       "</div>"
      ]
     },
     "metadata": {},
     "output_type": "display_data",
     "jetTransient": {
      "display_id": null
     }
    }
   ],
   "execution_count": 15
  },
  {
   "metadata": {
    "ExecuteTime": {
     "end_time": "2025-09-25T19:39:18.488202Z",
     "start_time": "2025-09-25T19:39:18.287201Z"
    }
   },
   "cell_type": "code",
   "source": [
    "prob_2022_6, acc, prec, rec = test_clf(rf_2021, df_2022_6)\n",
    "\n",
    "b_acc.append(acc)\n",
    "b_rec.append(rec)\n",
    "b_prec.append(prec)"
   ],
   "id": "c93ed95892fca493",
   "outputs": [
    {
     "name": "stdout",
     "output_type": "stream",
     "text": [
      "Accuracy: 94.21%,\tPrecision: 8.11%\tRecall: 50.00%\n"
     ]
    },
    {
     "data": {
      "text/plain": [
       "Pred     benign  malware\n",
       "True                    \n",
       "benign     1197       68\n",
       "malware       6        6"
      ],
      "text/html": [
       "<div>\n",
       "<style scoped>\n",
       "    .dataframe tbody tr th:only-of-type {\n",
       "        vertical-align: middle;\n",
       "    }\n",
       "\n",
       "    .dataframe tbody tr th {\n",
       "        vertical-align: top;\n",
       "    }\n",
       "\n",
       "    .dataframe thead th {\n",
       "        text-align: right;\n",
       "    }\n",
       "</style>\n",
       "<table border=\"1\" class=\"dataframe\">\n",
       "  <thead>\n",
       "    <tr style=\"text-align: right;\">\n",
       "      <th>Pred</th>\n",
       "      <th>benign</th>\n",
       "      <th>malware</th>\n",
       "    </tr>\n",
       "    <tr>\n",
       "      <th>True</th>\n",
       "      <th></th>\n",
       "      <th></th>\n",
       "    </tr>\n",
       "  </thead>\n",
       "  <tbody>\n",
       "    <tr>\n",
       "      <th>benign</th>\n",
       "      <td>1197</td>\n",
       "      <td>68</td>\n",
       "    </tr>\n",
       "    <tr>\n",
       "      <th>malware</th>\n",
       "      <td>6</td>\n",
       "      <td>6</td>\n",
       "    </tr>\n",
       "  </tbody>\n",
       "</table>\n",
       "</div>"
      ]
     },
     "metadata": {},
     "output_type": "display_data",
     "jetTransient": {
      "display_id": null
     }
    }
   ],
   "execution_count": 16
  },
  {
   "metadata": {
    "ExecuteTime": {
     "end_time": "2025-09-25T19:39:18.799201Z",
     "start_time": "2025-09-25T19:39:18.603204Z"
    }
   },
   "cell_type": "code",
   "source": [
    "prob_2022_7, acc, prec, rec = test_clf(rf_2021, df_2022_7)\n",
    "\n",
    "b_acc.append(acc)\n",
    "b_rec.append(rec)\n",
    "b_prec.append(prec)"
   ],
   "id": "37df6bfb35a7fada",
   "outputs": [
    {
     "name": "stdout",
     "output_type": "stream",
     "text": [
      "Accuracy: 95.76%,\tPrecision: 39.22%\tRecall: 51.28%\n"
     ]
    },
    {
     "data": {
      "text/plain": [
       "Pred     benign  malware\n",
       "True                    \n",
       "benign     1110       31\n",
       "malware      19       20"
      ],
      "text/html": [
       "<div>\n",
       "<style scoped>\n",
       "    .dataframe tbody tr th:only-of-type {\n",
       "        vertical-align: middle;\n",
       "    }\n",
       "\n",
       "    .dataframe tbody tr th {\n",
       "        vertical-align: top;\n",
       "    }\n",
       "\n",
       "    .dataframe thead th {\n",
       "        text-align: right;\n",
       "    }\n",
       "</style>\n",
       "<table border=\"1\" class=\"dataframe\">\n",
       "  <thead>\n",
       "    <tr style=\"text-align: right;\">\n",
       "      <th>Pred</th>\n",
       "      <th>benign</th>\n",
       "      <th>malware</th>\n",
       "    </tr>\n",
       "    <tr>\n",
       "      <th>True</th>\n",
       "      <th></th>\n",
       "      <th></th>\n",
       "    </tr>\n",
       "  </thead>\n",
       "  <tbody>\n",
       "    <tr>\n",
       "      <th>benign</th>\n",
       "      <td>1110</td>\n",
       "      <td>31</td>\n",
       "    </tr>\n",
       "    <tr>\n",
       "      <th>malware</th>\n",
       "      <td>19</td>\n",
       "      <td>20</td>\n",
       "    </tr>\n",
       "  </tbody>\n",
       "</table>\n",
       "</div>"
      ]
     },
     "metadata": {},
     "output_type": "display_data",
     "jetTransient": {
      "display_id": null
     }
    }
   ],
   "execution_count": 17
  },
  {
   "metadata": {
    "ExecuteTime": {
     "end_time": "2025-09-25T19:39:19.091202Z",
     "start_time": "2025-09-25T19:39:18.912200Z"
    }
   },
   "cell_type": "code",
   "source": [
    "prob_2022_8, acc, prec, rec = test_clf(rf_2021, df_2022_8)\n",
    "\n",
    "b_acc.append(acc)\n",
    "b_rec.append(rec)\n",
    "b_prec.append(prec)"
   ],
   "id": "7d2813a87c142819",
   "outputs": [
    {
     "name": "stdout",
     "output_type": "stream",
     "text": [
      "Accuracy: 96.37%,\tPrecision: 48.33%\tRecall: 67.44%\n"
     ]
    },
    {
     "data": {
      "text/plain": [
       "Pred     benign  malware\n",
       "True                    \n",
       "benign     1166       31\n",
       "malware      14       29"
      ],
      "text/html": [
       "<div>\n",
       "<style scoped>\n",
       "    .dataframe tbody tr th:only-of-type {\n",
       "        vertical-align: middle;\n",
       "    }\n",
       "\n",
       "    .dataframe tbody tr th {\n",
       "        vertical-align: top;\n",
       "    }\n",
       "\n",
       "    .dataframe thead th {\n",
       "        text-align: right;\n",
       "    }\n",
       "</style>\n",
       "<table border=\"1\" class=\"dataframe\">\n",
       "  <thead>\n",
       "    <tr style=\"text-align: right;\">\n",
       "      <th>Pred</th>\n",
       "      <th>benign</th>\n",
       "      <th>malware</th>\n",
       "    </tr>\n",
       "    <tr>\n",
       "      <th>True</th>\n",
       "      <th></th>\n",
       "      <th></th>\n",
       "    </tr>\n",
       "  </thead>\n",
       "  <tbody>\n",
       "    <tr>\n",
       "      <th>benign</th>\n",
       "      <td>1166</td>\n",
       "      <td>31</td>\n",
       "    </tr>\n",
       "    <tr>\n",
       "      <th>malware</th>\n",
       "      <td>14</td>\n",
       "      <td>29</td>\n",
       "    </tr>\n",
       "  </tbody>\n",
       "</table>\n",
       "</div>"
      ]
     },
     "metadata": {},
     "output_type": "display_data",
     "jetTransient": {
      "display_id": null
     }
    }
   ],
   "execution_count": 18
  },
  {
   "metadata": {
    "ExecuteTime": {
     "end_time": "2025-09-25T19:39:19.401224Z",
     "start_time": "2025-09-25T19:39:19.179228Z"
    }
   },
   "cell_type": "code",
   "source": [
    "prob_2022_9, acc, prec, rec = test_clf(rf_2021, df_2022_9)\n",
    "\n",
    "b_acc.append(acc)\n",
    "b_rec.append(rec)\n",
    "b_prec.append(prec)"
   ],
   "id": "239d4c0ee6d0c2ef",
   "outputs": [
    {
     "name": "stdout",
     "output_type": "stream",
     "text": [
      "Accuracy: 95.61%,\tPrecision: 39.73%\tRecall: 70.73%\n"
     ]
    },
    {
     "data": {
      "text/plain": [
       "Pred     benign  malware\n",
       "True                    \n",
       "benign     1191       44\n",
       "malware      12       29"
      ],
      "text/html": [
       "<div>\n",
       "<style scoped>\n",
       "    .dataframe tbody tr th:only-of-type {\n",
       "        vertical-align: middle;\n",
       "    }\n",
       "\n",
       "    .dataframe tbody tr th {\n",
       "        vertical-align: top;\n",
       "    }\n",
       "\n",
       "    .dataframe thead th {\n",
       "        text-align: right;\n",
       "    }\n",
       "</style>\n",
       "<table border=\"1\" class=\"dataframe\">\n",
       "  <thead>\n",
       "    <tr style=\"text-align: right;\">\n",
       "      <th>Pred</th>\n",
       "      <th>benign</th>\n",
       "      <th>malware</th>\n",
       "    </tr>\n",
       "    <tr>\n",
       "      <th>True</th>\n",
       "      <th></th>\n",
       "      <th></th>\n",
       "    </tr>\n",
       "  </thead>\n",
       "  <tbody>\n",
       "    <tr>\n",
       "      <th>benign</th>\n",
       "      <td>1191</td>\n",
       "      <td>44</td>\n",
       "    </tr>\n",
       "    <tr>\n",
       "      <th>malware</th>\n",
       "      <td>12</td>\n",
       "      <td>29</td>\n",
       "    </tr>\n",
       "  </tbody>\n",
       "</table>\n",
       "</div>"
      ]
     },
     "metadata": {},
     "output_type": "display_data",
     "jetTransient": {
      "display_id": null
     }
    }
   ],
   "execution_count": 19
  },
  {
   "metadata": {
    "ExecuteTime": {
     "end_time": "2025-09-25T19:39:19.663226Z",
     "start_time": "2025-09-25T19:39:19.483225Z"
    }
   },
   "cell_type": "code",
   "source": [
    "prob_2022_10, acc, prec, rec = test_clf(rf_2021, df_2022_10)\n",
    "\n",
    "b_acc.append(acc)\n",
    "b_rec.append(rec)\n",
    "b_prec.append(prec)"
   ],
   "id": "7984088549102b7d",
   "outputs": [
    {
     "name": "stdout",
     "output_type": "stream",
     "text": [
      "Accuracy: 94.54%,\tPrecision: 24.32%\tRecall: 60.00%\n"
     ]
    },
    {
     "data": {
      "text/plain": [
       "Pred     benign  malware\n",
       "True                    \n",
       "benign     1159       56\n",
       "malware      12       18"
      ],
      "text/html": [
       "<div>\n",
       "<style scoped>\n",
       "    .dataframe tbody tr th:only-of-type {\n",
       "        vertical-align: middle;\n",
       "    }\n",
       "\n",
       "    .dataframe tbody tr th {\n",
       "        vertical-align: top;\n",
       "    }\n",
       "\n",
       "    .dataframe thead th {\n",
       "        text-align: right;\n",
       "    }\n",
       "</style>\n",
       "<table border=\"1\" class=\"dataframe\">\n",
       "  <thead>\n",
       "    <tr style=\"text-align: right;\">\n",
       "      <th>Pred</th>\n",
       "      <th>benign</th>\n",
       "      <th>malware</th>\n",
       "    </tr>\n",
       "    <tr>\n",
       "      <th>True</th>\n",
       "      <th></th>\n",
       "      <th></th>\n",
       "    </tr>\n",
       "  </thead>\n",
       "  <tbody>\n",
       "    <tr>\n",
       "      <th>benign</th>\n",
       "      <td>1159</td>\n",
       "      <td>56</td>\n",
       "    </tr>\n",
       "    <tr>\n",
       "      <th>malware</th>\n",
       "      <td>12</td>\n",
       "      <td>18</td>\n",
       "    </tr>\n",
       "  </tbody>\n",
       "</table>\n",
       "</div>"
      ]
     },
     "metadata": {},
     "output_type": "display_data",
     "jetTransient": {
      "display_id": null
     }
    }
   ],
   "execution_count": 20
  },
  {
   "metadata": {
    "ExecuteTime": {
     "end_time": "2025-09-25T19:39:19.941228Z",
     "start_time": "2025-09-25T19:39:19.750227Z"
    }
   },
   "cell_type": "code",
   "source": [
    "prob_2022_11, acc, prec, rec = test_clf(rf_2021, df_2022_11)\n",
    "\n",
    "b_acc.append(acc)\n",
    "b_rec.append(rec)\n",
    "b_prec.append(prec)"
   ],
   "id": "fca9d2b70f07c479",
   "outputs": [
    {
     "name": "stdout",
     "output_type": "stream",
     "text": [
      "Accuracy: 94.85%,\tPrecision: 18.75%\tRecall: 35.29%\n"
     ]
    },
    {
     "data": {
      "text/plain": [
       "Pred     benign  malware\n",
       "True                    \n",
       "benign     1351       52\n",
       "malware      22       12"
      ],
      "text/html": [
       "<div>\n",
       "<style scoped>\n",
       "    .dataframe tbody tr th:only-of-type {\n",
       "        vertical-align: middle;\n",
       "    }\n",
       "\n",
       "    .dataframe tbody tr th {\n",
       "        vertical-align: top;\n",
       "    }\n",
       "\n",
       "    .dataframe thead th {\n",
       "        text-align: right;\n",
       "    }\n",
       "</style>\n",
       "<table border=\"1\" class=\"dataframe\">\n",
       "  <thead>\n",
       "    <tr style=\"text-align: right;\">\n",
       "      <th>Pred</th>\n",
       "      <th>benign</th>\n",
       "      <th>malware</th>\n",
       "    </tr>\n",
       "    <tr>\n",
       "      <th>True</th>\n",
       "      <th></th>\n",
       "      <th></th>\n",
       "    </tr>\n",
       "  </thead>\n",
       "  <tbody>\n",
       "    <tr>\n",
       "      <th>benign</th>\n",
       "      <td>1351</td>\n",
       "      <td>52</td>\n",
       "    </tr>\n",
       "    <tr>\n",
       "      <th>malware</th>\n",
       "      <td>22</td>\n",
       "      <td>12</td>\n",
       "    </tr>\n",
       "  </tbody>\n",
       "</table>\n",
       "</div>"
      ]
     },
     "metadata": {},
     "output_type": "display_data",
     "jetTransient": {
      "display_id": null
     }
    }
   ],
   "execution_count": 21
  },
  {
   "metadata": {
    "ExecuteTime": {
     "end_time": "2025-09-25T19:39:20.237228Z",
     "start_time": "2025-09-25T19:39:20.041226Z"
    }
   },
   "cell_type": "code",
   "source": [
    "prob_2022_12, acc, prec, rec = test_clf(rf_2021, df_2022_12)\n",
    "\n",
    "b_acc.append(acc)\n",
    "b_rec.append(rec)\n",
    "b_prec.append(prec)"
   ],
   "id": "e5de3661f5a02f48",
   "outputs": [
    {
     "name": "stdout",
     "output_type": "stream",
     "text": [
      "Accuracy: 93.01%,\tPrecision: 15.38%\tRecall: 38.89%\n"
     ]
    },
    {
     "data": {
      "text/plain": [
       "Pred     benign  malware\n",
       "True                    \n",
       "benign     1304       77\n",
       "malware      22       14"
      ],
      "text/html": [
       "<div>\n",
       "<style scoped>\n",
       "    .dataframe tbody tr th:only-of-type {\n",
       "        vertical-align: middle;\n",
       "    }\n",
       "\n",
       "    .dataframe tbody tr th {\n",
       "        vertical-align: top;\n",
       "    }\n",
       "\n",
       "    .dataframe thead th {\n",
       "        text-align: right;\n",
       "    }\n",
       "</style>\n",
       "<table border=\"1\" class=\"dataframe\">\n",
       "  <thead>\n",
       "    <tr style=\"text-align: right;\">\n",
       "      <th>Pred</th>\n",
       "      <th>benign</th>\n",
       "      <th>malware</th>\n",
       "    </tr>\n",
       "    <tr>\n",
       "      <th>True</th>\n",
       "      <th></th>\n",
       "      <th></th>\n",
       "    </tr>\n",
       "  </thead>\n",
       "  <tbody>\n",
       "    <tr>\n",
       "      <th>benign</th>\n",
       "      <td>1304</td>\n",
       "      <td>77</td>\n",
       "    </tr>\n",
       "    <tr>\n",
       "      <th>malware</th>\n",
       "      <td>22</td>\n",
       "      <td>14</td>\n",
       "    </tr>\n",
       "  </tbody>\n",
       "</table>\n",
       "</div>"
      ]
     },
     "metadata": {},
     "output_type": "display_data",
     "jetTransient": {
      "display_id": null
     }
    }
   ],
   "execution_count": 22
  },
  {
   "metadata": {
    "ExecuteTime": {
     "end_time": "2025-09-25T19:39:20.329227Z",
     "start_time": "2025-09-25T19:39:20.323225Z"
    }
   },
   "cell_type": "code",
   "source": "#### Let's try with active learning",
   "id": "b2ce31eff1e763f9",
   "outputs": [],
   "execution_count": 23
  },
  {
   "metadata": {
    "ExecuteTime": {
     "end_time": "2025-09-25T19:40:04.267906Z",
     "start_time": "2025-09-25T19:39:20.373076Z"
    }
   },
   "cell_type": "code",
   "source": [
    "df_2022_1 = refactor_proba(prob_2022_1, df_2022_1)\n",
    "top_2022_1 = choose_and_merge_top(pre_2022, df_2022_1)\n",
    "rnd_2022_1 = choose_and_merge_rnd(pre_2022, df_2022_1)\n",
    "\n",
    "\n",
    "\n",
    "## Define and train the classifier: we first retrain the classifier from scratch by using the \"actively learned\" samples, and then do the same but by using randomly chosen samples (ablation study)\n",
    "rf_2022_1_top = RandomForestClassifier(n_estimators=300, max_features=\"sqrt\", criterion=\"gini\",\n",
    "                                   n_jobs=-2, class_weight=\"balanced\", random_state=1)\n",
    "start = datetime.now()\n",
    "rf_2022_1_top.fit(top_2022_1[features], top_2022_1[label])\n",
    "print(f\"Training time: f{datetime.now()- start}\")\n",
    "\n",
    "rf_2022_1_rnd = RandomForestClassifier(n_estimators=300, max_features=\"sqrt\", criterion=\"gini\",\n",
    "                                   n_jobs=-2, class_weight=\"balanced\", random_state=1)\n",
    "start = datetime.now()\n",
    "rf_2022_1_rnd.fit(rnd_2022_1[features], rnd_2022_1[label])\n",
    "print(f\"Training time: f{datetime.now()- start}\")\n",
    "\n",
    "\n",
    "\n",
    "## Test the classifiers\n",
    "\n",
    "prob_2022_2_rnd, acc, prec, rec = test_clf(rf_2022_1_rnd, df_2022_2)\n",
    "r_acc.append(acc)\n",
    "r_rec.append(rec)\n",
    "r_prec.append(prec)\n",
    "\n",
    "prob_2022_2_top, acc, prec, rec = test_clf(rf_2022_1_top, df_2022_2)\n",
    "a_acc.append(acc)\n",
    "a_rec.append(rec)\n",
    "a_prec.append(prec)"
   ],
   "id": "2b820aa67a1c6994",
   "outputs": [
    {
     "name": "stdout",
     "output_type": "stream",
     "text": [
      "Training time: f0:00:22.639905\n",
      "Training time: f0:00:20.210271\n",
      "Accuracy: 96.60%,\tPrecision: 39.29%\tRecall: 40.74%\n"
     ]
    },
    {
     "data": {
      "text/plain": [
       "Pred     benign  malware\n",
       "True                    \n",
       "benign      927       17\n",
       "malware      16       11"
      ],
      "text/html": [
       "<div>\n",
       "<style scoped>\n",
       "    .dataframe tbody tr th:only-of-type {\n",
       "        vertical-align: middle;\n",
       "    }\n",
       "\n",
       "    .dataframe tbody tr th {\n",
       "        vertical-align: top;\n",
       "    }\n",
       "\n",
       "    .dataframe thead th {\n",
       "        text-align: right;\n",
       "    }\n",
       "</style>\n",
       "<table border=\"1\" class=\"dataframe\">\n",
       "  <thead>\n",
       "    <tr style=\"text-align: right;\">\n",
       "      <th>Pred</th>\n",
       "      <th>benign</th>\n",
       "      <th>malware</th>\n",
       "    </tr>\n",
       "    <tr>\n",
       "      <th>True</th>\n",
       "      <th></th>\n",
       "      <th></th>\n",
       "    </tr>\n",
       "  </thead>\n",
       "  <tbody>\n",
       "    <tr>\n",
       "      <th>benign</th>\n",
       "      <td>927</td>\n",
       "      <td>17</td>\n",
       "    </tr>\n",
       "    <tr>\n",
       "      <th>malware</th>\n",
       "      <td>16</td>\n",
       "      <td>11</td>\n",
       "    </tr>\n",
       "  </tbody>\n",
       "</table>\n",
       "</div>"
      ]
     },
     "metadata": {},
     "output_type": "display_data",
     "jetTransient": {
      "display_id": null
     }
    },
    {
     "name": "stdout",
     "output_type": "stream",
     "text": [
      "Accuracy: 97.84%,\tPrecision: 57.14%\tRecall: 88.89%\n"
     ]
    },
    {
     "data": {
      "text/plain": [
       "Pred     benign  malware\n",
       "True                    \n",
       "benign      926       18\n",
       "malware       3       24"
      ],
      "text/html": [
       "<div>\n",
       "<style scoped>\n",
       "    .dataframe tbody tr th:only-of-type {\n",
       "        vertical-align: middle;\n",
       "    }\n",
       "\n",
       "    .dataframe tbody tr th {\n",
       "        vertical-align: top;\n",
       "    }\n",
       "\n",
       "    .dataframe thead th {\n",
       "        text-align: right;\n",
       "    }\n",
       "</style>\n",
       "<table border=\"1\" class=\"dataframe\">\n",
       "  <thead>\n",
       "    <tr style=\"text-align: right;\">\n",
       "      <th>Pred</th>\n",
       "      <th>benign</th>\n",
       "      <th>malware</th>\n",
       "    </tr>\n",
       "    <tr>\n",
       "      <th>True</th>\n",
       "      <th></th>\n",
       "      <th></th>\n",
       "    </tr>\n",
       "  </thead>\n",
       "  <tbody>\n",
       "    <tr>\n",
       "      <th>benign</th>\n",
       "      <td>926</td>\n",
       "      <td>18</td>\n",
       "    </tr>\n",
       "    <tr>\n",
       "      <th>malware</th>\n",
       "      <td>3</td>\n",
       "      <td>24</td>\n",
       "    </tr>\n",
       "  </tbody>\n",
       "</table>\n",
       "</div>"
      ]
     },
     "metadata": {},
     "output_type": "display_data",
     "jetTransient": {
      "display_id": null
     }
    }
   ],
   "execution_count": 24
  },
  {
   "metadata": {
    "ExecuteTime": {
     "end_time": "2025-09-25T19:40:48.444620Z",
     "start_time": "2025-09-25T19:40:04.632940Z"
    }
   },
   "cell_type": "code",
   "source": [
    "df_2022_2 = refactor_proba(prob_2022_2_top, df_2022_2)\n",
    "top_2022_2 = choose_and_merge_top(top_2022_1, df_2022_2)\n",
    "rnd_2022_2 = choose_and_merge_rnd(rnd_2022_1, df_2022_2)\n",
    "\n",
    "\n",
    "## Define and train the classifier: we first retrain the classifier from scratch by using the \"actively learned\" samples, and then do the same but by using randomly chosen samples (ablation study)\n",
    "rf_2022_2_top = RandomForestClassifier(n_estimators=300, max_features=\"sqrt\", criterion=\"gini\",\n",
    "                                   n_jobs=-2, class_weight=\"balanced\", random_state=1)\n",
    "start = datetime.now()\n",
    "rf_2022_2_top.fit(top_2022_2[features], top_2022_2[label])\n",
    "print(f\"Training time: f{datetime.now()- start}\")\n",
    "\n",
    "rf_2022_2_rnd = RandomForestClassifier(n_estimators=300, max_features=\"sqrt\", criterion=\"gini\",\n",
    "                                   n_jobs=-2, class_weight=\"balanced\", random_state=1)\n",
    "start = datetime.now()\n",
    "rf_2022_2_rnd.fit(rnd_2022_2[features], rnd_2022_2[label])\n",
    "print(f\"Training time: f{datetime.now()- start}\")\n",
    "\n",
    "\n",
    "\n",
    "## Test the classifiers\n",
    "\n",
    "prob_2022_3_rnd, acc, prec, rec = test_clf(rf_2022_2_rnd, df_2022_3)\n",
    "r_acc.append(acc)\n",
    "r_rec.append(rec)\n",
    "r_prec.append(prec)\n",
    "\n",
    "\n",
    "prob_2022_3_top, acc, prec, rec = test_clf(rf_2022_2_top, df_2022_3)\n",
    "a_acc.append(acc)\n",
    "a_rec.append(rec)\n",
    "a_prec.append(prec)"
   ],
   "id": "9ec0ff877c47c08c",
   "outputs": [
    {
     "name": "stdout",
     "output_type": "stream",
     "text": [
      "Training time: f0:00:22.405559\n",
      "Training time: f0:00:20.159122\n",
      "Accuracy: 95.55%,\tPrecision: 24.49%\tRecall: 52.17%\n"
     ]
    },
    {
     "data": {
      "text/plain": [
       "Pred     benign  malware\n",
       "True                    \n",
       "benign     1019       37\n",
       "malware      11       12"
      ],
      "text/html": [
       "<div>\n",
       "<style scoped>\n",
       "    .dataframe tbody tr th:only-of-type {\n",
       "        vertical-align: middle;\n",
       "    }\n",
       "\n",
       "    .dataframe tbody tr th {\n",
       "        vertical-align: top;\n",
       "    }\n",
       "\n",
       "    .dataframe thead th {\n",
       "        text-align: right;\n",
       "    }\n",
       "</style>\n",
       "<table border=\"1\" class=\"dataframe\">\n",
       "  <thead>\n",
       "    <tr style=\"text-align: right;\">\n",
       "      <th>Pred</th>\n",
       "      <th>benign</th>\n",
       "      <th>malware</th>\n",
       "    </tr>\n",
       "    <tr>\n",
       "      <th>True</th>\n",
       "      <th></th>\n",
       "      <th></th>\n",
       "    </tr>\n",
       "  </thead>\n",
       "  <tbody>\n",
       "    <tr>\n",
       "      <th>benign</th>\n",
       "      <td>1019</td>\n",
       "      <td>37</td>\n",
       "    </tr>\n",
       "    <tr>\n",
       "      <th>malware</th>\n",
       "      <td>11</td>\n",
       "      <td>12</td>\n",
       "    </tr>\n",
       "  </tbody>\n",
       "</table>\n",
       "</div>"
      ]
     },
     "metadata": {},
     "output_type": "display_data",
     "jetTransient": {
      "display_id": null
     }
    },
    {
     "name": "stdout",
     "output_type": "stream",
     "text": [
      "Accuracy: 97.13%,\tPrecision: 41.67%\tRecall: 86.96%\n"
     ]
    },
    {
     "data": {
      "text/plain": [
       "Pred     benign  malware\n",
       "True                    \n",
       "benign     1028       28\n",
       "malware       3       20"
      ],
      "text/html": [
       "<div>\n",
       "<style scoped>\n",
       "    .dataframe tbody tr th:only-of-type {\n",
       "        vertical-align: middle;\n",
       "    }\n",
       "\n",
       "    .dataframe tbody tr th {\n",
       "        vertical-align: top;\n",
       "    }\n",
       "\n",
       "    .dataframe thead th {\n",
       "        text-align: right;\n",
       "    }\n",
       "</style>\n",
       "<table border=\"1\" class=\"dataframe\">\n",
       "  <thead>\n",
       "    <tr style=\"text-align: right;\">\n",
       "      <th>Pred</th>\n",
       "      <th>benign</th>\n",
       "      <th>malware</th>\n",
       "    </tr>\n",
       "    <tr>\n",
       "      <th>True</th>\n",
       "      <th></th>\n",
       "      <th></th>\n",
       "    </tr>\n",
       "  </thead>\n",
       "  <tbody>\n",
       "    <tr>\n",
       "      <th>benign</th>\n",
       "      <td>1028</td>\n",
       "      <td>28</td>\n",
       "    </tr>\n",
       "    <tr>\n",
       "      <th>malware</th>\n",
       "      <td>3</td>\n",
       "      <td>20</td>\n",
       "    </tr>\n",
       "  </tbody>\n",
       "</table>\n",
       "</div>"
      ]
     },
     "metadata": {},
     "output_type": "display_data",
     "jetTransient": {
      "display_id": null
     }
    }
   ],
   "execution_count": 25
  },
  {
   "metadata": {
    "ExecuteTime": {
     "end_time": "2025-09-25T19:41:27.654988Z",
     "start_time": "2025-09-25T19:40:48.813710Z"
    }
   },
   "cell_type": "code",
   "source": [
    "df_2022_3 = refactor_proba(prob_2022_3_top, df_2022_3)\n",
    "top_2022_3 = choose_and_merge_top(top_2022_2, df_2022_3)\n",
    "rnd_2022_3 = choose_and_merge_rnd(rnd_2022_2, df_2022_3)\n",
    "\n",
    "\n",
    "## Define and train the classifier: we first retrain the classifier from scratch by using the \"actively learned\" samples, and then do the same but by using randomly chosen samples (ablation study)\n",
    "rf_2022_3_top = RandomForestClassifier(n_estimators=300, max_features=\"sqrt\", criterion=\"gini\",\n",
    "                                   n_jobs=-2, class_weight=\"balanced\", random_state=1)\n",
    "start = datetime.now()\n",
    "rf_2022_3_top.fit(top_2022_3[features], top_2022_3[label])\n",
    "print(f\"Training time: f{datetime.now()- start}\")\n",
    "\n",
    "rf_2022_3_rnd = RandomForestClassifier(n_estimators=300, max_features=\"sqrt\", criterion=\"gini\",\n",
    "                                   n_jobs=-2, class_weight=\"balanced\", random_state=1)\n",
    "start = datetime.now()\n",
    "rf_2022_3_rnd.fit(rnd_2022_3[features], rnd_2022_3[label])\n",
    "print(f\"Training time: f{datetime.now()- start}\")\n",
    "\n",
    "\n",
    "\n",
    "## Test the classifiers\n",
    "\n",
    "prob_2022_4_rnd, acc, prec, rec = test_clf(rf_2022_3_rnd, df_2022_4)\n",
    "r_acc.append(acc)\n",
    "r_rec.append(rec)\n",
    "r_prec.append(prec)\n",
    "\n",
    "prob_2022_4_top, acc, prec, rec = test_clf(rf_2022_3_top, df_2022_4)\n",
    "a_acc.append(acc)\n",
    "a_rec.append(rec)\n",
    "a_prec.append(prec)"
   ],
   "id": "bf2973301ff0b2bf",
   "outputs": [
    {
     "name": "stdout",
     "output_type": "stream",
     "text": [
      "Training time: f0:00:19.490316\n",
      "Training time: f0:00:18.320963\n",
      "Accuracy: 95.27%,\tPrecision: 46.43%\tRecall: 52.00%\n"
     ]
    },
    {
     "data": {
      "text/plain": [
       "Pred     benign  malware\n",
       "True                    \n",
       "benign     1061       30\n",
       "malware      24       26"
      ],
      "text/html": [
       "<div>\n",
       "<style scoped>\n",
       "    .dataframe tbody tr th:only-of-type {\n",
       "        vertical-align: middle;\n",
       "    }\n",
       "\n",
       "    .dataframe tbody tr th {\n",
       "        vertical-align: top;\n",
       "    }\n",
       "\n",
       "    .dataframe thead th {\n",
       "        text-align: right;\n",
       "    }\n",
       "</style>\n",
       "<table border=\"1\" class=\"dataframe\">\n",
       "  <thead>\n",
       "    <tr style=\"text-align: right;\">\n",
       "      <th>Pred</th>\n",
       "      <th>benign</th>\n",
       "      <th>malware</th>\n",
       "    </tr>\n",
       "    <tr>\n",
       "      <th>True</th>\n",
       "      <th></th>\n",
       "      <th></th>\n",
       "    </tr>\n",
       "  </thead>\n",
       "  <tbody>\n",
       "    <tr>\n",
       "      <th>benign</th>\n",
       "      <td>1061</td>\n",
       "      <td>30</td>\n",
       "    </tr>\n",
       "    <tr>\n",
       "      <th>malware</th>\n",
       "      <td>24</td>\n",
       "      <td>26</td>\n",
       "    </tr>\n",
       "  </tbody>\n",
       "</table>\n",
       "</div>"
      ]
     },
     "metadata": {},
     "output_type": "display_data",
     "jetTransient": {
      "display_id": null
     }
    },
    {
     "name": "stdout",
     "output_type": "stream",
     "text": [
      "Accuracy: 96.84%,\tPrecision: 62.50%\tRecall: 70.00%\n"
     ]
    },
    {
     "data": {
      "text/plain": [
       "Pred     benign  malware\n",
       "True                    \n",
       "benign     1070       21\n",
       "malware      15       35"
      ],
      "text/html": [
       "<div>\n",
       "<style scoped>\n",
       "    .dataframe tbody tr th:only-of-type {\n",
       "        vertical-align: middle;\n",
       "    }\n",
       "\n",
       "    .dataframe tbody tr th {\n",
       "        vertical-align: top;\n",
       "    }\n",
       "\n",
       "    .dataframe thead th {\n",
       "        text-align: right;\n",
       "    }\n",
       "</style>\n",
       "<table border=\"1\" class=\"dataframe\">\n",
       "  <thead>\n",
       "    <tr style=\"text-align: right;\">\n",
       "      <th>Pred</th>\n",
       "      <th>benign</th>\n",
       "      <th>malware</th>\n",
       "    </tr>\n",
       "    <tr>\n",
       "      <th>True</th>\n",
       "      <th></th>\n",
       "      <th></th>\n",
       "    </tr>\n",
       "  </thead>\n",
       "  <tbody>\n",
       "    <tr>\n",
       "      <th>benign</th>\n",
       "      <td>1070</td>\n",
       "      <td>21</td>\n",
       "    </tr>\n",
       "    <tr>\n",
       "      <th>malware</th>\n",
       "      <td>15</td>\n",
       "      <td>35</td>\n",
       "    </tr>\n",
       "  </tbody>\n",
       "</table>\n",
       "</div>"
      ]
     },
     "metadata": {},
     "output_type": "display_data",
     "jetTransient": {
      "display_id": null
     }
    }
   ],
   "execution_count": 26
  },
  {
   "metadata": {
    "ExecuteTime": {
     "end_time": "2025-09-25T19:42:09.129988Z",
     "start_time": "2025-09-25T19:41:28.111989Z"
    }
   },
   "cell_type": "code",
   "source": [
    "df_2022_4 = refactor_proba(prob_2022_4_top, df_2022_4)\n",
    "top_2022_4 = choose_and_merge_top(top_2022_3, df_2022_4)\n",
    "rnd_2022_4 = choose_and_merge_rnd(rnd_2022_3, df_2022_4)\n",
    "\n",
    "\n",
    "## Define and train the classifier: we first retrain the classifier from scratch by using the \"actively learned\" samples, and then do the same but by using randomly chosen samples (ablation study)\n",
    "rf_2022_4_top = RandomForestClassifier(n_estimators=300, max_features=\"sqrt\", criterion=\"gini\",\n",
    "                                   n_jobs=-2, class_weight=\"balanced\", random_state=1)\n",
    "start = datetime.now()\n",
    "rf_2022_4_top.fit(top_2022_4[features], top_2022_4[label])\n",
    "print(f\"Training time: f{datetime.now()- start}\")\n",
    "\n",
    "rf_2022_4_rnd = RandomForestClassifier(n_estimators=300, max_features=\"sqrt\", criterion=\"gini\",\n",
    "                                   n_jobs=-2, class_weight=\"balanced\", random_state=1)\n",
    "start = datetime.now()\n",
    "rf_2022_4_rnd.fit(rnd_2022_4[features], rnd_2022_4[label])\n",
    "print(f\"Training time: f{datetime.now()- start}\")\n",
    "\n",
    "\n",
    "\n",
    "## Test the classifiers\n",
    "\n",
    "prob_2022_5_rnd, acc, prec, rec = test_clf(rf_2022_4_rnd, df_2022_5)\n",
    "r_acc.append(acc)\n",
    "r_rec.append(rec)\n",
    "r_prec.append(prec)\n",
    "\n",
    "prob_2022_5_top, acc, prec, rec = test_clf(rf_2022_4_top, df_2022_5)\n",
    "a_acc.append(acc)\n",
    "a_rec.append(rec)\n",
    "a_prec.append(prec)"
   ],
   "id": "918e182bf3a63744",
   "outputs": [
    {
     "name": "stdout",
     "output_type": "stream",
     "text": [
      "Training time: f0:00:21.260962\n",
      "Training time: f0:00:18.674070\n",
      "Accuracy: 94.84%,\tPrecision: 6.38%\tRecall: 13.64%\n"
     ]
    },
    {
     "data": {
      "text/plain": [
       "Pred     benign  malware\n",
       "True                    \n",
       "benign     1154       44\n",
       "malware      19        3"
      ],
      "text/html": [
       "<div>\n",
       "<style scoped>\n",
       "    .dataframe tbody tr th:only-of-type {\n",
       "        vertical-align: middle;\n",
       "    }\n",
       "\n",
       "    .dataframe tbody tr th {\n",
       "        vertical-align: top;\n",
       "    }\n",
       "\n",
       "    .dataframe thead th {\n",
       "        text-align: right;\n",
       "    }\n",
       "</style>\n",
       "<table border=\"1\" class=\"dataframe\">\n",
       "  <thead>\n",
       "    <tr style=\"text-align: right;\">\n",
       "      <th>Pred</th>\n",
       "      <th>benign</th>\n",
       "      <th>malware</th>\n",
       "    </tr>\n",
       "    <tr>\n",
       "      <th>True</th>\n",
       "      <th></th>\n",
       "      <th></th>\n",
       "    </tr>\n",
       "  </thead>\n",
       "  <tbody>\n",
       "    <tr>\n",
       "      <th>benign</th>\n",
       "      <td>1154</td>\n",
       "      <td>44</td>\n",
       "    </tr>\n",
       "    <tr>\n",
       "      <th>malware</th>\n",
       "      <td>19</td>\n",
       "      <td>3</td>\n",
       "    </tr>\n",
       "  </tbody>\n",
       "</table>\n",
       "</div>"
      ]
     },
     "metadata": {},
     "output_type": "display_data",
     "jetTransient": {
      "display_id": null
     }
    },
    {
     "name": "stdout",
     "output_type": "stream",
     "text": [
      "Accuracy: 95.74%,\tPrecision: 25.81%\tRecall: 72.73%\n"
     ]
    },
    {
     "data": {
      "text/plain": [
       "Pred     benign  malware\n",
       "True                    \n",
       "benign     1152       46\n",
       "malware       6       16"
      ],
      "text/html": [
       "<div>\n",
       "<style scoped>\n",
       "    .dataframe tbody tr th:only-of-type {\n",
       "        vertical-align: middle;\n",
       "    }\n",
       "\n",
       "    .dataframe tbody tr th {\n",
       "        vertical-align: top;\n",
       "    }\n",
       "\n",
       "    .dataframe thead th {\n",
       "        text-align: right;\n",
       "    }\n",
       "</style>\n",
       "<table border=\"1\" class=\"dataframe\">\n",
       "  <thead>\n",
       "    <tr style=\"text-align: right;\">\n",
       "      <th>Pred</th>\n",
       "      <th>benign</th>\n",
       "      <th>malware</th>\n",
       "    </tr>\n",
       "    <tr>\n",
       "      <th>True</th>\n",
       "      <th></th>\n",
       "      <th></th>\n",
       "    </tr>\n",
       "  </thead>\n",
       "  <tbody>\n",
       "    <tr>\n",
       "      <th>benign</th>\n",
       "      <td>1152</td>\n",
       "      <td>46</td>\n",
       "    </tr>\n",
       "    <tr>\n",
       "      <th>malware</th>\n",
       "      <td>6</td>\n",
       "      <td>16</td>\n",
       "    </tr>\n",
       "  </tbody>\n",
       "</table>\n",
       "</div>"
      ]
     },
     "metadata": {},
     "output_type": "display_data",
     "jetTransient": {
      "display_id": null
     }
    }
   ],
   "execution_count": 27
  },
  {
   "metadata": {
    "ExecuteTime": {
     "end_time": "2025-09-25T19:42:49.342584Z",
     "start_time": "2025-09-25T19:42:09.556829Z"
    }
   },
   "cell_type": "code",
   "source": [
    "df_2022_5 = refactor_proba(prob_2022_5_top, df_2022_5)\n",
    "top_2022_5 = choose_and_merge_top(top_2022_4, df_2022_5)\n",
    "rnd_2022_5 = choose_and_merge_rnd(rnd_2022_4, df_2022_5)\n",
    "\n",
    "\n",
    "## Define and train the classifier: we first retrain the classifier from scratch by using the \"actively learned\" samples, and then do the same but by using randomly chosen samples (ablation study)\n",
    "rf_2022_5_top = RandomForestClassifier(n_estimators=300, max_features=\"sqrt\", criterion=\"gini\",\n",
    "                                   n_jobs=-2, class_weight=\"balanced\", random_state=1)\n",
    "start = datetime.now()\n",
    "rf_2022_5_top.fit(top_2022_5[features], top_2022_5[label])\n",
    "print(f\"Training time: f{datetime.now()- start}\")\n",
    "\n",
    "rf_2022_5_rnd = RandomForestClassifier(n_estimators=300, max_features=\"sqrt\", criterion=\"gini\",\n",
    "                                   n_jobs=-2, class_weight=\"balanced\", random_state=1)\n",
    "start = datetime.now()\n",
    "rf_2022_5_rnd.fit(rnd_2022_5[features], rnd_2022_5[label])\n",
    "print(f\"Training time: f{datetime.now()- start}\")\n",
    "\n",
    "\n",
    "\n",
    "## Test the classifiers\n",
    "\n",
    "prob_2022_6_rnd, acc, prec, rec = test_clf(rf_2022_5_rnd, df_2022_6)\n",
    "r_acc.append(acc)\n",
    "r_rec.append(rec)\n",
    "r_prec.append(prec)\n",
    "\n",
    "prob_2022_6_top, acc, prec, rec = test_clf(rf_2022_5_top, df_2022_6)\n",
    "a_acc.append(acc)\n",
    "a_rec.append(rec)\n",
    "a_prec.append(prec)"
   ],
   "id": "2299d9132468ce44",
   "outputs": [
    {
     "name": "stdout",
     "output_type": "stream",
     "text": [
      "Training time: f0:00:20.419264\n",
      "Training time: f0:00:18.170977\n",
      "Accuracy: 93.66%,\tPrecision: 2.74%\tRecall: 16.67%\n"
     ]
    },
    {
     "data": {
      "text/plain": [
       "Pred     benign  malware\n",
       "True                    \n",
       "benign     1194       71\n",
       "malware      10        2"
      ],
      "text/html": [
       "<div>\n",
       "<style scoped>\n",
       "    .dataframe tbody tr th:only-of-type {\n",
       "        vertical-align: middle;\n",
       "    }\n",
       "\n",
       "    .dataframe tbody tr th {\n",
       "        vertical-align: top;\n",
       "    }\n",
       "\n",
       "    .dataframe thead th {\n",
       "        text-align: right;\n",
       "    }\n",
       "</style>\n",
       "<table border=\"1\" class=\"dataframe\">\n",
       "  <thead>\n",
       "    <tr style=\"text-align: right;\">\n",
       "      <th>Pred</th>\n",
       "      <th>benign</th>\n",
       "      <th>malware</th>\n",
       "    </tr>\n",
       "    <tr>\n",
       "      <th>True</th>\n",
       "      <th></th>\n",
       "      <th></th>\n",
       "    </tr>\n",
       "  </thead>\n",
       "  <tbody>\n",
       "    <tr>\n",
       "      <th>benign</th>\n",
       "      <td>1194</td>\n",
       "      <td>71</td>\n",
       "    </tr>\n",
       "    <tr>\n",
       "      <th>malware</th>\n",
       "      <td>10</td>\n",
       "      <td>2</td>\n",
       "    </tr>\n",
       "  </tbody>\n",
       "</table>\n",
       "</div>"
      ]
     },
     "metadata": {},
     "output_type": "display_data",
     "jetTransient": {
      "display_id": null
     }
    },
    {
     "name": "stdout",
     "output_type": "stream",
     "text": [
      "Accuracy: 95.14%,\tPrecision: 12.12%\tRecall: 66.67%\n"
     ]
    },
    {
     "data": {
      "text/plain": [
       "Pred     benign  malware\n",
       "True                    \n",
       "benign     1207       58\n",
       "malware       4        8"
      ],
      "text/html": [
       "<div>\n",
       "<style scoped>\n",
       "    .dataframe tbody tr th:only-of-type {\n",
       "        vertical-align: middle;\n",
       "    }\n",
       "\n",
       "    .dataframe tbody tr th {\n",
       "        vertical-align: top;\n",
       "    }\n",
       "\n",
       "    .dataframe thead th {\n",
       "        text-align: right;\n",
       "    }\n",
       "</style>\n",
       "<table border=\"1\" class=\"dataframe\">\n",
       "  <thead>\n",
       "    <tr style=\"text-align: right;\">\n",
       "      <th>Pred</th>\n",
       "      <th>benign</th>\n",
       "      <th>malware</th>\n",
       "    </tr>\n",
       "    <tr>\n",
       "      <th>True</th>\n",
       "      <th></th>\n",
       "      <th></th>\n",
       "    </tr>\n",
       "  </thead>\n",
       "  <tbody>\n",
       "    <tr>\n",
       "      <th>benign</th>\n",
       "      <td>1207</td>\n",
       "      <td>58</td>\n",
       "    </tr>\n",
       "    <tr>\n",
       "      <th>malware</th>\n",
       "      <td>4</td>\n",
       "      <td>8</td>\n",
       "    </tr>\n",
       "  </tbody>\n",
       "</table>\n",
       "</div>"
      ]
     },
     "metadata": {},
     "output_type": "display_data",
     "jetTransient": {
      "display_id": null
     }
    }
   ],
   "execution_count": 28
  },
  {
   "metadata": {
    "ExecuteTime": {
     "end_time": "2025-09-25T19:43:29.235019Z",
     "start_time": "2025-09-25T19:42:49.769580Z"
    }
   },
   "cell_type": "code",
   "source": [
    "df_2022_6 = refactor_proba(prob_2022_6_top, df_2022_6)\n",
    "top_2022_6 = choose_and_merge_top(top_2022_5, df_2022_6)\n",
    "rnd_2022_6 = choose_and_merge_rnd(rnd_2022_5, df_2022_6)\n",
    "\n",
    "\n",
    "## Define and train the classifier: we first retrain the classifier from scratch by using the \"actively learned\" samples, and then do the same but by using randomly chosen samples (ablation study)\n",
    "rf_2022_6_top = RandomForestClassifier(n_estimators=300, max_features=\"sqrt\", criterion=\"gini\",\n",
    "                                   n_jobs=-2, class_weight=\"balanced\", random_state=1)\n",
    "start = datetime.now()\n",
    "rf_2022_6_top.fit(top_2022_6[features], top_2022_6[label])\n",
    "print(f\"Training time: f{datetime.now()- start}\")\n",
    "\n",
    "rf_2022_6_rnd = RandomForestClassifier(n_estimators=300, max_features=\"sqrt\", criterion=\"gini\",\n",
    "                                   n_jobs=-2, class_weight=\"balanced\", random_state=1)\n",
    "start = datetime.now()\n",
    "rf_2022_6_rnd.fit(rnd_2022_6[features], rnd_2022_6[label])\n",
    "print(f\"Training time: f{datetime.now()- start}\")\n",
    "\n",
    "\n",
    "\n",
    "## Test the classifiers\n",
    "\n",
    "prob_2022_7_rnd, acc, prec, rec = test_clf(rf_2022_6_rnd, df_2022_7)\n",
    "r_acc.append(acc)\n",
    "r_rec.append(rec)\n",
    "r_prec.append(prec)\n",
    "\n",
    "prob_2022_7_top, acc, prec, rec = test_clf(rf_2022_6_top, df_2022_7)\n",
    "a_acc.append(acc)\n",
    "a_rec.append(rec)\n",
    "a_prec.append(prec)"
   ],
   "id": "8f38ca6ffdec27",
   "outputs": [
    {
     "name": "stdout",
     "output_type": "stream",
     "text": [
      "Training time: f0:00:20.093121\n",
      "Training time: f0:00:18.276302\n",
      "Accuracy: 95.08%,\tPrecision: 29.79%\tRecall: 35.90%\n"
     ]
    },
    {
     "data": {
      "text/plain": [
       "Pred     benign  malware\n",
       "True                    \n",
       "benign     1108       33\n",
       "malware      25       14"
      ],
      "text/html": [
       "<div>\n",
       "<style scoped>\n",
       "    .dataframe tbody tr th:only-of-type {\n",
       "        vertical-align: middle;\n",
       "    }\n",
       "\n",
       "    .dataframe tbody tr th {\n",
       "        vertical-align: top;\n",
       "    }\n",
       "\n",
       "    .dataframe thead th {\n",
       "        text-align: right;\n",
       "    }\n",
       "</style>\n",
       "<table border=\"1\" class=\"dataframe\">\n",
       "  <thead>\n",
       "    <tr style=\"text-align: right;\">\n",
       "      <th>Pred</th>\n",
       "      <th>benign</th>\n",
       "      <th>malware</th>\n",
       "    </tr>\n",
       "    <tr>\n",
       "      <th>True</th>\n",
       "      <th></th>\n",
       "      <th></th>\n",
       "    </tr>\n",
       "  </thead>\n",
       "  <tbody>\n",
       "    <tr>\n",
       "      <th>benign</th>\n",
       "      <td>1108</td>\n",
       "      <td>33</td>\n",
       "    </tr>\n",
       "    <tr>\n",
       "      <th>malware</th>\n",
       "      <td>25</td>\n",
       "      <td>14</td>\n",
       "    </tr>\n",
       "  </tbody>\n",
       "</table>\n",
       "</div>"
      ]
     },
     "metadata": {},
     "output_type": "display_data",
     "jetTransient": {
      "display_id": null
     }
    },
    {
     "name": "stdout",
     "output_type": "stream",
     "text": [
      "Accuracy: 96.19%,\tPrecision: 43.75%\tRecall: 53.85%\n"
     ]
    },
    {
     "data": {
      "text/plain": [
       "Pred     benign  malware\n",
       "True                    \n",
       "benign     1114       27\n",
       "malware      18       21"
      ],
      "text/html": [
       "<div>\n",
       "<style scoped>\n",
       "    .dataframe tbody tr th:only-of-type {\n",
       "        vertical-align: middle;\n",
       "    }\n",
       "\n",
       "    .dataframe tbody tr th {\n",
       "        vertical-align: top;\n",
       "    }\n",
       "\n",
       "    .dataframe thead th {\n",
       "        text-align: right;\n",
       "    }\n",
       "</style>\n",
       "<table border=\"1\" class=\"dataframe\">\n",
       "  <thead>\n",
       "    <tr style=\"text-align: right;\">\n",
       "      <th>Pred</th>\n",
       "      <th>benign</th>\n",
       "      <th>malware</th>\n",
       "    </tr>\n",
       "    <tr>\n",
       "      <th>True</th>\n",
       "      <th></th>\n",
       "      <th></th>\n",
       "    </tr>\n",
       "  </thead>\n",
       "  <tbody>\n",
       "    <tr>\n",
       "      <th>benign</th>\n",
       "      <td>1114</td>\n",
       "      <td>27</td>\n",
       "    </tr>\n",
       "    <tr>\n",
       "      <th>malware</th>\n",
       "      <td>18</td>\n",
       "      <td>21</td>\n",
       "    </tr>\n",
       "  </tbody>\n",
       "</table>\n",
       "</div>"
      ]
     },
     "metadata": {},
     "output_type": "display_data",
     "jetTransient": {
      "display_id": null
     }
    }
   ],
   "execution_count": 29
  },
  {
   "metadata": {
    "ExecuteTime": {
     "end_time": "2025-09-25T19:44:09.792782Z",
     "start_time": "2025-09-25T19:43:29.694021Z"
    }
   },
   "cell_type": "code",
   "source": [
    "df_2022_7 = refactor_proba(prob_2022_7_top, df_2022_7)\n",
    "top_2022_7 = choose_and_merge_top(top_2022_6, df_2022_7)\n",
    "rnd_2022_7 = choose_and_merge_rnd(rnd_2022_6, df_2022_7)\n",
    "\n",
    "\n",
    "## Define and train the classifier: we first retrain the classifier from scratch by using the \"actively learned\" samples, and then do the same but by using randomly chosen samples (ablation study)\n",
    "rf_2022_7_top = RandomForestClassifier(n_estimators=300, max_features=\"sqrt\", criterion=\"gini\",\n",
    "                                   n_jobs=-2, class_weight=\"balanced\", random_state=1)\n",
    "start = datetime.now()\n",
    "rf_2022_7_top.fit(top_2022_7[features], top_2022_7[label])\n",
    "print(f\"Training time: f{datetime.now()- start}\")\n",
    "\n",
    "rf_2022_7_rnd = RandomForestClassifier(n_estimators=300, max_features=\"sqrt\", criterion=\"gini\",\n",
    "                                   n_jobs=-2, class_weight=\"balanced\", random_state=1)\n",
    "start = datetime.now()\n",
    "rf_2022_7_rnd.fit(rnd_2022_7[features], rnd_2022_7[label])\n",
    "print(f\"Training time: f{datetime.now()- start}\")\n",
    "\n",
    "\n",
    "\n",
    "## Test the classifiers\n",
    "\n",
    "prob_2022_8_rnd, acc, prec, rec = test_clf(rf_2022_7_rnd, df_2022_8)\n",
    "r_acc.append(acc)\n",
    "r_rec.append(rec)\n",
    "r_prec.append(prec)\n",
    "\n",
    "prob_2022_8_top, acc, prec, rec = test_clf(rf_2022_7_top, df_2022_8)\n",
    "a_acc.append(acc)\n",
    "a_rec.append(rec)\n",
    "a_prec.append(prec)"
   ],
   "id": "574f82d4efde10e8",
   "outputs": [
    {
     "name": "stdout",
     "output_type": "stream",
     "text": [
      "Training time: f0:00:20.605498\n",
      "Training time: f0:00:18.373186\n",
      "Accuracy: 95.24%,\tPrecision: 36.67%\tRecall: 51.16%\n"
     ]
    },
    {
     "data": {
      "text/plain": [
       "Pred     benign  malware\n",
       "True                    \n",
       "benign     1159       38\n",
       "malware      21       22"
      ],
      "text/html": [
       "<div>\n",
       "<style scoped>\n",
       "    .dataframe tbody tr th:only-of-type {\n",
       "        vertical-align: middle;\n",
       "    }\n",
       "\n",
       "    .dataframe tbody tr th {\n",
       "        vertical-align: top;\n",
       "    }\n",
       "\n",
       "    .dataframe thead th {\n",
       "        text-align: right;\n",
       "    }\n",
       "</style>\n",
       "<table border=\"1\" class=\"dataframe\">\n",
       "  <thead>\n",
       "    <tr style=\"text-align: right;\">\n",
       "      <th>Pred</th>\n",
       "      <th>benign</th>\n",
       "      <th>malware</th>\n",
       "    </tr>\n",
       "    <tr>\n",
       "      <th>True</th>\n",
       "      <th></th>\n",
       "      <th></th>\n",
       "    </tr>\n",
       "  </thead>\n",
       "  <tbody>\n",
       "    <tr>\n",
       "      <th>benign</th>\n",
       "      <td>1159</td>\n",
       "      <td>38</td>\n",
       "    </tr>\n",
       "    <tr>\n",
       "      <th>malware</th>\n",
       "      <td>21</td>\n",
       "      <td>22</td>\n",
       "    </tr>\n",
       "  </tbody>\n",
       "</table>\n",
       "</div>"
      ]
     },
     "metadata": {},
     "output_type": "display_data",
     "jetTransient": {
      "display_id": null
     }
    },
    {
     "name": "stdout",
     "output_type": "stream",
     "text": [
      "Accuracy: 96.61%,\tPrecision: 50.82%\tRecall: 72.09%\n"
     ]
    },
    {
     "data": {
      "text/plain": [
       "Pred     benign  malware\n",
       "True                    \n",
       "benign     1167       30\n",
       "malware      12       31"
      ],
      "text/html": [
       "<div>\n",
       "<style scoped>\n",
       "    .dataframe tbody tr th:only-of-type {\n",
       "        vertical-align: middle;\n",
       "    }\n",
       "\n",
       "    .dataframe tbody tr th {\n",
       "        vertical-align: top;\n",
       "    }\n",
       "\n",
       "    .dataframe thead th {\n",
       "        text-align: right;\n",
       "    }\n",
       "</style>\n",
       "<table border=\"1\" class=\"dataframe\">\n",
       "  <thead>\n",
       "    <tr style=\"text-align: right;\">\n",
       "      <th>Pred</th>\n",
       "      <th>benign</th>\n",
       "      <th>malware</th>\n",
       "    </tr>\n",
       "    <tr>\n",
       "      <th>True</th>\n",
       "      <th></th>\n",
       "      <th></th>\n",
       "    </tr>\n",
       "  </thead>\n",
       "  <tbody>\n",
       "    <tr>\n",
       "      <th>benign</th>\n",
       "      <td>1167</td>\n",
       "      <td>30</td>\n",
       "    </tr>\n",
       "    <tr>\n",
       "      <th>malware</th>\n",
       "      <td>12</td>\n",
       "      <td>31</td>\n",
       "    </tr>\n",
       "  </tbody>\n",
       "</table>\n",
       "</div>"
      ]
     },
     "metadata": {},
     "output_type": "display_data",
     "jetTransient": {
      "display_id": null
     }
    }
   ],
   "execution_count": 30
  },
  {
   "metadata": {
    "ExecuteTime": {
     "end_time": "2025-09-25T19:44:49.980116Z",
     "start_time": "2025-09-25T19:44:10.537606Z"
    }
   },
   "cell_type": "code",
   "source": [
    "df_2022_8 = refactor_proba(prob_2022_8_top, df_2022_8)\n",
    "top_2022_8 = choose_and_merge_top(top_2022_7, df_2022_8)\n",
    "rnd_2022_8 = choose_and_merge_rnd(rnd_2022_7, df_2022_8)\n",
    "\n",
    "\n",
    "## Define and train the classifier: we first retrain the classifier from scratch by using the \"actively learned\" samples, and then do the same but by using randomly chosen samples (ablation study)\n",
    "rf_2022_8_top = RandomForestClassifier(n_estimators=300, max_features=\"sqrt\", criterion=\"gini\",\n",
    "                                   n_jobs=-2, class_weight=\"balanced\", random_state=1)\n",
    "start = datetime.now()\n",
    "rf_2022_8_top.fit(top_2022_8[features], top_2022_8[label])\n",
    "print(f\"Training time: f{datetime.now()- start}\")\n",
    "\n",
    "rf_2022_8_rnd = RandomForestClassifier(n_estimators=300, max_features=\"sqrt\", criterion=\"gini\",\n",
    "                                   n_jobs=-2, class_weight=\"balanced\", random_state=1)\n",
    "start = datetime.now()\n",
    "rf_2022_8_rnd.fit(rnd_2022_8[features], rnd_2022_8[label])\n",
    "print(f\"Training time: f{datetime.now()- start}\")\n",
    "\n",
    "\n",
    "\n",
    "## Test the classifiers\n",
    "\n",
    "prob_2022_9_rnd, acc, prec, rec = test_clf(rf_2022_8_rnd, df_2022_9)\n",
    "r_acc.append(acc)\n",
    "r_rec.append(rec)\n",
    "r_prec.append(prec)\n",
    "\n",
    "prob_2022_9_top, acc, prec, rec = test_clf(rf_2022_8_top, df_2022_9)\n",
    "a_acc.append(acc)\n",
    "a_rec.append(rec)\n",
    "a_prec.append(prec)"
   ],
   "id": "f0a33407dbbff37b",
   "outputs": [
    {
     "name": "stdout",
     "output_type": "stream",
     "text": [
      "Training time: f0:00:19.620031\n",
      "Training time: f0:00:18.719436\n",
      "Accuracy: 95.38%,\tPrecision: 37.50%\tRecall: 65.85%\n"
     ]
    },
    {
     "data": {
      "text/plain": [
       "Pred     benign  malware\n",
       "True                    \n",
       "benign     1190       45\n",
       "malware      14       27"
      ],
      "text/html": [
       "<div>\n",
       "<style scoped>\n",
       "    .dataframe tbody tr th:only-of-type {\n",
       "        vertical-align: middle;\n",
       "    }\n",
       "\n",
       "    .dataframe tbody tr th {\n",
       "        vertical-align: top;\n",
       "    }\n",
       "\n",
       "    .dataframe thead th {\n",
       "        text-align: right;\n",
       "    }\n",
       "</style>\n",
       "<table border=\"1\" class=\"dataframe\">\n",
       "  <thead>\n",
       "    <tr style=\"text-align: right;\">\n",
       "      <th>Pred</th>\n",
       "      <th>benign</th>\n",
       "      <th>malware</th>\n",
       "    </tr>\n",
       "    <tr>\n",
       "      <th>True</th>\n",
       "      <th></th>\n",
       "      <th></th>\n",
       "    </tr>\n",
       "  </thead>\n",
       "  <tbody>\n",
       "    <tr>\n",
       "      <th>benign</th>\n",
       "      <td>1190</td>\n",
       "      <td>45</td>\n",
       "    </tr>\n",
       "    <tr>\n",
       "      <th>malware</th>\n",
       "      <td>14</td>\n",
       "      <td>27</td>\n",
       "    </tr>\n",
       "  </tbody>\n",
       "</table>\n",
       "</div>"
      ]
     },
     "metadata": {},
     "output_type": "display_data",
     "jetTransient": {
      "display_id": null
     }
    },
    {
     "name": "stdout",
     "output_type": "stream",
     "text": [
      "Accuracy: 95.85%,\tPrecision: 41.43%\tRecall: 70.73%\n"
     ]
    },
    {
     "data": {
      "text/plain": [
       "Pred     benign  malware\n",
       "True                    \n",
       "benign     1194       41\n",
       "malware      12       29"
      ],
      "text/html": [
       "<div>\n",
       "<style scoped>\n",
       "    .dataframe tbody tr th:only-of-type {\n",
       "        vertical-align: middle;\n",
       "    }\n",
       "\n",
       "    .dataframe tbody tr th {\n",
       "        vertical-align: top;\n",
       "    }\n",
       "\n",
       "    .dataframe thead th {\n",
       "        text-align: right;\n",
       "    }\n",
       "</style>\n",
       "<table border=\"1\" class=\"dataframe\">\n",
       "  <thead>\n",
       "    <tr style=\"text-align: right;\">\n",
       "      <th>Pred</th>\n",
       "      <th>benign</th>\n",
       "      <th>malware</th>\n",
       "    </tr>\n",
       "    <tr>\n",
       "      <th>True</th>\n",
       "      <th></th>\n",
       "      <th></th>\n",
       "    </tr>\n",
       "  </thead>\n",
       "  <tbody>\n",
       "    <tr>\n",
       "      <th>benign</th>\n",
       "      <td>1194</td>\n",
       "      <td>41</td>\n",
       "    </tr>\n",
       "    <tr>\n",
       "      <th>malware</th>\n",
       "      <td>12</td>\n",
       "      <td>29</td>\n",
       "    </tr>\n",
       "  </tbody>\n",
       "</table>\n",
       "</div>"
      ]
     },
     "metadata": {},
     "output_type": "display_data",
     "jetTransient": {
      "display_id": null
     }
    }
   ],
   "execution_count": 31
  },
  {
   "metadata": {
    "ExecuteTime": {
     "end_time": "2025-09-25T19:45:30.281300Z",
     "start_time": "2025-09-25T19:44:50.486113Z"
    }
   },
   "cell_type": "code",
   "source": [
    "df_2022_9 = refactor_proba(prob_2022_9_top, df_2022_9)\n",
    "top_2022_9 = choose_and_merge_top(top_2022_8, df_2022_9)\n",
    "rnd_2022_9 = choose_and_merge_rnd(rnd_2022_8, df_2022_9)\n",
    "\n",
    "\n",
    "## Define and train the classifier: we first retrain the classifier from scratch by using the \"actively learned\" samples, and then do the same but by using randomly chosen samples (ablation study)\n",
    "rf_2022_9_top = RandomForestClassifier(n_estimators=300, max_features=\"sqrt\", criterion=\"gini\",\n",
    "                                   n_jobs=-2, class_weight=\"balanced\", random_state=1)\n",
    "start = datetime.now()\n",
    "rf_2022_9_top.fit(top_2022_9[features], top_2022_9[label])\n",
    "print(f\"Training time: f{datetime.now()- start}\")\n",
    "\n",
    "rf_2022_9_rnd = RandomForestClassifier(n_estimators=300, max_features=\"sqrt\", criterion=\"gini\",\n",
    "                                   n_jobs=-2, class_weight=\"balanced\", random_state=1)\n",
    "start = datetime.now()\n",
    "rf_2022_9_rnd.fit(rnd_2022_9[features], rnd_2022_9[label])\n",
    "print(f\"Training time: f{datetime.now()- start}\")\n",
    "\n",
    "\n",
    "\n",
    "## Test the classifiers\n",
    "\n",
    "prob_2022_10_rnd, acc, prec, rec = test_clf(rf_2022_9_rnd, df_2022_10)\n",
    "r_acc.append(acc)\n",
    "r_rec.append(rec)\n",
    "r_prec.append(prec)\n",
    "\n",
    "prob_2022_10_top, acc, prec, rec = test_clf(rf_2022_9_top, df_2022_10)\n",
    "a_acc.append(acc)\n",
    "a_rec.append(rec)\n",
    "a_prec.append(prec)"
   ],
   "id": "323a9bf1f211ab54",
   "outputs": [
    {
     "name": "stdout",
     "output_type": "stream",
     "text": [
      "Training time: f0:00:20.539032\n",
      "Training time: f0:00:18.114873\n",
      "Accuracy: 94.94%,\tPrecision: 24.62%\tRecall: 53.33%\n"
     ]
    },
    {
     "data": {
      "text/plain": [
       "Pred     benign  malware\n",
       "True                    \n",
       "benign     1166       49\n",
       "malware      14       16"
      ],
      "text/html": [
       "<div>\n",
       "<style scoped>\n",
       "    .dataframe tbody tr th:only-of-type {\n",
       "        vertical-align: middle;\n",
       "    }\n",
       "\n",
       "    .dataframe tbody tr th {\n",
       "        vertical-align: top;\n",
       "    }\n",
       "\n",
       "    .dataframe thead th {\n",
       "        text-align: right;\n",
       "    }\n",
       "</style>\n",
       "<table border=\"1\" class=\"dataframe\">\n",
       "  <thead>\n",
       "    <tr style=\"text-align: right;\">\n",
       "      <th>Pred</th>\n",
       "      <th>benign</th>\n",
       "      <th>malware</th>\n",
       "    </tr>\n",
       "    <tr>\n",
       "      <th>True</th>\n",
       "      <th></th>\n",
       "      <th></th>\n",
       "    </tr>\n",
       "  </thead>\n",
       "  <tbody>\n",
       "    <tr>\n",
       "      <th>benign</th>\n",
       "      <td>1166</td>\n",
       "      <td>49</td>\n",
       "    </tr>\n",
       "    <tr>\n",
       "      <th>malware</th>\n",
       "      <td>14</td>\n",
       "      <td>16</td>\n",
       "    </tr>\n",
       "  </tbody>\n",
       "</table>\n",
       "</div>"
      ]
     },
     "metadata": {},
     "output_type": "display_data",
     "jetTransient": {
      "display_id": null
     }
    },
    {
     "name": "stdout",
     "output_type": "stream",
     "text": [
      "Accuracy: 94.78%,\tPrecision: 25.35%\tRecall: 60.00%\n"
     ]
    },
    {
     "data": {
      "text/plain": [
       "Pred     benign  malware\n",
       "True                    \n",
       "benign     1162       53\n",
       "malware      12       18"
      ],
      "text/html": [
       "<div>\n",
       "<style scoped>\n",
       "    .dataframe tbody tr th:only-of-type {\n",
       "        vertical-align: middle;\n",
       "    }\n",
       "\n",
       "    .dataframe tbody tr th {\n",
       "        vertical-align: top;\n",
       "    }\n",
       "\n",
       "    .dataframe thead th {\n",
       "        text-align: right;\n",
       "    }\n",
       "</style>\n",
       "<table border=\"1\" class=\"dataframe\">\n",
       "  <thead>\n",
       "    <tr style=\"text-align: right;\">\n",
       "      <th>Pred</th>\n",
       "      <th>benign</th>\n",
       "      <th>malware</th>\n",
       "    </tr>\n",
       "    <tr>\n",
       "      <th>True</th>\n",
       "      <th></th>\n",
       "      <th></th>\n",
       "    </tr>\n",
       "  </thead>\n",
       "  <tbody>\n",
       "    <tr>\n",
       "      <th>benign</th>\n",
       "      <td>1162</td>\n",
       "      <td>53</td>\n",
       "    </tr>\n",
       "    <tr>\n",
       "      <th>malware</th>\n",
       "      <td>12</td>\n",
       "      <td>18</td>\n",
       "    </tr>\n",
       "  </tbody>\n",
       "</table>\n",
       "</div>"
      ]
     },
     "metadata": {},
     "output_type": "display_data",
     "jetTransient": {
      "display_id": null
     }
    }
   ],
   "execution_count": 32
  },
  {
   "metadata": {
    "ExecuteTime": {
     "end_time": "2025-09-25T19:46:10.834085Z",
     "start_time": "2025-09-25T19:45:30.851026Z"
    }
   },
   "cell_type": "code",
   "source": [
    "df_2022_10 = refactor_proba(prob_2022_10_top, df_2022_10)\n",
    "top_2022_10 = choose_and_merge_top(top_2022_9, df_2022_10)\n",
    "rnd_2022_10 = choose_and_merge_rnd(rnd_2022_9, df_2022_10)\n",
    "\n",
    "\n",
    "## Define and train the classifier: we first retrain the classifier from scratch by using the \"actively learned\" samples, and then do the same but by using randomly chosen samples (ablation study)\n",
    "rf_2022_10_top = RandomForestClassifier(n_estimators=300, max_features=\"sqrt\", criterion=\"gini\",\n",
    "                                   n_jobs=-2, class_weight=\"balanced\", random_state=1)\n",
    "start = datetime.now()\n",
    "rf_2022_10_top.fit(top_2022_10[features], top_2022_10[label])\n",
    "print(f\"Training time: f{datetime.now()- start}\")\n",
    "\n",
    "rf_2022_10_rnd = RandomForestClassifier(n_estimators=300, max_features=\"sqrt\", criterion=\"gini\",\n",
    "                                   n_jobs=-2, class_weight=\"balanced\", random_state=1)\n",
    "start = datetime.now()\n",
    "rf_2022_10_rnd.fit(rnd_2022_10[features], rnd_2022_10[label])\n",
    "print(f\"Training time: f{datetime.now()- start}\")\n",
    "\n",
    "\n",
    "\n",
    "## Test the classifiers\n",
    "\n",
    "prob_2022_11_rnd, acc, prec, rec = test_clf(rf_2022_10_rnd, df_2022_11)\n",
    "r_acc.append(acc)\n",
    "r_rec.append(rec)\n",
    "r_prec.append(prec)\n",
    "\n",
    "prob_2022_11_top, acc, prec, rec = test_clf(rf_2022_10_top, df_2022_11)\n",
    "a_acc.append(acc)\n",
    "a_rec.append(rec)\n",
    "a_prec.append(prec)"
   ],
   "id": "31156e46daebada",
   "outputs": [
    {
     "name": "stdout",
     "output_type": "stream",
     "text": [
      "Training time: f0:00:20.393099\n",
      "Training time: f0:00:18.404999\n",
      "Accuracy: 94.85%,\tPrecision: 16.67%\tRecall: 29.41%\n"
     ]
    },
    {
     "data": {
      "text/plain": [
       "Pred     benign  malware\n",
       "True                    \n",
       "benign     1353       50\n",
       "malware      24       10"
      ],
      "text/html": [
       "<div>\n",
       "<style scoped>\n",
       "    .dataframe tbody tr th:only-of-type {\n",
       "        vertical-align: middle;\n",
       "    }\n",
       "\n",
       "    .dataframe tbody tr th {\n",
       "        vertical-align: top;\n",
       "    }\n",
       "\n",
       "    .dataframe thead th {\n",
       "        text-align: right;\n",
       "    }\n",
       "</style>\n",
       "<table border=\"1\" class=\"dataframe\">\n",
       "  <thead>\n",
       "    <tr style=\"text-align: right;\">\n",
       "      <th>Pred</th>\n",
       "      <th>benign</th>\n",
       "      <th>malware</th>\n",
       "    </tr>\n",
       "    <tr>\n",
       "      <th>True</th>\n",
       "      <th></th>\n",
       "      <th></th>\n",
       "    </tr>\n",
       "  </thead>\n",
       "  <tbody>\n",
       "    <tr>\n",
       "      <th>benign</th>\n",
       "      <td>1353</td>\n",
       "      <td>50</td>\n",
       "    </tr>\n",
       "    <tr>\n",
       "      <th>malware</th>\n",
       "      <td>24</td>\n",
       "      <td>10</td>\n",
       "    </tr>\n",
       "  </tbody>\n",
       "</table>\n",
       "</div>"
      ]
     },
     "metadata": {},
     "output_type": "display_data",
     "jetTransient": {
      "display_id": null
     }
    },
    {
     "name": "stdout",
     "output_type": "stream",
     "text": [
      "Accuracy: 94.92%,\tPrecision: 24.00%\tRecall: 52.94%\n"
     ]
    },
    {
     "data": {
      "text/plain": [
       "Pred     benign  malware\n",
       "True                    \n",
       "benign     1346       57\n",
       "malware      16       18"
      ],
      "text/html": [
       "<div>\n",
       "<style scoped>\n",
       "    .dataframe tbody tr th:only-of-type {\n",
       "        vertical-align: middle;\n",
       "    }\n",
       "\n",
       "    .dataframe tbody tr th {\n",
       "        vertical-align: top;\n",
       "    }\n",
       "\n",
       "    .dataframe thead th {\n",
       "        text-align: right;\n",
       "    }\n",
       "</style>\n",
       "<table border=\"1\" class=\"dataframe\">\n",
       "  <thead>\n",
       "    <tr style=\"text-align: right;\">\n",
       "      <th>Pred</th>\n",
       "      <th>benign</th>\n",
       "      <th>malware</th>\n",
       "    </tr>\n",
       "    <tr>\n",
       "      <th>True</th>\n",
       "      <th></th>\n",
       "      <th></th>\n",
       "    </tr>\n",
       "  </thead>\n",
       "  <tbody>\n",
       "    <tr>\n",
       "      <th>benign</th>\n",
       "      <td>1346</td>\n",
       "      <td>57</td>\n",
       "    </tr>\n",
       "    <tr>\n",
       "      <th>malware</th>\n",
       "      <td>16</td>\n",
       "      <td>18</td>\n",
       "    </tr>\n",
       "  </tbody>\n",
       "</table>\n",
       "</div>"
      ]
     },
     "metadata": {},
     "output_type": "display_data",
     "jetTransient": {
      "display_id": null
     }
    }
   ],
   "execution_count": 33
  },
  {
   "metadata": {
    "ExecuteTime": {
     "end_time": "2025-09-25T19:46:51.460150Z",
     "start_time": "2025-09-25T19:46:11.427086Z"
    }
   },
   "cell_type": "code",
   "source": [
    "df_2022_11 = refactor_proba(prob_2022_11_top, df_2022_11)\n",
    "top_2022_11 = choose_and_merge_top(top_2022_10, df_2022_11)\n",
    "rnd_2022_11 = choose_and_merge_rnd(rnd_2022_10, df_2022_11)\n",
    "\n",
    "\n",
    "## Define and train the classifier: we first retrain the classifier from scratch by using the \"actively learned\" samples, and then do the same but by using randomly chosen samples (ablation study)\n",
    "rf_2022_11_top = RandomForestClassifier(n_estimators=300, max_features=\"sqrt\", criterion=\"gini\",\n",
    "                                   n_jobs=-2, class_weight=\"balanced\", random_state=1)\n",
    "start = datetime.now()\n",
    "rf_2022_11_top.fit(top_2022_11[features], top_2022_11[label])\n",
    "print(f\"Training time: f{datetime.now()- start}\")\n",
    "\n",
    "rf_2022_11_rnd = RandomForestClassifier(n_estimators=300, max_features=\"sqrt\", criterion=\"gini\",\n",
    "                                   n_jobs=-2, class_weight=\"balanced\", random_state=1)\n",
    "start = datetime.now()\n",
    "rf_2022_11_rnd.fit(rnd_2022_11[features], rnd_2022_11[label])\n",
    "print(f\"Training time: f{datetime.now()- start}\")\n",
    "\n",
    "\n",
    "\n",
    "## Test the classifiers\n",
    "\n",
    "prob_2022_12_rnd, acc, prec, rec = test_clf(rf_2022_11_rnd, df_2022_12)\n",
    "r_acc.append(acc)\n",
    "r_rec.append(rec)\n",
    "r_prec.append(prec)\n",
    "\n",
    "prob_2022_12_top, acc, prec, rec = test_clf(rf_2022_11_top, df_2022_12)\n",
    "a_acc.append(acc)\n",
    "a_rec.append(rec)\n",
    "a_prec.append(prec)"
   ],
   "id": "65b962a171b826d5",
   "outputs": [
    {
     "name": "stdout",
     "output_type": "stream",
     "text": [
      "Training time: f0:00:20.535550\n",
      "Training time: f0:00:18.346511\n",
      "Accuracy: 92.80%,\tPrecision: 14.89%\tRecall: 38.89%\n"
     ]
    },
    {
     "data": {
      "text/plain": [
       "Pred     benign  malware\n",
       "True                    \n",
       "benign     1301       80\n",
       "malware      22       14"
      ],
      "text/html": [
       "<div>\n",
       "<style scoped>\n",
       "    .dataframe tbody tr th:only-of-type {\n",
       "        vertical-align: middle;\n",
       "    }\n",
       "\n",
       "    .dataframe tbody tr th {\n",
       "        vertical-align: top;\n",
       "    }\n",
       "\n",
       "    .dataframe thead th {\n",
       "        text-align: right;\n",
       "    }\n",
       "</style>\n",
       "<table border=\"1\" class=\"dataframe\">\n",
       "  <thead>\n",
       "    <tr style=\"text-align: right;\">\n",
       "      <th>Pred</th>\n",
       "      <th>benign</th>\n",
       "      <th>malware</th>\n",
       "    </tr>\n",
       "    <tr>\n",
       "      <th>True</th>\n",
       "      <th></th>\n",
       "      <th></th>\n",
       "    </tr>\n",
       "  </thead>\n",
       "  <tbody>\n",
       "    <tr>\n",
       "      <th>benign</th>\n",
       "      <td>1301</td>\n",
       "      <td>80</td>\n",
       "    </tr>\n",
       "    <tr>\n",
       "      <th>malware</th>\n",
       "      <td>22</td>\n",
       "      <td>14</td>\n",
       "    </tr>\n",
       "  </tbody>\n",
       "</table>\n",
       "</div>"
      ]
     },
     "metadata": {},
     "output_type": "display_data",
     "jetTransient": {
      "display_id": null
     }
    },
    {
     "name": "stdout",
     "output_type": "stream",
     "text": [
      "Accuracy: 93.08%,\tPrecision: 13.10%\tRecall: 30.56%\n"
     ]
    },
    {
     "data": {
      "text/plain": [
       "Pred     benign  malware\n",
       "True                    \n",
       "benign     1308       73\n",
       "malware      25       11"
      ],
      "text/html": [
       "<div>\n",
       "<style scoped>\n",
       "    .dataframe tbody tr th:only-of-type {\n",
       "        vertical-align: middle;\n",
       "    }\n",
       "\n",
       "    .dataframe tbody tr th {\n",
       "        vertical-align: top;\n",
       "    }\n",
       "\n",
       "    .dataframe thead th {\n",
       "        text-align: right;\n",
       "    }\n",
       "</style>\n",
       "<table border=\"1\" class=\"dataframe\">\n",
       "  <thead>\n",
       "    <tr style=\"text-align: right;\">\n",
       "      <th>Pred</th>\n",
       "      <th>benign</th>\n",
       "      <th>malware</th>\n",
       "    </tr>\n",
       "    <tr>\n",
       "      <th>True</th>\n",
       "      <th></th>\n",
       "      <th></th>\n",
       "    </tr>\n",
       "  </thead>\n",
       "  <tbody>\n",
       "    <tr>\n",
       "      <th>benign</th>\n",
       "      <td>1308</td>\n",
       "      <td>73</td>\n",
       "    </tr>\n",
       "    <tr>\n",
       "      <th>malware</th>\n",
       "      <td>25</td>\n",
       "      <td>11</td>\n",
       "    </tr>\n",
       "  </tbody>\n",
       "</table>\n",
       "</div>"
      ]
     },
     "metadata": {},
     "output_type": "display_data",
     "jetTransient": {
      "display_id": null
     }
    }
   ],
   "execution_count": 34
  },
  {
   "metadata": {
    "ExecuteTime": {
     "end_time": "2025-09-25T19:46:52.131151Z",
     "start_time": "2025-09-25T19:46:52.121150Z"
    }
   },
   "cell_type": "code",
   "source": [
    "a_acc.insert(0, b_acc[0])\n",
    "r_acc.insert(0, b_acc[0])\n",
    "\n",
    "a_rec.insert(0, b_rec[0])\n",
    "r_rec.insert(0, b_rec[0])\n",
    "\n",
    "a_prec.insert(0, b_prec[0])\n",
    "r_prec.insert(0, b_prec[0])"
   ],
   "id": "e9f77185b842b22f",
   "outputs": [],
   "execution_count": 35
  },
  {
   "metadata": {
    "ExecuteTime": {
     "end_time": "2025-09-25T19:46:53.107509Z",
     "start_time": "2025-09-25T19:46:52.193151Z"
    }
   },
   "cell_type": "code",
   "source": [
    "import matplotlib.pyplot as plt\n",
    "import numpy as np\n",
    "\n",
    "\n",
    "# Create the plot\n",
    "plt.figure(figsize=(8, 5))  # Set figure size\n",
    "\n",
    "# Plot the three lines with custom styles\n",
    "plt.plot(b_acc, label='Baseline (no labeling)', color='blue', linewidth=2, linestyle='-', marker='o')\n",
    "plt.plot(a_acc, label='Active Learning', color='green', linewidth=2, linestyle='--', marker='x')\n",
    "plt.plot(r_acc, label='Random Choice', color='red', linewidth=2, linestyle='-.', marker='s')\n",
    "\n",
    "# Add a title and labels\n",
    "plt.title(\"Accuracy development (monthly, 2022, n={})\".format(number), fontsize=26, fontweight='bold')\n",
    "plt.xlabel(\"Month\", fontsize=25)\n",
    "plt.ylabel(\"Value\", fontsize=25)\n",
    "\n",
    "# Customize the grid and style\n",
    "plt.grid(True, linestyle='--', color='gray', alpha=0.7)\n",
    "\n",
    "# Add a legend\n",
    "plt.legend(title='Legend', loc='lower right', fontsize=12)\n",
    "\n",
    "xtick_positions = [0, 1, 2, 3, 4, 5, 6, 7, 8, 9, 10, 11]  # Positions on the x-axis\n",
    "xtick_labels = ['Jan', 'Feb', 'Mar', 'Apr', 'May', 'Jun', 'Jul', 'Aug', 'Sep', 'Oct', 'Nov', 'Dec']\n",
    "plt.xticks(xtick_positions, xtick_labels, fontsize=15)  # Assign custom xticklabels\n",
    "\n",
    "# Customize the x and y axis limits (optional)\n",
    "plt.xlim([0, 11])\n",
    "plt.ylim([-0.1, 1.01])\n",
    "\n",
    "# Add a tight layout\n",
    "plt.tight_layout()\n",
    "\n",
    "# Display the plot\n",
    "#plt.savefig(\"figures/accuracy_2022_{}.pdf\".format(number), dpi=300, transparent=True)\n",
    "plt.show()\n"
   ],
   "id": "721aab05ebc2840d",
   "outputs": [
    {
     "data": {
      "text/plain": [
       "<Figure size 800x500 with 1 Axes>"
      ],
      "image/png": "[encoded data removed]"
     },
     "metadata": {},
     "output_type": "display_data",
     "jetTransient": {
      "display_id": null
     }
    }
   ],
   "execution_count": 36
  },
  {
   "metadata": {
    "ExecuteTime": {
     "end_time": "2025-09-25T19:46:53.851509Z",
     "start_time": "2025-09-25T19:46:53.704509Z"
    }
   },
   "cell_type": "code",
   "source": [
    "import matplotlib.pyplot as plt\n",
    "import numpy as np\n",
    "\n",
    "\n",
    "\n",
    "\n",
    "# Create the plot\n",
    "plt.figure(figsize=(10, 6))  # Set figure size\n",
    "\n",
    "# Plot the three lines with custom styles\n",
    "plt.plot(b_prec, label='Baseline (no labeling)', color='blue', linewidth=2, linestyle='-', marker='o')\n",
    "plt.plot(a_prec, label='Active Learning', color='green', linewidth=2, linestyle='--', marker='x')\n",
    "plt.plot(r_prec, label='Random Choice', color='red', linewidth=2, linestyle='-.', marker='s')\n",
    "\n",
    "# Add a title and labels\n",
    "plt.title(\"Precision development (monthly, 2022, n={})\".format(number), fontsize=26, fontweight='bold')\n",
    "plt.xlabel(\"Month\", fontsize=25)\n",
    "plt.ylabel(\"Value\", fontsize=25)\n",
    "\n",
    "# Customize the grid and style\n",
    "plt.grid(True, linestyle='--', color='gray', alpha=0.7)\n",
    "\n",
    "# Add a legend\n",
    "plt.legend(title='Legend', loc='lower right', fontsize=12)\n",
    "\n",
    "xtick_positions = [0, 1, 2, 3, 4, 5, 6, 7, 8, 9, 10, 11]  # Positions on the x-axis\n",
    "xtick_labels = ['Jan', 'Feb', 'Mar', 'Apr', 'May', 'Jun', 'Jul', 'Aug', 'Sep', 'Oct', 'Nov', 'Dec']\n",
    "plt.xticks(xtick_positions, xtick_labels, fontsize=15)  # Assign custom xticklabels\n",
    "\n",
    "# Customize the x and y axis limits (optional)\n",
    "plt.xlim([0, 11])\n",
    "plt.ylim([-0.1, 1.01])\n",
    "\n",
    "# Add a tight layout\n",
    "plt.tight_layout()\n",
    "\n",
    "# Display the plot\n",
    "#plt.savefig(\"figures/precision_2022_{}.pdf\".format(number), dpi=300, transparent=True)\n",
    "plt.show()"
   ],
   "id": "8397326a797d64ba",
   "outputs": [
    {
     "data": {
      "text/plain": [
       "<Figure size 1000x600 with 1 Axes>"
      ],
      "image/png": "[encoded data removed]"
     },
     "metadata": {},
     "output_type": "display_data",
     "jetTransient": {
      "display_id": null
     }
    }
   ],
   "execution_count": 37
  },
  {
   "metadata": {
    "ExecuteTime": {
     "end_time": "2025-09-25T19:46:54.022509Z",
     "start_time": "2025-09-25T19:46:53.882509Z"
    }
   },
   "cell_type": "code",
   "source": [
    "import matplotlib.pyplot as plt\n",
    "import numpy as np\n",
    "\n",
    "# Data for three lines\n",
    "x = np.linspace(0, 12, 1)  # Generate 100 points between 0 and 10\n",
    "y1 = b_acc               # First line (sine wave)\n",
    "y2 = a_acc               # Second line (cosine wave)\n",
    "y3 = r_acc           # Third line (tangent wave scaled down)\n",
    "\n",
    "# Create the plot\n",
    "plt.figure(figsize=(8, 5))  # Set figure size\n",
    "\n",
    "# Plot the three lines with custom styles\n",
    "plt.plot(b_rec, label='Baseline (no labeling)', color='blue', linewidth=2, linestyle='-', marker='o')\n",
    "plt.plot(a_rec, label='Active Learning', color='green', linewidth=2, linestyle='--', marker='x')\n",
    "plt.plot(r_rec, label='Random Choice', color='red', linewidth=2, linestyle='-.', marker='s')\n",
    "\n",
    "# Add a title and labels\n",
    "plt.title(\"Recall development (monthly, 2022, n={})\".format(number), fontsize=26, fontweight='bold')\n",
    "plt.xlabel(\"Month\", fontsize=25)\n",
    "plt.ylabel(\"Recall\", fontsize=25)\n",
    "\n",
    "# Customize the grid and style\n",
    "plt.grid(True, linestyle='--', color='gray', alpha=0.7)\n",
    "\n",
    "# Add a legend\n",
    "plt.legend(title='Legend', loc='lower right', fontsize=12)\n",
    "\n",
    "xtick_positions = [0, 1, 2, 3, 4, 5, 6, 7, 8, 9, 10, 11]  # Positions on the x-axis\n",
    "xtick_labels = ['Jan', 'Feb', 'Mar', 'Apr', 'May', 'Jun', 'Jul', 'Aug', 'Sep', 'Oct', 'Nov', 'Dec']\n",
    "plt.xticks(xtick_positions, xtick_labels, fontsize=15)  # Assign custom xticklabels\n",
    "\n",
    "# Customize the x and y axis limits (optional)\n",
    "plt.xlim([0, 11])\n",
    "plt.ylim([-0.1, 1.01])\n",
    "\n",
    "# Add a tight layout\n",
    "plt.tight_layout()\n",
    "\n",
    "# Display the plot\n",
    "#plt.savefig(\"figures/recall_2022_{}.pdf\".format(number), dpi=300, transparent=True)\n",
    "plt.show()"
   ],
   "id": "9c2050813c6d58b1",
   "outputs": [
    {
     "data": {
      "text/plain": [
       "<Figure size 800x500 with 1 Axes>"
      ],
      "image/png": "[encoded data removed]"
     },
     "metadata": {},
     "output_type": "display_data",
     "jetTransient": {
      "display_id": null
     }
    }
   ],
   "execution_count": 38
  },
  {
   "metadata": {
    "ExecuteTime": {
     "end_time": "2025-09-25T19:46:54.099437Z",
     "start_time": "2025-09-25T19:46:54.084437Z"
    }
   },
   "cell_type": "code",
   "source": [
    "imp_rec = []\n",
    "\n",
    "for i in range(len(a_rec)):\n",
    "    imp_rec.append(a_rec[i] / b_rec[i])\n",
    "\n",
    "\n",
    "print(imp_rec)"
   ],
   "id": "3348538180543526",
   "outputs": [
    {
     "name": "stdout",
     "output_type": "stream",
     "text": [
      "[1.0, 2.6666666666666665, 1.4285714285714284, 1.296296296296296, 5.333333333333334, 1.3333333333333333, 1.05, 1.0689655172413792, 1.0, 1.0, 1.5, 0.7857142857142858]\n"
     ]
    }
   ],
   "execution_count": 39
  },
  {
   "metadata": {
    "ExecuteTime": {
     "end_time": "2025-09-25T19:46:54.162438Z",
     "start_time": "2025-09-25T19:46:54.143438Z"
    }
   },
   "cell_type": "code",
   "source": [
    "b_miss = [len(df_2022_1) - int(b_acc[0]*len(df_2022_1)),\n",
    "              len(df_2022_2) - int(b_acc[1]*len(df_2022_2)),\n",
    "              len(df_2022_3) - int(b_acc[2]*len(df_2022_3)),\n",
    "              len(df_2022_4) - int(b_acc[3]*len(df_2022_4)),\n",
    "              len(df_2022_5) - int(b_acc[4]*len(df_2022_5)),\n",
    "              len(df_2022_6) - int(b_acc[5]*len(df_2022_6)),\n",
    "              len(df_2022_7) - int(b_acc[6]*len(df_2022_7)),\n",
    "              len(df_2022_8) - int(b_acc[7]*len(df_2022_8)),\n",
    "              len(df_2022_9) - int(b_acc[8]*len(df_2022_9)),\n",
    "              len(df_2022_10) - int(b_acc[9]*len(df_2022_10)),\n",
    "              len(df_2022_11) - int(b_acc[10]*len(df_2022_11)),\n",
    "              len(df_2022_12) - int(b_acc[11]*len(df_2022_12))]\n",
    "\n",
    "\n",
    "a_miss = [len(df_2022_1) - int(a_acc[0]*len(df_2022_1)),\n",
    "              len(df_2022_2) - int(a_acc[1]*len(df_2022_2)),\n",
    "              len(df_2022_3) - int(a_acc[2]*len(df_2022_3)),\n",
    "              len(df_2022_4) - int(a_acc[3]*len(df_2022_4)),\n",
    "              len(df_2022_5) - int(a_acc[4]*len(df_2022_5)),\n",
    "              len(df_2022_6) - int(a_acc[5]*len(df_2022_6)),\n",
    "              len(df_2022_7) - int(a_acc[6]*len(df_2022_7)),\n",
    "              len(df_2022_8) - int(a_acc[7]*len(df_2022_8)),\n",
    "              len(df_2022_9) - int(a_acc[8]*len(df_2022_9)),\n",
    "              len(df_2022_10) - int(a_acc[9]*len(df_2022_10)),\n",
    "              len(df_2022_11) - int(a_acc[10]*len(df_2022_11)),\n",
    "              len(df_2022_12) - int(a_acc[11]*len(df_2022_12))]\n",
    "\n",
    "r_miss = [len(df_2022_1) - int(r_acc[0]*len(df_2022_1)),\n",
    "              len(df_2022_2) - int(r_acc[1]*len(df_2022_2)),\n",
    "              len(df_2022_3) - int(r_acc[2]*len(df_2022_3)),\n",
    "              len(df_2022_4) - int(r_acc[3]*len(df_2022_4)),\n",
    "              len(df_2022_5) - int(r_acc[4]*len(df_2022_5)),\n",
    "              len(df_2022_6) - int(r_acc[5]*len(df_2022_6)),\n",
    "              len(df_2022_7) - int(r_acc[6]*len(df_2022_7)),\n",
    "              len(df_2022_8) - int(r_acc[7]*len(df_2022_8)),\n",
    "              len(df_2022_9) - int(r_acc[8]*len(df_2022_9)),\n",
    "              len(df_2022_10) - int(r_acc[9]*len(df_2022_10)),\n",
    "              len(df_2022_11) - int(r_acc[10]*len(df_2022_11)),\n",
    "              len(df_2022_12) - int(r_acc[11]*len(df_2022_12))]\n"
   ],
   "id": "63cdf0d381a980db",
   "outputs": [],
   "execution_count": 40
  },
  {
   "metadata": {
    "ExecuteTime": {
     "end_time": "2025-09-25T19:46:54.224437Z",
     "start_time": "2025-09-25T19:46:54.220436Z"
    }
   },
   "cell_type": "code",
   "source": [
    "def cumulative_sum(input_list):\n",
    "    result_list = []  # Initialize an empty list to store the result\n",
    "    cumulative_sum = 0  # Variable to keep track of the cumulative sum\n",
    "\n",
    "    # Iterate over the input list\n",
    "    for i in range(len(input_list)):\n",
    "        cumulative_sum += input_list[i]  # Add the current value to the cumulative sum\n",
    "        result_list.append(cumulative_sum)  # Append the cumulative sum to the result list\n",
    "\n",
    "    return result_list\n",
    "\n",
    "a_miss_tot = cumulative_sum(a_miss)\n",
    "b_miss_tot = cumulative_sum(b_miss)\n",
    "r_miss_tot = cumulative_sum(r_miss)\n"
   ],
   "id": "f5d0527872a83f77",
   "outputs": [],
   "execution_count": 41
  },
  {
   "metadata": {
    "ExecuteTime": {
     "end_time": "2025-09-25T19:46:54.411438Z",
     "start_time": "2025-09-25T19:46:54.262437Z"
    }
   },
   "cell_type": "code",
   "source": [
    "import matplotlib.pyplot as plt\n",
    "import numpy as np\n",
    "\n",
    "# Data for three lines\n",
    "x = np.linspace(0, 12, 1)  # Generate 100 points between 0 and 10\n",
    "y1 = b_acc               # First line (sine wave)\n",
    "y2 = a_acc               # Second line (cosine wave)\n",
    "y3 = r_acc           # Third line (tangent wave scaled down)\n",
    "\n",
    "# Create the plot\n",
    "plt.figure(figsize=(8, 5))  # Set figure size\n",
    "\n",
    "# Plot the three lines with custom styles\n",
    "plt.plot(b_miss_tot, label='Baseline (no labeling)', color='blue', linewidth=2, linestyle='-', marker='o')\n",
    "plt.plot(a_miss_tot, label='Active Learning', color='green', linewidth=2, linestyle='--', marker='x')\n",
    "plt.plot(r_miss_tot, label='Random Choice', color='red', linewidth=2, linestyle='-.', marker='s')\n",
    "\n",
    "# Add a title and labels\n",
    "plt.title(\"Cumulative Errors (monthly, 2022, n={})\".format(number), fontsize=26, fontweight='bold')\n",
    "plt.xlabel(\"Month\", fontsize=25)\n",
    "plt.ylabel(\"Misclassifications\", fontsize=25)\n",
    "\n",
    "# Customize the grid and style\n",
    "plt.grid(True, linestyle='--', color='gray', alpha=0.7)\n",
    "\n",
    "# Add a legend\n",
    "plt.legend(title='Legend', loc='lower right', fontsize=12)\n",
    "\n",
    "xtick_positions = [0, 1, 2, 3, 4, 5, 6, 7, 8, 9, 10, 11]  # Positions on the x-axis\n",
    "xtick_labels = ['Jan', 'Feb', 'Mar', 'Apr', 'May', 'Jun', 'Jul', 'Aug', 'Sep', 'Oct', 'Nov', 'Dec']\n",
    "plt.xticks(xtick_positions, xtick_labels, fontsize=15)  # Assign custom xticklabels\n",
    "\n",
    "# Customize the x and y axis limits (optional)\n",
    "plt.xlim([0, 11])\n",
    "plt.ylim([0, 800])\n",
    "\n",
    "# Add a tight layout\n",
    "plt.tight_layout()\n",
    "\n",
    "# Display the plot\n",
    "#plt.savefig(\"figures/errors_2022_{}.pdf\".format(number), dpi=300, transparent=True)\n",
    "plt.show()"
   ],
   "id": "fbc76b580441ebfa",
   "outputs": [
    {
     "data": {
      "text/plain": [
       "<Figure size 800x500 with 1 Axes>"
      ],
      "image/png": "[encoded data removed]"
     },
     "metadata": {},
     "output_type": "display_data",
     "jetTransient": {
      "display_id": null
     }
    }
   ],
   "execution_count": 42
  },
  {
   "metadata": {},
   "cell_type": "code",
   "outputs": [],
   "execution_count": null,
   "source": "",
   "id": "6b1258a9c5742a71"
  },
  {
   "metadata": {},
   "cell_type": "code",
   "outputs": [],
   "execution_count": null,
   "source": "",
   "id": "4f50c415ac9707d7"
  }
 ],
 "metadata": {
  "kernelspec": {
   "display_name": "Python 3",
   "language": "python",
   "name": "python3"
  },
  "language_info": {
   "codemirror_mode": {
    "name": "ipython",
    "version": 2
   },
   "file_extension": ".py",
   "mimetype": "text/x-python",
   "name": "python",
   "nbconvert_exporter": "python",
   "pygments_lexer": "ipython2",
   "version": "2.7.6"
  }
 },
 "nbformat": 4,
 "nbformat_minor": 5
}
